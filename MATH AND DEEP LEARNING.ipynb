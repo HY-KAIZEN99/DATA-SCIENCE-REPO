{
 "cells": [
  {
   "cell_type": "code",
   "execution_count": 1,
   "id": "161248db-b882-4f8b-9e1f-fde22ed6c9d7",
   "metadata": {},
   "outputs": [],
   "source": [
    "## MATHEMATICS (MATRIX, SCALARS AND LINEAR ALGEBRA)\n",
    "### VID 309 ARRAYS IN PYTHON"
   ]
  },
  {
   "cell_type": "code",
   "execution_count": 2,
   "id": "039b77a5-71ec-427a-84e7-ade56b96ebcd",
   "metadata": {},
   "outputs": [],
   "source": [
    "import numpy as np"
   ]
  },
  {
   "cell_type": "markdown",
   "id": "2e35987f-1763-483b-992c-5bd1f25f5782",
   "metadata": {},
   "source": [
    "#### Declaring scalers, vectors and matrices"
   ]
  },
  {
   "cell_type": "code",
   "execution_count": 3,
   "id": "06d8e150-30f2-4f94-9588-6a5e42a2cb39",
   "metadata": {},
   "outputs": [
    {
     "data": {
      "text/plain": [
       "5"
      ]
     },
     "execution_count": 3,
     "metadata": {},
     "output_type": "execute_result"
    }
   ],
   "source": [
    "# SCALERS\n",
    "# in many programming language an int or a float will do in defining a scaler\n",
    "s = 5\n",
    "s"
   ]
  },
  {
   "cell_type": "code",
   "execution_count": 4,
   "id": "f27ecbff-df71-4572-89b1-b8cf87fd67a5",
   "metadata": {},
   "outputs": [
    {
     "data": {
      "text/plain": [
       "array([ 5, -2,  4])"
      ]
     },
     "execution_count": 4,
     "metadata": {},
     "output_type": "execute_result"
    }
   ],
   "source": [
    "# VECTORS\n",
    "v = np.array([5,-2,4])\n",
    "v\n",
    "# by default v is a row vector "
   ]
  },
  {
   "cell_type": "code",
   "execution_count": 5,
   "id": "52c14fcd-5913-4ada-b091-d8d694dc2142",
   "metadata": {},
   "outputs": [
    {
     "data": {
      "text/plain": [
       "array([[ 5, 12,  6],\n",
       "       [-3,  0, 14]])"
      ]
     },
     "execution_count": 5,
     "metadata": {},
     "output_type": "execute_result"
    }
   ],
   "source": [
    "# MATRIX\n",
    "m = np.array([[5,12,6],[-3,0,14]])\n",
    "m"
   ]
  },
  {
   "cell_type": "markdown",
   "id": "31e5f9ff-6d1a-40cc-a3b0-ccd6bcefab80",
   "metadata": {},
   "source": [
    "#### Data types"
   ]
  },
  {
   "cell_type": "code",
   "execution_count": 6,
   "id": "fdee044b-ace2-4f46-827f-0af54eed712c",
   "metadata": {},
   "outputs": [
    {
     "data": {
      "text/plain": [
       "int"
      ]
     },
     "execution_count": 6,
     "metadata": {},
     "output_type": "execute_result"
    }
   ],
   "source": [
    "type(s)"
   ]
  },
  {
   "cell_type": "code",
   "execution_count": 7,
   "id": "e174e17e-3860-47ad-9083-9fe724f701b6",
   "metadata": {},
   "outputs": [
    {
     "data": {
      "text/plain": [
       "numpy.ndarray"
      ]
     },
     "execution_count": 7,
     "metadata": {},
     "output_type": "execute_result"
    }
   ],
   "source": [
    "type(v)\n",
    "#1D array\n",
    "# nd - N dimensional array"
   ]
  },
  {
   "cell_type": "code",
   "execution_count": 8,
   "id": "7011155c-dceb-40a9-84b1-2cf3b3832624",
   "metadata": {},
   "outputs": [
    {
     "data": {
      "text/plain": [
       "numpy.ndarray"
      ]
     },
     "execution_count": 8,
     "metadata": {},
     "output_type": "execute_result"
    }
   ],
   "source": [
    "type(m)\n",
    "#2D array"
   ]
  },
  {
   "cell_type": "code",
   "execution_count": 9,
   "id": "2f1386c6-2293-4830-8896-9f60403eb4ed",
   "metadata": {},
   "outputs": [
    {
     "data": {
      "text/plain": [
       "array(5)"
      ]
     },
     "execution_count": 9,
     "metadata": {},
     "output_type": "execute_result"
    }
   ],
   "source": [
    "# To change s from int type to nd array\n",
    "s_array = np.array(s)\n",
    "s_array"
   ]
  },
  {
   "cell_type": "code",
   "execution_count": 10,
   "id": "dea05f11-2ea8-4522-b8c8-c878cc4122a0",
   "metadata": {},
   "outputs": [
    {
     "data": {
      "text/plain": [
       "numpy.ndarray"
      ]
     },
     "execution_count": 10,
     "metadata": {},
     "output_type": "execute_result"
    }
   ],
   "source": [
    "type(s_array)"
   ]
  },
  {
   "cell_type": "markdown",
   "id": "ec2bc2f9-e8ba-44ba-be17-876aa10abaab",
   "metadata": {},
   "source": [
    "#### Data Shapes (shapes of the variable)"
   ]
  },
  {
   "cell_type": "code",
   "execution_count": 11,
   "id": "13d0547a-fbfe-45f9-8d5d-ea02c582826a",
   "metadata": {},
   "outputs": [],
   "source": [
    "# NOTE: In pythin and within numpy integers or floats and arrays with one element behave in the same way regarding linear algebraic operations\n",
    "# A METHOD CALLED shape- returns the shape(dimensions) of a variable"
   ]
  },
  {
   "cell_type": "code",
   "execution_count": 12,
   "id": "17c1cccf-2ec3-4a9e-bc57-2339856783bc",
   "metadata": {},
   "outputs": [
    {
     "data": {
      "text/plain": [
       "(2, 3)"
      ]
     },
     "execution_count": 12,
     "metadata": {},
     "output_type": "execute_result"
    }
   ],
   "source": [
    "m.shape\n",
    "# 2 rows nd 3 columns"
   ]
  },
  {
   "cell_type": "code",
   "execution_count": 13,
   "id": "ebf4e953-eb09-44e7-90eb-e730df0aeebb",
   "metadata": {},
   "outputs": [
    {
     "data": {
      "text/plain": [
       "(3,)"
      ]
     },
     "execution_count": 13,
     "metadata": {},
     "output_type": "execute_result"
    }
   ],
   "source": [
    "v.shape\n",
    "# 3 rows"
   ]
  },
  {
   "cell_type": "markdown",
   "id": "2598b2b1-776b-4765-9d13-dc985b64c1ac",
   "metadata": {},
   "source": [
    "#### Creating a column vector"
   ]
  },
  {
   "cell_type": "code",
   "execution_count": 14,
   "id": "12d49a0d-899f-4532-8658-de927d966bbe",
   "metadata": {},
   "outputs": [
    {
     "data": {
      "text/plain": [
       "array([[ 5, -2,  4]])"
      ]
     },
     "execution_count": 14,
     "metadata": {},
     "output_type": "execute_result"
    }
   ],
   "source": [
    "# depending on our need we can use the (reshape) method to \n",
    "# reshape- method gives an array a new shape, without changing its data\n",
    "v.reshape(1,3)\n",
    "# reshape(1,3) reshapes into row vector\n",
    "# in this case it has 2 possibilities (1,3) or (3,1)"
   ]
  },
  {
   "cell_type": "code",
   "execution_count": 15,
   "id": "5152ffeb-e5b4-4d27-adf3-6a7b961adf08",
   "metadata": {},
   "outputs": [
    {
     "data": {
      "text/plain": [
       "array([[ 5],\n",
       "       [-2],\n",
       "       [ 4]])"
      ]
     },
     "execution_count": 15,
     "metadata": {},
     "output_type": "execute_result"
    }
   ],
   "source": [
    "v.reshape(3,1)\n",
    "# reshape(1,3) reshapes into column vector"
   ]
  },
  {
   "cell_type": "code",
   "execution_count": 16,
   "id": "9c783f16-227b-482a-a871-40cf656b706f",
   "metadata": {},
   "outputs": [],
   "source": [
    "# s.shape\n",
    "# AttributeError: 'int' object has no attribute 'shape' -this is bc 'int' objects have no shape"
   ]
  },
  {
   "cell_type": "code",
   "execution_count": 17,
   "id": "9dee41fa-9bd9-4e0b-9d04-4e916d61c9ba",
   "metadata": {},
   "outputs": [
    {
     "data": {
      "text/plain": [
       "()"
      ]
     },
     "execution_count": 17,
     "metadata": {},
     "output_type": "execute_result"
    }
   ],
   "source": [
    "s_array.shape\n",
    "# this gives a () bc zero dimension objects dont have shapes"
   ]
  },
  {
   "cell_type": "markdown",
   "id": "63d40c6b-5bac-48f6-beab-dde915d8bc34",
   "metadata": {},
   "source": [
    "#### creating a tensor"
   ]
  },
  {
   "cell_type": "code",
   "execution_count": 18,
   "id": "75780293-7038-40c1-bd1d-a9618966d6ae",
   "metadata": {},
   "outputs": [
    {
     "data": {
      "text/plain": [
       "array([[ 5, 12, 16],\n",
       "       [-3,  0, 14]])"
      ]
     },
     "execution_count": 18,
     "metadata": {},
     "output_type": "execute_result"
    }
   ],
   "source": [
    "m1 = np.array([[5,12,16],[-3,0,14]])\n",
    "m1"
   ]
  },
  {
   "cell_type": "code",
   "execution_count": 19,
   "id": "0a4dba90-41ff-4a2e-804f-7258591ba1a4",
   "metadata": {},
   "outputs": [
    {
     "data": {
      "text/plain": [
       "array([[ 9,  8,  7],\n",
       "       [ 1,  3, -5]])"
      ]
     },
     "execution_count": 19,
     "metadata": {},
     "output_type": "execute_result"
    }
   ],
   "source": [
    "m2=np.array([[9,8,7],[1,3,-5]])\n",
    "m2"
   ]
  },
  {
   "cell_type": "code",
   "execution_count": 20,
   "id": "ad905121-7b98-497b-aa39-7c16de519efc",
   "metadata": {},
   "outputs": [
    {
     "data": {
      "text/plain": [
       "array([[[ 5, 12, 16],\n",
       "        [-3,  0, 14]],\n",
       "\n",
       "       [[ 9,  8,  7],\n",
       "        [ 1,  3, -5]]])"
      ]
     },
     "execution_count": 20,
     "metadata": {},
     "output_type": "execute_result"
    }
   ],
   "source": [
    "# creating a tensor out of 2 matrices\n",
    "t= np.array([m1,m2])\n",
    "t"
   ]
  },
  {
   "cell_type": "markdown",
   "id": "44f65112-8b1b-434c-ad18-accb3fcf533e",
   "metadata": {},
   "source": [
    "#### Creating a tensor manually"
   ]
  },
  {
   "cell_type": "code",
   "execution_count": 21,
   "id": "0445d89d-5dac-424a-9ad0-b12dc063e754",
   "metadata": {},
   "outputs": [
    {
     "data": {
      "text/plain": [
       "array([[[ 5, 12, 16],\n",
       "        [-3,  0, 14],\n",
       "        [ 9,  8,  7],\n",
       "        [ 1,  3, -5]]])"
      ]
     },
     "execution_count": 21,
     "metadata": {},
     "output_type": "execute_result"
    }
   ],
   "source": [
    "T_manual= np.array([[[5,12,16],[-3,0,14],[9,8,7],[1,3,-5]]])\n",
    "T_manual\n",
    "# Tensors with lots of element are usually hard to create not only bc their are many elements but bc of the comfusing brackets\n",
    "# usually we would load, transform and preprocess the data to get tensors"
   ]
  },
  {
   "cell_type": "markdown",
   "id": "3a19aa5f-04a2-42e1-965e-133967df9b12",
   "metadata": {},
   "source": [
    "## VID 311 ADDITION AND SUBTRACTION OF MATRICES IN PYTHON\n",
    "#### THE MATRICES MUST HAVE THE SAME DIMENSION"
   ]
  },
  {
   "cell_type": "code",
   "execution_count": 22,
   "id": "46613650-d910-4733-8551-ba354d185255",
   "metadata": {},
   "outputs": [
    {
     "data": {
      "text/plain": [
       "array([[ 5, 12, 16],\n",
       "       [-3,  0, 14]])"
      ]
     },
     "execution_count": 22,
     "metadata": {},
     "output_type": "execute_result"
    }
   ],
   "source": [
    "m1 = np.array([[5,12,16],[-3,0,14]])\n",
    "m1"
   ]
  },
  {
   "cell_type": "code",
   "execution_count": 23,
   "id": "23bc4740-a220-4250-b7b1-5f589a53213f",
   "metadata": {},
   "outputs": [
    {
     "data": {
      "text/plain": [
       "array([[ 9,  8,  7],\n",
       "       [ 1,  3, -5]])"
      ]
     },
     "execution_count": 23,
     "metadata": {},
     "output_type": "execute_result"
    }
   ],
   "source": [
    "m2=np.array([[9,8,7],[1,3,-5]])\n",
    "m2"
   ]
  },
  {
   "cell_type": "markdown",
   "id": "914046ee-634a-45c6-be29-de3ec9090812",
   "metadata": {},
   "source": [
    "##### ADDITION"
   ]
  },
  {
   "cell_type": "code",
   "execution_count": 24,
   "id": "d9177977-66fe-4153-9248-2e86d3ce2255",
   "metadata": {},
   "outputs": [
    {
     "data": {
      "text/plain": [
       "array([[14, 20, 23],\n",
       "       [-2,  3,  9]])"
      ]
     },
     "execution_count": 24,
     "metadata": {},
     "output_type": "execute_result"
    }
   ],
   "source": [
    "m1+m2"
   ]
  },
  {
   "cell_type": "markdown",
   "id": "58d40f2a-88ee-41c0-8dca-7b8ce2dad8e7",
   "metadata": {},
   "source": [
    "#### SUBTRACTION"
   ]
  },
  {
   "cell_type": "code",
   "execution_count": 25,
   "id": "b73e2bf3-4c7b-48bf-9d40-b342f436dd10",
   "metadata": {},
   "outputs": [
    {
     "data": {
      "text/plain": [
       "array([[-4,  4,  9],\n",
       "       [-4, -3, 19]])"
      ]
     },
     "execution_count": 25,
     "metadata": {},
     "output_type": "execute_result"
    }
   ],
   "source": [
    "# NOTE: SAME THING APPLIES FOR VECTORS AND EVEN FLOATS as elements\n",
    "m1-m2"
   ]
  },
  {
   "cell_type": "code",
   "execution_count": 26,
   "id": "17717173-e243-4430-a34c-2e88e985a81b",
   "metadata": {},
   "outputs": [
    {
     "data": {
      "text/plain": [
       "array([[ 5,  3],\n",
       "       [-2,  4]])"
      ]
     },
     "execution_count": 26,
     "metadata": {},
     "output_type": "execute_result"
    }
   ],
   "source": [
    "a=np.array([[5,3],[-2,4]])\n",
    "a"
   ]
  },
  {
   "cell_type": "code",
   "execution_count": 27,
   "id": "bbf75065-4d4b-4787-b68a-4a20555d44e2",
   "metadata": {},
   "outputs": [
    {
     "data": {
      "text/plain": [
       "array([[ 7, -5],\n",
       "       [ 3,  8]])"
      ]
     },
     "execution_count": 27,
     "metadata": {},
     "output_type": "execute_result"
    }
   ],
   "source": [
    "b=np.array([[7,-5],[3,8]])\n",
    "b"
   ]
  },
  {
   "cell_type": "code",
   "execution_count": 28,
   "id": "4c3fb35d-f71e-40d8-bc3f-762233df93f2",
   "metadata": {},
   "outputs": [
    {
     "data": {
      "text/plain": [
       "array([[-2,  8],\n",
       "       [-5, -4]])"
      ]
     },
     "execution_count": 28,
     "metadata": {},
     "output_type": "execute_result"
    }
   ],
   "source": [
    "a-b"
   ]
  },
  {
   "cell_type": "markdown",
   "id": "2c4aca79-ef66-41cf-9052-1b9b08a2c464",
   "metadata": {},
   "source": [
    "#### ADDING VECTORS"
   ]
  },
  {
   "cell_type": "code",
   "execution_count": 29,
   "id": "fef4c1fc-c504-4e74-94fb-9976c0963880",
   "metadata": {},
   "outputs": [],
   "source": [
    "# same rule applies to vectors"
   ]
  },
  {
   "cell_type": "markdown",
   "id": "46e67d04-3907-469c-9156-5232b8d80911",
   "metadata": {},
   "source": [
    "### VID 312 ERROR WHEN ADDING MATRICES\n",
    "#### Exceptions (exception to the equal dimension rule is the addition with a scalar)"
   ]
  },
  {
   "cell_type": "code",
   "execution_count": 30,
   "id": "30f27a93-262e-4ea6-a1a7-96f8d12e7806",
   "metadata": {},
   "outputs": [
    {
     "data": {
      "text/plain": [
       "array([[ 5, 12, 16],\n",
       "       [-3,  0, 14]])"
      ]
     },
     "execution_count": 30,
     "metadata": {},
     "output_type": "execute_result"
    }
   ],
   "source": [
    "# WHEN YOU ADD A SCALAR TO A VECTOR OR MATRIX, IT IS ADDED ELEMENT-WISE\n",
    "# the results have a meaning in terms of arrays but not in terms of linear algebra\n",
    "\n",
    "m1"
   ]
  },
  {
   "cell_type": "code",
   "execution_count": 31,
   "id": "f2f5b24e-d87e-4ac6-a2a8-3a409708d2a6",
   "metadata": {},
   "outputs": [
    {
     "data": {
      "text/plain": [
       "array([[ 6, 13, 17],\n",
       "       [-2,  1, 15]])"
      ]
     },
     "execution_count": 31,
     "metadata": {},
     "output_type": "execute_result"
    }
   ],
   "source": [
    "m1+1"
   ]
  },
  {
   "cell_type": "code",
   "execution_count": 32,
   "id": "8d9295ae-5984-4663-9d34-a4d374db68b3",
   "metadata": {},
   "outputs": [
    {
     "data": {
      "text/plain": [
       "array([3, 4, 5])"
      ]
     },
     "execution_count": 32,
     "metadata": {},
     "output_type": "execute_result"
    }
   ],
   "source": [
    "q=np.array([2,3,4])\n",
    "q+1"
   ]
  },
  {
   "cell_type": "code",
   "execution_count": 33,
   "id": "70d14051-2ae9-40cf-b910-6d7ba00e5cc0",
   "metadata": {},
   "outputs": [
    {
     "data": {
      "text/plain": [
       "array([[ 6, 13, 17],\n",
       "       [-2,  1, 15]])"
      ]
     },
     "execution_count": 33,
     "metadata": {},
     "output_type": "execute_result"
    }
   ],
   "source": [
    "# the results have a meaning in terms of arrays but not in terms of linear algebra, that is also one of the big differences bw the concpts of ndarrays\n",
    "# and tensors\n",
    "m1+ np.array([1])"
   ]
  },
  {
   "cell_type": "markdown",
   "id": "810e6ca8-e2c8-4ad3-8402-8e472bfe1703",
   "metadata": {},
   "source": [
    "### VID 313 Transpose of a matrix"
   ]
  },
  {
   "cell_type": "code",
   "execution_count": 34,
   "id": "1912f880-cbf5-491b-ba13-ede2dd0d7fa2",
   "metadata": {},
   "outputs": [],
   "source": [
    "# tranposing row and column vectors\n",
    "# IF you transpose a column vector u get a row vector\n",
    "# to transpose we say (ndarray.T)\n",
    "# IMPORTANT CONSIDERATIONS IN WHEN TRANSPOSING A MATRIX:\n",
    " # 1. Their values are not changing or transforming, only their positions is\n",
    " # 2. transposing same vector 2x yields the initial vector\n",
    " # 3. Transposing a 3 by 1 matrix yields 1 by 3 matrix ie it turns all its rows into columns and vice versa"
   ]
  },
  {
   "cell_type": "code",
   "execution_count": 35,
   "id": "0c0abca0-ec68-42e7-b2e0-2dcaec608930",
   "metadata": {},
   "outputs": [
    {
     "data": {
      "text/plain": [
       "array([[ 5, 12, 16],\n",
       "       [-3,  0, 14]])"
      ]
     },
     "execution_count": 35,
     "metadata": {},
     "output_type": "execute_result"
    }
   ],
   "source": [
    "m1"
   ]
  },
  {
   "cell_type": "code",
   "execution_count": 36,
   "id": "d73e0277-37b1-4510-9e38-e55a6d8a6878",
   "metadata": {},
   "outputs": [
    {
     "data": {
      "text/plain": [
       "array([[ 5, -3],\n",
       "       [12,  0],\n",
       "       [16, 14]])"
      ]
     },
     "execution_count": 36,
     "metadata": {},
     "output_type": "execute_result"
    }
   ],
   "source": [
    "m1.T"
   ]
  },
  {
   "cell_type": "code",
   "execution_count": 37,
   "id": "eeb18002-6d7a-4939-8468-5bf1e49e7dd5",
   "metadata": {},
   "outputs": [
    {
     "data": {
      "text/plain": [
       "array([[ 9,  8,  7],\n",
       "       [ 1,  3, -5]])"
      ]
     },
     "execution_count": 37,
     "metadata": {},
     "output_type": "execute_result"
    }
   ],
   "source": [
    "m2"
   ]
  },
  {
   "cell_type": "code",
   "execution_count": 38,
   "id": "ac794e48-7f11-4b7f-bcda-4394d9e6fb22",
   "metadata": {},
   "outputs": [
    {
     "data": {
      "text/plain": [
       "array([[ 9,  1],\n",
       "       [ 8,  3],\n",
       "       [ 7, -5]])"
      ]
     },
     "execution_count": 38,
     "metadata": {},
     "output_type": "execute_result"
    }
   ],
   "source": [
    "m2.T"
   ]
  },
  {
   "cell_type": "markdown",
   "id": "a115f39b-430a-4872-864a-619def3b0523",
   "metadata": {},
   "source": [
    "### Transposing scalars"
   ]
  },
  {
   "cell_type": "code",
   "execution_count": 39,
   "id": "c738726e-c8fe-4c42-b3f7-72821298f97c",
   "metadata": {},
   "outputs": [],
   "source": [
    "s=np.array([5])"
   ]
  },
  {
   "cell_type": "code",
   "execution_count": 40,
   "id": "07e5af14-e440-4a84-9aa9-20f72c4702f2",
   "metadata": {},
   "outputs": [
    {
     "data": {
      "text/plain": [
       "array([5])"
      ]
     },
     "execution_count": 40,
     "metadata": {},
     "output_type": "execute_result"
    }
   ],
   "source": [
    "s.T"
   ]
  },
  {
   "cell_type": "code",
   "execution_count": 41,
   "id": "7a445b04-28f6-4d5c-b64f-a5835a25eb97",
   "metadata": {},
   "outputs": [
    {
     "data": {
      "text/plain": [
       "array([2, 3, 4])"
      ]
     },
     "execution_count": 41,
     "metadata": {},
     "output_type": "execute_result"
    }
   ],
   "source": [
    "# in python 1D arrays dont get transposed so Transposing a vector will give same result\n",
    "# but if we reshape into 3 by 1 matrix or 2D array then it can be transposed. THIS IS ANOTHER PECULIARITY U MUST REMEMBER WHEN WORKING WITH \n",
    "# NDARRAYS IN PYTHON\n",
    "q"
   ]
  },
  {
   "cell_type": "code",
   "execution_count": 42,
   "id": "45410296-7a6a-47b8-baaa-ad332b6a8a13",
   "metadata": {},
   "outputs": [
    {
     "data": {
      "text/plain": [
       "array([2, 3, 4])"
      ]
     },
     "execution_count": 42,
     "metadata": {},
     "output_type": "execute_result"
    }
   ],
   "source": [
    "q.T"
   ]
  },
  {
   "cell_type": "code",
   "execution_count": 43,
   "id": "e8502345-499c-4ff6-b8c3-cf1f054e8c64",
   "metadata": {},
   "outputs": [
    {
     "data": {
      "text/plain": [
       "(3,)"
      ]
     },
     "execution_count": 43,
     "metadata": {},
     "output_type": "execute_result"
    }
   ],
   "source": [
    "q.shape"
   ]
  },
  {
   "cell_type": "code",
   "execution_count": 44,
   "id": "4cd48524-7364-4b97-8b51-81bc64005a2c",
   "metadata": {},
   "outputs": [
    {
     "data": {
      "text/plain": [
       "array([[2, 3, 4]])"
      ]
     },
     "execution_count": 44,
     "metadata": {},
     "output_type": "execute_result"
    }
   ],
   "source": [
    "# if we reshape into 3 by 1 matrix or 2D array i will be able to transpose it though\n",
    "q.reshape(1,3)"
   ]
  },
  {
   "cell_type": "code",
   "execution_count": 45,
   "id": "e80a179e-172f-4e47-8878-9fa454a77869",
   "metadata": {},
   "outputs": [
    {
     "data": {
      "text/plain": [
       "array([[2],\n",
       "       [3],\n",
       "       [4]])"
      ]
     },
     "execution_count": 45,
     "metadata": {},
     "output_type": "execute_result"
    }
   ],
   "source": [
    "q.reshape(1,3).T"
   ]
  },
  {
   "cell_type": "markdown",
   "id": "f9036f3b-7887-4f17-9eee-7cee5cfc2f03",
   "metadata": {},
   "source": [
    "### VID 214 DOT PRODUCT (MULTIOLICATION)"
   ]
  },
  {
   "cell_type": "code",
   "execution_count": 46,
   "id": "8a458513-fb8e-4062-978b-a6ef13303e23",
   "metadata": {},
   "outputs": [
    {
     "data": {
      "text/plain": [
       "15"
      ]
     },
     "execution_count": 46,
     "metadata": {},
     "output_type": "execute_result"
    }
   ],
   "source": [
    "# SCALAR*SCALAR\n",
    "z=np.array(5)\n",
    "c=np.array(3)\n",
    "np.dot(z,c)"
   ]
  },
  {
   "cell_type": "code",
   "execution_count": 47,
   "id": "067d4df8-d672-433b-9333-217a79e3cc24",
   "metadata": {},
   "outputs": [],
   "source": [
    "# MULTIPLICATION OF VECTORS\n",
    "# To multiply vectors requires that both vectors have equal lenght and we can get either\n",
    "# 1 Dot or inner product or \n",
    "# outer or tensor product\n",
    "\n",
    "# DOT PRODUCT IS HEAVILY USED (ALSO CALLED SCALAR PRODUCT)\n",
    "# When you multiply two vectors u get a scalar\n",
    "# dot product is the sum of the products of the corresponding elements"
   ]
  },
  {
   "cell_type": "code",
   "execution_count": 48,
   "id": "e7b41090-f9e9-45e3-9f24-bef36020e2d1",
   "metadata": {},
   "outputs": [
    {
     "data": {
      "text/plain": [
       "-66"
      ]
     },
     "execution_count": 48,
     "metadata": {},
     "output_type": "execute_result"
    }
   ],
   "source": [
    "x= np.array([2,8,-4])\n",
    "y=np.array([1,-7,3])\n",
    "np.dot(x,y)"
   ]
  },
  {
   "cell_type": "markdown",
   "id": "97f096e4-7b23-41eb-8386-5c3c14f7d335",
   "metadata": {},
   "source": [
    "##### Scalar*Vector\n"
   ]
  },
  {
   "cell_type": "code",
   "execution_count": 49,
   "id": "0df2bd84-20a6-4b35-892e-44146425516c",
   "metadata": {},
   "outputs": [
    {
     "data": {
      "text/plain": [
       "array([ 10,  40, -20])"
      ]
     },
     "execution_count": 49,
     "metadata": {},
     "output_type": "execute_result"
    }
   ],
   "source": [
    "# this does not work for scalar-vector multiplication (np.dot(s,x)) instead\n",
    "s*x\n",
    "# the initial vector has been scaled 5x, multiplication by scalar doesnt change the shape but only the scale of the values"
   ]
  },
  {
   "cell_type": "markdown",
   "id": "468cce93-dd40-4b62-b043-97aa86e8f859",
   "metadata": {},
   "source": [
    "### VID 315 MATRIX MULTIPLICATION"
   ]
  },
  {
   "cell_type": "code",
   "execution_count": 50,
   "id": "b44cefe0-e254-461e-8ad0-021c96e189c0",
   "metadata": {},
   "outputs": [
    {
     "data": {
      "text/plain": [
       "array([[ 5, 12, 16],\n",
       "       [-3,  0, 14]])"
      ]
     },
     "execution_count": 50,
     "metadata": {},
     "output_type": "execute_result"
    }
   ],
   "source": [
    "m1"
   ]
  },
  {
   "cell_type": "code",
   "execution_count": 51,
   "id": "1da7d26e-910a-42eb-8e70-ba81e07083e1",
   "metadata": {},
   "outputs": [
    {
     "data": {
      "text/plain": [
       "array([5])"
      ]
     },
     "execution_count": 51,
     "metadata": {},
     "output_type": "execute_result"
    }
   ],
   "source": [
    "s"
   ]
  },
  {
   "cell_type": "code",
   "execution_count": 52,
   "id": "a3f761a6-e3b1-46dd-96b7-a1b9ba3f62f8",
   "metadata": {},
   "outputs": [
    {
     "data": {
      "text/plain": [
       "array([[ 25,  60,  80],\n",
       "       [-15,   0,  70]])"
      ]
     },
     "execution_count": 52,
     "metadata": {},
     "output_type": "execute_result"
    }
   ],
   "source": [
    "s*m1\n",
    "# we keep the shape and multiply each element by 3"
   ]
  },
  {
   "cell_type": "markdown",
   "id": "4b4f20ab-2081-4987-94ce-518be08bd308",
   "metadata": {},
   "source": [
    "##### matrix matrix multiplication"
   ]
  },
  {
   "cell_type": "code",
   "execution_count": 53,
   "id": "4e9d935b-53c8-4209-b79a-3bce2892c4eb",
   "metadata": {},
   "outputs": [],
   "source": [
    "# condition: we can only multiply an m by n matrix with an n X k matrix. \n",
    "# Basically the second dimension of the first matrix has to match the first dimension of the second matrix\n",
    "# so we can multiply a 2 x 3 matrix with a 3 X 1 matrix or 3x2 or 3x3 till 3xk matrices"
   ]
  },
  {
   "cell_type": "markdown",
   "id": "1c8a891b-752d-4a33-ab77-07ac646d2abd",
   "metadata": {},
   "source": [
    "#### Dimention of the product itself"
   ]
  },
  {
   "cell_type": "code",
   "execution_count": 54,
   "id": "6f50093d-6d38-4384-9073-d1924e96412d",
   "metadata": {},
   "outputs": [],
   "source": [
    "# when multiplying m x n matrix with an n x k matrix the output is an m x k matrix. so 2X3 dot 3by6 will give 2by 6 matrix\n",
    "# 3x4 mtrix and 4x2 matrix will give us a 3x2 matrix\n",
    "# basically which ever dimension is repeated will disappear in the resulting matrix"
   ]
  },
  {
   "cell_type": "code",
   "execution_count": 55,
   "id": "5c33d4f1-9605-48bb-9c6d-59ea52d162b4",
   "metadata": {},
   "outputs": [],
   "source": [
    "# how to actually multiply matrices\n",
    "# Lets say 2 column matrice [2,8,-4] and [1,-7,3] (actually they are vectors also or 3x1 matrices)\n",
    "# in other to multiply them they need to have matching forms(compatibility). to find there dot product we need to transpose the first vector to a\n",
    "# row vector this is done bc when we have a dot product we always multiply a row vector times a column vector"
   ]
  },
  {
   "cell_type": "code",
   "execution_count": 56,
   "id": "80cc805c-34b4-4ca7-a296-2da2016e865c",
   "metadata": {},
   "outputs": [],
   "source": [
    "# FIRST STEP CHECK THEIR COMPATIBILITY AND 2NDLY FIND THE SHAPE OF THE OUTPUT MATRIX (THE MATCHING DIMENSION DISAPPEARS)\n",
    "# REMEMBER: Matrices are nothing more than a colection of vectors and when we have a dot product we always multiply a row vector\n",
    "# by a column vector"
   ]
  },
  {
   "cell_type": "markdown",
   "id": "899900be-dc83-4634-a659-9c5ca813c46d",
   "metadata": {},
   "source": [
    "#### Marix*Matrix"
   ]
  },
  {
   "cell_type": "code",
   "execution_count": 57,
   "id": "699b25e1-6ed2-414e-8e83-3050d14366d2",
   "metadata": {},
   "outputs": [
    {
     "data": {
      "text/plain": [
       "array([[ 2, -1],\n",
       "       [ 8,  0],\n",
       "       [ 3,  0]])"
      ]
     },
     "execution_count": 57,
     "metadata": {},
     "output_type": "execute_result"
    }
   ],
   "source": [
    "B= np.array([[2,-1],[8,0],[3,0]])\n",
    "# B is 3x2\n",
    "B"
   ]
  },
  {
   "cell_type": "code",
   "execution_count": 58,
   "id": "2eb9b130-62e6-48bc-8b00-a73a91d6f3c4",
   "metadata": {},
   "outputs": [
    {
     "data": {
      "text/plain": [
       "array([[ 2,  8,  3],\n",
       "       [-1,  0,  0]])"
      ]
     },
     "execution_count": 58,
     "metadata": {},
     "output_type": "execute_result"
    }
   ],
   "source": [
    "D= B.T\n",
    "# D is 2x3\n",
    "D"
   ]
  },
  {
   "cell_type": "code",
   "execution_count": 59,
   "id": "cce1edc8-d3b0-4a31-a2af-9167aef22ac6",
   "metadata": {},
   "outputs": [
    {
     "data": {
      "text/plain": [
       "array([[77, -2],\n",
       "       [-2,  1]])"
      ]
     },
     "execution_count": 59,
     "metadata": {},
     "output_type": "execute_result"
    }
   ],
   "source": [
    "np.dot(D,B)\n",
    "# row of the first matrix will always multiply column of the second matrix"
   ]
  },
  {
   "cell_type": "code",
   "execution_count": 60,
   "id": "23e8dace-f50e-4109-a584-978e887436e6",
   "metadata": {},
   "outputs": [
    {
     "data": {
      "text/plain": [
       "array([[ 6, -1],\n",
       "       [ 8, -4],\n",
       "       [ 2, -2],\n",
       "       [ 7,  4],\n",
       "       [-6, -9]])"
      ]
     },
     "execution_count": 60,
     "metadata": {},
     "output_type": "execute_result"
    }
   ],
   "source": [
    "n=np.array([[6,-1],[8,-4],[2,-2],[7,4],[-6,-9]])\n",
    "# 5x2\n",
    "n"
   ]
  },
  {
   "cell_type": "code",
   "execution_count": 61,
   "id": "6cb46303-b0b6-418a-8aaa-bf1ad2984691",
   "metadata": {},
   "outputs": [
    {
     "data": {
      "text/plain": [
       "array([[12,  5, -5,  1,  6],\n",
       "       [ 6, -2,  0,  0, -3],\n",
       "       [10,  2,  0,  8,  0],\n",
       "       [ 9, -4,  8,  3, -6]])"
      ]
     },
     "execution_count": 61,
     "metadata": {},
     "output_type": "execute_result"
    }
   ],
   "source": [
    "u=np.array([[12,5,-5,1,6],[6,-2,0,0,-3],[10,2,0,8,0],[9,-4,8,3,-6]])\n",
    "# 4x5\n",
    "u"
   ]
  },
  {
   "cell_type": "code",
   "execution_count": 62,
   "id": "e6615527-0a16-4233-8120-766f498478ac",
   "metadata": {},
   "outputs": [
    {
     "data": {
      "text/plain": [
       "array([[ 73, -72],\n",
       "       [ 38,  29],\n",
       "       [132,  14],\n",
       "       [ 95,  57]])"
      ]
     },
     "execution_count": 62,
     "metadata": {},
     "output_type": "execute_result"
    }
   ],
   "source": [
    "np.dot(u,n)"
   ]
  },
  {
   "cell_type": "markdown",
   "id": "016c0cd0-8922-4d8e-8db0-70e97bbfc013",
   "metadata": {},
   "source": [
    "### VID 316 Why is lnear Algebra important \n",
    "#### Applications in data science"
   ]
  },
  {
   "cell_type": "code",
   "execution_count": 63,
   "id": "6092e5c4-4813-4618-ac26-0c3f9df0cecf",
   "metadata": {},
   "outputs": [],
   "source": [
    "# VECTORIZED CODE\n",
    "# IMAGE RECORGNITION\n",
    "# DIMENSIONALITY REDUCTION"
   ]
  },
  {
   "cell_type": "markdown",
   "id": "babf4be0-a6b1-4870-8f04-acbcb87f4001",
   "metadata": {},
   "source": [
    "## SECTION 45: DEEP LEARNING HW TO BUILD A NEURAL NETWORK\n",
    "#### VID 330 BASIC NN EXAMPLES (PART 1) "
   ]
  },
  {
   "cell_type": "markdown",
   "id": "3d7865f9-796e-4ac7-89b0-e4bf2b5d81d0",
   "metadata": {},
   "source": [
    "#### SIMPLE LINEAR REGRESSION. MINIMAL EXAMPLE"
   ]
  },
  {
   "cell_type": "markdown",
   "id": "19fc206a-f6f0-42a1-bf6b-1be4015e70e3",
   "metadata": {},
   "source": [
    "##### # GOAL: WE EXPECT THE ALGO TO LEARN THE UNDERLYING RLTIONSHIP OF THE DATA"
   ]
  },
  {
   "cell_type": "markdown",
   "id": "7087866a-3525-4b04-9765-5b66eaed3acc",
   "metadata": {},
   "source": [
    "#### Import relevant libraries"
   ]
  },
  {
   "cell_type": "code",
   "execution_count": 64,
   "id": "105fcff3-bee6-44d6-bb54-996dd3f88f05",
   "metadata": {},
   "outputs": [],
   "source": [
    "import numpy as np # All math operations are contained and it is very fast\n",
    "import matplotlib.pyplot as plt # nice graph plotting nd its module pyplot has a nice interface and requires very few arguements\n",
    "from mpl_toolkits.mplot3d import Axes3D # nice 3D graphs \n",
    "# pyplot and Axes3D are not essential for the ml algo, they provide us with good looking plots of our data"
   ]
  },
  {
   "cell_type": "markdown",
   "id": "486223eb-2158-4761-b4d3-c7679fa0968f",
   "metadata": {},
   "source": [
    "#### VID 331 Generate random input data to train on"
   ]
  },
  {
   "cell_type": "code",
   "execution_count": 65,
   "id": "28644860-0120-410d-a0dd-1f94ecd0132a",
   "metadata": {},
   "outputs": [],
   "source": [
    "# NOTE WE ARE CREATING FAKE DATA ie generating random values from a range of number\n",
    "# np.random.uniform(low,high,size) -method draws a random value from the interval(low,high,size), \n",
    "# where each number has an equal chance to be selected\n",
    "# the method has 3 arguements LOWEST, HIGHEST POINTS OF THE INTERVAL AND SIZE(THE SHAPE IN WHICH WE WANT TO GENERATE THE DATA)\n",
    "# Lets choose an interval from -10 to 10. Acording to our theory size= no of observations x no of variables. so observations by 1 as we are only \n",
    "# talking about one variable x"
   ]
  },
  {
   "cell_type": "code",
   "execution_count": 66,
   "id": "bc8498d3-014f-4ec9-a6bc-08ad1abbbb28",
   "metadata": {},
   "outputs": [
    {
     "name": "stdout",
     "output_type": "stream",
     "text": [
      "(1000, 2)\n"
     ]
    }
   ],
   "source": [
    "observations = 1000 #contains the size of the dataset we want to generate\n",
    "\n",
    "# THE NUMBER OF OBSERVATION WILL AFFECT THE SPEED OF THE ALGO\n",
    "\n",
    "# We will work with two variables as inputs. You can think about them as x1 and x2 in our previous examples.\n",
    "# We have picked x and z, since it is easier to differentiate them.\n",
    "# We generate them randomly, drawing from an uniform distribution. There are 3 arguments of this method (low, high, size).\n",
    "# The size(SHAPE OR DIMENSION) of xs and zs is observations by 1. In this case: 1000 x 1\n",
    "\n",
    "xs = np.random.uniform(low=-10, high=10, size=(observations,1))\n",
    "zs = np.random.uniform(-10, 10, (observations,1)) # xs nd zs are the 2 input variables\n",
    "\n",
    "# Combine the two dimensions of the input into one input matrix (inputs = n x k=1000*2)\n",
    "# This is the X matrix from the linear model y = x*w + b\n",
    "# column_stack is a Numpy method (np.column_stack(appropriate turple)) which combines two vectors into a matrix(takes a sequence of 1D arrays and stacks them into a single 2D array). \n",
    "# Alternatives are stack, dstack, hstack, etc.\n",
    "\n",
    "inputs = np.column_stack((xs,zs))\n",
    "# Check if the dimensions of the inputs are the same as the ones we defined in the linear model lectures.\n",
    "# They should be n x k, where n is the number of observations, and k is the number of variables, so 1000 x 2\n",
    "print (inputs.shape)\n",
    "# it is a matrix of 1000 by 2"
   ]
  },
  {
   "cell_type": "code",
   "execution_count": 67,
   "id": "843820ee-2901-48f4-9520-7193f3cec674",
   "metadata": {},
   "outputs": [],
   "source": [
    "# TWO MAJOR ELEMENTS OF SUPERVISED LEARNING MODEL ARE INPUTS AND TARGETS\n",
    "# the rest are wts,bias and outputs(computer takes care of this)"
   ]
  },
  {
   "cell_type": "markdown",
   "id": "87f233e2-c5ae-41ec-a947-d752ccf936a8",
   "metadata": {},
   "source": [
    "#### Create the target we will aim at"
   ]
  },
  {
   "cell_type": "code",
   "execution_count": 68,
   "id": "d61a5bf4-4d91-4cc6-a1ed-27487dab35ca",
   "metadata": {},
   "outputs": [
    {
     "name": "stdout",
     "output_type": "stream",
     "text": [
      "(1000, 1)\n"
     ]
    }
   ],
   "source": [
    "# targets = f(x,z) =2*x -3*z +5 + noise\n",
    "# conceptually the algo must learn this is the fn\n",
    "# the above equation is abbetrarely chosen where 2 nd -3 are the wts and 5 is the bias. noise is introduced to randomise the data a bit\n",
    "# real data always contains noise, its never perfect\n",
    "\n",
    "# We want to make up a function, use the ML methodology, and see if the algorithm has learned it.\n",
    "# We add a small random noise to the function i.e. f(x,z) = 2x - 3z + 5 + small noise\n",
    "\n",
    "noise = np.random.uniform(-1, 1, (observations,1))\n",
    "# Produce the targets according to the f(x,z) = 2x - 3z + 5 + noise definition.\n",
    "# In this way, we are basically saying: the weights should be 2 and -3, while the bias is 5.\n",
    "targets = 2*xs - 3*zs + 5 + noise\n",
    "\n",
    "# THE TARGET, THE TWO WTS AND THE NOISE HAVE SHAPES 1000 BY 1\n",
    "# Check the shape of the targets just in case. It should be n x m, where m is the number of output variables, so 1000 x 1\n",
    "print (targets.shape)"
   ]
  },
  {
   "cell_type": "markdown",
   "id": "db0c9d52-bd72-47d8-b0cd-9cc944f683e7",
   "metadata": {},
   "source": [
    "## VID 332 BASIC NN (PART 3)"
   ]
  },
  {
   "cell_type": "code",
   "execution_count": 69,
   "id": "0a80e5df-1187-4471-abd7-68cd68c3e22a",
   "metadata": {},
   "outputs": [],
   "source": [
    "# Recarp \n",
    "# input data is in 1000 by 2 matrix ( in lin algebra this is a 2 variable problem with 1000 observations"
   ]
  },
  {
   "cell_type": "markdown",
   "id": "4f35c7c0-2559-499f-b230-69f2afc4a66f",
   "metadata": {},
   "source": [
    "## Plot the training data\n",
    "#### the point is to see that there is a strong trend that our model should learn to reproduce\n"
   ]
  },
  {
   "cell_type": "code",
   "execution_count": 70,
   "id": "dc409549-2b20-48ca-9a09-9ecc218047bd",
   "metadata": {
    "scrolled": true
   },
   "outputs": [
    {
     "data": {
      "image/png": "[encoded data removed]",
      "text/plain": [
       "<Figure size 640x480 with 1 Axes>"
      ]
     },
     "metadata": {},
     "output_type": "display_data"
    },
    {
     "data": {
      "text/plain": [
       "array([[ 3.44490358e+01],\n",
       "       [ 4.28981955e+01],\n",
       "       [ 3.54541987e+00],\n",
       "       [ 6.97278192e+00],\n",
       "       [-1.94334935e+00],\n",
       "       [ 1.86546151e+01],\n",
       "       [-2.72838044e+01],\n",
       "       [ 8.38328147e+00],\n",
       "       [ 1.14796980e+01],\n",
       "       [ 2.18802503e+01],\n",
       "       [-1.72869593e+00],\n",
       "       [-4.05226653e-01],\n",
       "       [ 1.92589243e+01],\n",
       "       [ 4.18827880e+01],\n",
       "       [ 1.53872387e+01],\n",
       "       [ 9.13099892e+00],\n",
       "       [-2.76543040e+01],\n",
       "       [-3.47534147e+01],\n",
       "       [ 4.19711699e+00],\n",
       "       [ 6.18578883e+00],\n",
       "       [-1.40116525e+01],\n",
       "       [ 4.87683304e+00],\n",
       "       [ 2.40691423e+01],\n",
       "       [ 1.99914543e+01],\n",
       "       [ 4.97353303e-01],\n",
       "       [ 1.48400914e+01],\n",
       "       [ 1.77475996e+01],\n",
       "       [-9.34254704e+00],\n",
       "       [ 5.15192980e+01],\n",
       "       [ 3.86248257e+01],\n",
       "       [-2.59252481e+01],\n",
       "       [ 4.40283765e+01],\n",
       "       [-2.60452490e+01],\n",
       "       [ 9.22655727e+00],\n",
       "       [ 2.54053215e+01],\n",
       "       [-6.93290375e+00],\n",
       "       [-3.25628928e+01],\n",
       "       [-6.91674327e+00],\n",
       "       [ 9.84476573e+00],\n",
       "       [ 1.69467114e+00],\n",
       "       [-3.48555805e+01],\n",
       "       [ 2.37577776e+01],\n",
       "       [ 1.25685105e+01],\n",
       "       [-1.76140002e+01],\n",
       "       [ 1.12668981e+01],\n",
       "       [ 4.03440456e+01],\n",
       "       [-5.37776062e+00],\n",
       "       [-6.28862972e+00],\n",
       "       [ 3.28244122e+01],\n",
       "       [ 9.50648500e+00],\n",
       "       [-1.36767023e+01],\n",
       "       [ 1.36297110e+01],\n",
       "       [-1.40726040e+01],\n",
       "       [-1.71244860e+01],\n",
       "       [ 3.24049658e+01],\n",
       "       [-1.06553632e+01],\n",
       "       [ 5.82298591e+00],\n",
       "       [ 3.85681255e+01],\n",
       "       [ 2.33426041e+01],\n",
       "       [ 3.64978077e+00],\n",
       "       [-2.49084083e+01],\n",
       "       [-2.75968328e+01],\n",
       "       [-2.57104524e+01],\n",
       "       [-2.03011135e+01],\n",
       "       [-3.03961028e+01],\n",
       "       [ 2.09257445e+01],\n",
       "       [-1.82883521e+01],\n",
       "       [ 3.58654324e+01],\n",
       "       [-1.24513987e+01],\n",
       "       [-3.87563310e+01],\n",
       "       [ 1.33568314e+01],\n",
       "       [ 4.98082848e+00],\n",
       "       [-1.66977075e+01],\n",
       "       [ 4.15835936e+01],\n",
       "       [ 2.55844155e+01],\n",
       "       [-2.41357454e+01],\n",
       "       [-2.39650492e+00],\n",
       "       [ 1.42185870e+00],\n",
       "       [-2.65653695e+01],\n",
       "       [-3.26809518e+00],\n",
       "       [-2.01562406e+01],\n",
       "       [ 2.73772697e+01],\n",
       "       [ 3.88894946e+01],\n",
       "       [ 1.87569318e+01],\n",
       "       [ 1.20900896e+01],\n",
       "       [-2.71892045e-01],\n",
       "       [-1.11714824e+01],\n",
       "       [-9.78641079e+00],\n",
       "       [-3.92218349e+00],\n",
       "       [ 2.00843169e+01],\n",
       "       [ 1.19226284e+00],\n",
       "       [-1.25032343e+01],\n",
       "       [ 8.01180326e+00],\n",
       "       [ 2.69627196e+01],\n",
       "       [-1.07423524e+01],\n",
       "       [ 1.54270194e+01],\n",
       "       [-1.85316500e+01],\n",
       "       [ 3.05119046e+01],\n",
       "       [ 3.11582865e+01],\n",
       "       [ 2.63079284e+01],\n",
       "       [ 2.67234697e+01],\n",
       "       [ 3.31402539e+01],\n",
       "       [ 9.68480386e+00],\n",
       "       [-3.25028949e+01],\n",
       "       [-6.71609551e+00],\n",
       "       [-4.46170558e+00],\n",
       "       [ 2.01897113e+01],\n",
       "       [-1.66494533e+01],\n",
       "       [-3.55383271e+01],\n",
       "       [ 1.79418806e+01],\n",
       "       [ 4.42246387e+01],\n",
       "       [-5.46998274e-01],\n",
       "       [ 3.03347462e+01],\n",
       "       [-1.68990453e+01],\n",
       "       [ 2.11435607e+01],\n",
       "       [ 3.79681604e+01],\n",
       "       [ 3.14496374e+01],\n",
       "       [ 7.62766288e-01],\n",
       "       [ 9.50453761e+00],\n",
       "       [-5.19318498e+00],\n",
       "       [-1.74259538e+01],\n",
       "       [-1.06314421e+01],\n",
       "       [ 3.54245137e+01],\n",
       "       [ 8.43169996e+00],\n",
       "       [ 1.09334270e+01],\n",
       "       [-2.36127649e+01],\n",
       "       [ 4.60930917e+01],\n",
       "       [ 1.54748780e+01],\n",
       "       [ 1.37942660e+01],\n",
       "       [ 3.95418554e+01],\n",
       "       [-7.64576816e+00],\n",
       "       [-7.92898724e-01],\n",
       "       [ 1.13928146e+01],\n",
       "       [ 1.16185647e+01],\n",
       "       [-3.05272882e+01],\n",
       "       [-3.80377925e+01],\n",
       "       [ 3.02620010e+01],\n",
       "       [-5.58059381e+00],\n",
       "       [ 3.17457611e+00],\n",
       "       [ 6.81954477e+00],\n",
       "       [ 2.83753175e+01],\n",
       "       [-1.49670381e+00],\n",
       "       [ 8.41592317e-01],\n",
       "       [-8.27392635e+00],\n",
       "       [ 2.96000147e+01],\n",
       "       [ 5.28436627e+00],\n",
       "       [ 3.35490974e+01],\n",
       "       [ 3.44855060e+00],\n",
       "       [ 1.37894491e+01],\n",
       "       [ 1.10944210e+00],\n",
       "       [ 2.92590550e+01],\n",
       "       [-6.41158072e+00],\n",
       "       [-1.86233652e+01],\n",
       "       [ 1.09785324e+01],\n",
       "       [-8.96606530e-01],\n",
       "       [ 7.18069946e+00],\n",
       "       [-1.87032270e+01],\n",
       "       [ 7.99615358e+00],\n",
       "       [ 4.61144550e+00],\n",
       "       [ 4.09181300e+01],\n",
       "       [-1.12146176e+01],\n",
       "       [-7.11790699e+00],\n",
       "       [ 2.15875092e+01],\n",
       "       [ 2.44266077e+01],\n",
       "       [ 1.22327550e+01],\n",
       "       [ 2.31345833e+01],\n",
       "       [ 1.86648811e+00],\n",
       "       [-7.39474484e+00],\n",
       "       [-7.36427728e+00],\n",
       "       [ 2.34983907e+01],\n",
       "       [ 2.10709003e+00],\n",
       "       [ 7.30691111e+00],\n",
       "       [-3.33160769e+01],\n",
       "       [-1.35985769e+01],\n",
       "       [-3.24405287e+01],\n",
       "       [ 1.21378307e+01],\n",
       "       [ 3.94327603e+01],\n",
       "       [-1.26892701e+01],\n",
       "       [ 4.73746568e+01],\n",
       "       [ 1.01926576e+01],\n",
       "       [-6.87676478e-01],\n",
       "       [ 3.90349680e+01],\n",
       "       [-3.36072335e+01],\n",
       "       [ 1.14806213e+01],\n",
       "       [-3.89225504e+01],\n",
       "       [ 3.78100536e+01],\n",
       "       [-2.16337876e+01],\n",
       "       [-9.10036912e+00],\n",
       "       [ 3.68202299e+01],\n",
       "       [ 2.72239457e+01],\n",
       "       [ 1.26052742e+01],\n",
       "       [ 3.47588490e+01],\n",
       "       [ 2.27260932e+01],\n",
       "       [ 9.21370435e+00],\n",
       "       [-1.49709976e+01],\n",
       "       [-1.17108146e+01],\n",
       "       [ 1.57158960e+01],\n",
       "       [ 5.61177051e+00],\n",
       "       [-1.83981766e+00],\n",
       "       [-1.99539342e+01],\n",
       "       [-9.21931044e+00],\n",
       "       [ 1.81898376e+01],\n",
       "       [-1.56003403e+01],\n",
       "       [ 2.40165195e+01],\n",
       "       [ 3.77578749e+01],\n",
       "       [ 4.53243511e+01],\n",
       "       [ 1.75993451e+01],\n",
       "       [ 1.51437821e+01],\n",
       "       [-1.96296729e+01],\n",
       "       [ 5.45715907e+00],\n",
       "       [ 1.99778697e+00],\n",
       "       [ 1.95155872e+01],\n",
       "       [ 3.32754251e+01],\n",
       "       [ 1.47375905e+01],\n",
       "       [-1.89821244e+01],\n",
       "       [-9.25884443e+00],\n",
       "       [ 1.08172269e+01],\n",
       "       [-2.27258328e+01],\n",
       "       [-2.36346495e+01],\n",
       "       [-2.89973034e+01],\n",
       "       [ 3.62883206e+01],\n",
       "       [-3.16194039e+01],\n",
       "       [-1.18830717e+00],\n",
       "       [ 4.07479303e+01],\n",
       "       [ 9.18715258e+00],\n",
       "       [ 1.94048825e+00],\n",
       "       [ 2.59091432e+01],\n",
       "       [ 1.75657078e+01],\n",
       "       [ 2.52853951e+01],\n",
       "       [ 1.70220779e+01],\n",
       "       [ 1.53428168e+01],\n",
       "       [ 1.86505669e+01],\n",
       "       [ 1.34149881e+01],\n",
       "       [ 1.42373216e+01],\n",
       "       [ 4.10764676e+00],\n",
       "       [-2.21382523e+01],\n",
       "       [ 2.17785056e+01],\n",
       "       [-1.42768151e+01],\n",
       "       [ 2.39282105e+01],\n",
       "       [ 4.89224456e+00],\n",
       "       [-1.74980557e+00],\n",
       "       [-1.89583699e+01],\n",
       "       [ 5.29123936e+00],\n",
       "       [ 9.84610714e+00],\n",
       "       [-1.24310100e+01],\n",
       "       [ 2.66251066e+01],\n",
       "       [-9.69069358e+00],\n",
       "       [ 7.41726555e+00],\n",
       "       [ 1.79734043e+01],\n",
       "       [ 2.92495023e+01],\n",
       "       [ 3.29116319e+00],\n",
       "       [ 1.85733968e+01],\n",
       "       [ 1.57229558e+01],\n",
       "       [ 6.47003487e+00],\n",
       "       [-1.88287601e-01],\n",
       "       [-1.29864216e+01],\n",
       "       [-2.28006577e+01],\n",
       "       [-2.35909544e+01],\n",
       "       [-3.23821330e+00],\n",
       "       [-1.06210737e+01],\n",
       "       [ 2.07498347e+01],\n",
       "       [-1.68238699e+01],\n",
       "       [ 4.68307498e+01],\n",
       "       [-1.94347785e+01],\n",
       "       [ 6.52583646e+00],\n",
       "       [ 8.55234950e+00],\n",
       "       [ 4.40650897e+01],\n",
       "       [ 2.99504441e+01],\n",
       "       [-3.87109556e+00],\n",
       "       [ 2.83160683e+00],\n",
       "       [ 5.97135141e+00],\n",
       "       [-7.64234479e-01],\n",
       "       [ 4.67877210e+00],\n",
       "       [ 7.38124758e+00],\n",
       "       [ 2.43591639e+01],\n",
       "       [-5.12598362e+00],\n",
       "       [-2.07980086e+01],\n",
       "       [-2.00721129e+01],\n",
       "       [-2.08919630e+01],\n",
       "       [ 1.12489014e+01],\n",
       "       [-3.60195081e+01],\n",
       "       [-3.84333923e+01],\n",
       "       [ 1.32981024e+01],\n",
       "       [ 2.40521671e+01],\n",
       "       [ 3.62914155e+01],\n",
       "       [-2.06274890e+00],\n",
       "       [ 4.34005254e+01],\n",
       "       [-4.05876451e+00],\n",
       "       [ 2.08342185e+01],\n",
       "       [ 7.00077071e-01],\n",
       "       [ 1.40627681e+00],\n",
       "       [-9.35220515e+00],\n",
       "       [ 1.33818874e+01],\n",
       "       [ 2.56112813e+01],\n",
       "       [-1.08120758e+01],\n",
       "       [ 4.02101031e+01],\n",
       "       [ 2.51216813e+01],\n",
       "       [-1.73811021e+01],\n",
       "       [-3.42447304e+00],\n",
       "       [ 2.91681436e+00],\n",
       "       [ 2.25163157e+01],\n",
       "       [ 7.26540220e+00],\n",
       "       [-1.24589495e+01],\n",
       "       [ 3.54493693e+01],\n",
       "       [ 1.71749281e+01],\n",
       "       [ 4.18683685e+01],\n",
       "       [ 2.29704595e+01],\n",
       "       [-2.72830573e+01],\n",
       "       [-1.54317330e+01],\n",
       "       [-8.92982573e-01],\n",
       "       [ 1.63745003e+01],\n",
       "       [-2.90650753e+01],\n",
       "       [-2.04170601e+01],\n",
       "       [ 1.34721101e+01],\n",
       "       [ 3.08748860e+00],\n",
       "       [ 2.06236948e+01],\n",
       "       [ 1.91631701e+00],\n",
       "       [ 2.52542661e+00],\n",
       "       [ 9.97317647e+00],\n",
       "       [ 1.18451494e+01],\n",
       "       [-1.20779879e+00],\n",
       "       [ 9.80236162e+00],\n",
       "       [ 2.17063304e+01],\n",
       "       [ 3.31313217e+01],\n",
       "       [-8.61825778e+00],\n",
       "       [-3.60879554e+01],\n",
       "       [ 3.54973323e+01],\n",
       "       [-6.97222488e+00],\n",
       "       [-1.32422221e+01],\n",
       "       [ 8.11553884e+00],\n",
       "       [-1.85019109e+00],\n",
       "       [ 1.49469532e+01],\n",
       "       [-3.26521905e+00],\n",
       "       [ 1.14306883e+01],\n",
       "       [-1.97094164e+01],\n",
       "       [ 2.96742936e+01],\n",
       "       [ 2.19402708e-01],\n",
       "       [-3.83677778e+00],\n",
       "       [-7.73592295e+00],\n",
       "       [ 3.62104884e+01],\n",
       "       [-4.20368563e+00],\n",
       "       [ 1.41021676e+01],\n",
       "       [-2.94196842e+01],\n",
       "       [ 1.84549189e+01],\n",
       "       [ 2.63143950e+01],\n",
       "       [ 6.86116322e+00],\n",
       "       [-1.71199782e+01],\n",
       "       [ 7.89448465e+00],\n",
       "       [ 3.60338196e+01],\n",
       "       [ 2.26690690e+01],\n",
       "       [-1.41516959e+00],\n",
       "       [-1.86645432e+00],\n",
       "       [-1.96915192e+01],\n",
       "       [ 8.18153678e+00],\n",
       "       [ 3.76697122e+01],\n",
       "       [-1.80606816e+01],\n",
       "       [ 1.62384735e+00],\n",
       "       [ 3.26616949e+00],\n",
       "       [-1.98528104e+01],\n",
       "       [-2.07920932e+01],\n",
       "       [-5.09188556e+00],\n",
       "       [-2.34868085e+01],\n",
       "       [-1.37913470e+01],\n",
       "       [ 3.38260494e+01],\n",
       "       [ 2.94257081e+01],\n",
       "       [ 4.15476720e+01],\n",
       "       [-2.93732555e+01],\n",
       "       [ 1.04368464e+01],\n",
       "       [-1.04357795e+01],\n",
       "       [ 1.70006439e+01],\n",
       "       [ 8.13785842e+00],\n",
       "       [ 1.75715627e+01],\n",
       "       [-1.43633378e+01],\n",
       "       [ 1.59457498e+01],\n",
       "       [ 3.22397909e+01],\n",
       "       [-2.60862565e-01],\n",
       "       [-6.66460276e-01],\n",
       "       [-2.11858994e+01],\n",
       "       [-1.68137503e+01],\n",
       "       [ 4.11238442e+01],\n",
       "       [ 1.84325616e+01],\n",
       "       [ 4.07100174e+01],\n",
       "       [ 1.60754697e+01],\n",
       "       [-1.44717012e+01],\n",
       "       [-5.46539726e+00],\n",
       "       [ 2.53701317e+01],\n",
       "       [ 1.26357970e+01],\n",
       "       [ 2.43117150e+01],\n",
       "       [-8.62876487e-01],\n",
       "       [-3.34414469e+00],\n",
       "       [-1.13055159e+01],\n",
       "       [-3.66117618e+01],\n",
       "       [ 3.17653323e+01],\n",
       "       [-6.10521404e+00],\n",
       "       [-2.40745404e+01],\n",
       "       [ 9.27170829e+00],\n",
       "       [ 4.44576096e+00],\n",
       "       [ 1.36462041e+01],\n",
       "       [ 2.67434397e+01],\n",
       "       [-3.41836320e+00],\n",
       "       [ 1.41927563e+01],\n",
       "       [-1.16982227e+01],\n",
       "       [ 7.81859284e-01],\n",
       "       [ 3.99522449e+01],\n",
       "       [ 1.33909008e+01],\n",
       "       [-4.31180604e+00],\n",
       "       [ 7.83724042e+00],\n",
       "       [-3.35945843e+01],\n",
       "       [-1.77277551e+01],\n",
       "       [ 3.79631943e+01],\n",
       "       [ 3.05189450e+01],\n",
       "       [-5.19091837e-01],\n",
       "       [ 1.84192477e+01],\n",
       "       [ 3.16709756e+01],\n",
       "       [-2.50308624e+01],\n",
       "       [ 2.44865606e+01],\n",
       "       [ 1.05993780e+01],\n",
       "       [ 4.91143398e+01],\n",
       "       [-1.57673502e+00],\n",
       "       [ 1.93149392e+01],\n",
       "       [-2.87571532e+01],\n",
       "       [ 1.23892685e+01],\n",
       "       [-6.81487958e+00],\n",
       "       [-2.12343131e+00],\n",
       "       [ 7.11428486e+00],\n",
       "       [-2.95992587e+01],\n",
       "       [ 9.62560484e-02],\n",
       "       [-1.02327060e+01],\n",
       "       [ 1.27178614e+01],\n",
       "       [-5.42340508e+00],\n",
       "       [ 2.07467964e+01],\n",
       "       [-2.59492469e+01],\n",
       "       [ 6.26390957e+00],\n",
       "       [ 3.24675529e+01],\n",
       "       [ 2.11691784e+01],\n",
       "       [ 2.60849263e+00],\n",
       "       [ 6.07571145e+00],\n",
       "       [ 2.46701290e+00],\n",
       "       [ 1.74720630e+01],\n",
       "       [ 3.59807806e+00],\n",
       "       [-6.42330990e+00],\n",
       "       [ 6.92285734e+00],\n",
       "       [ 3.91261701e+01],\n",
       "       [ 1.20118864e+01],\n",
       "       [ 9.73411000e+00],\n",
       "       [ 7.75245505e+00],\n",
       "       [-2.45487871e+01],\n",
       "       [-8.77197925e+00],\n",
       "       [ 2.32074575e+01],\n",
       "       [ 4.03105774e+01],\n",
       "       [ 3.67757243e+01],\n",
       "       [-8.67236016e+00],\n",
       "       [ 2.23555070e+01],\n",
       "       [ 5.55601566e+00],\n",
       "       [-7.23666788e+00],\n",
       "       [ 8.66394258e+00],\n",
       "       [ 1.82176090e+01],\n",
       "       [ 2.31048698e+00],\n",
       "       [ 1.05832898e+01],\n",
       "       [-2.93807537e+01],\n",
       "       [-6.03099025e+00],\n",
       "       [ 5.41227924e+01],\n",
       "       [ 3.10415244e+01],\n",
       "       [ 1.92949080e+01],\n",
       "       [ 2.61399456e+01],\n",
       "       [-4.36330910e+00],\n",
       "       [-3.56736697e+01],\n",
       "       [ 9.46840556e+00],\n",
       "       [ 3.43397611e+01],\n",
       "       [-2.34536177e+01],\n",
       "       [ 2.20129845e+01],\n",
       "       [ 3.19414422e+01],\n",
       "       [ 2.90572519e+01],\n",
       "       [-2.71874328e+01],\n",
       "       [ 3.19200401e+01],\n",
       "       [ 1.56310564e+01],\n",
       "       [ 4.34523564e+00],\n",
       "       [-1.16234776e+01],\n",
       "       [ 3.91269518e+01],\n",
       "       [ 2.54494078e+01],\n",
       "       [ 2.95263378e+01],\n",
       "       [-1.20615768e+01],\n",
       "       [ 2.11649583e+01],\n",
       "       [ 3.59820412e+01],\n",
       "       [-9.41397268e+00],\n",
       "       [-1.98604887e+00],\n",
       "       [-5.77403971e+00],\n",
       "       [ 3.73155097e+01],\n",
       "       [ 6.49680665e+00],\n",
       "       [-1.04280776e+01],\n",
       "       [-1.01982962e+00],\n",
       "       [ 1.42398922e+01],\n",
       "       [ 1.96567879e+01],\n",
       "       [-7.01127161e+00],\n",
       "       [-1.92197126e+01],\n",
       "       [ 2.75014082e+01],\n",
       "       [ 3.94437376e+01],\n",
       "       [ 3.47139259e+00],\n",
       "       [-2.30706973e+00],\n",
       "       [-3.99539787e+01],\n",
       "       [ 4.75134208e+00],\n",
       "       [ 3.71702406e+00],\n",
       "       [ 6.96057753e+00],\n",
       "       [ 2.18748538e+01],\n",
       "       [ 5.33175450e+00],\n",
       "       [ 6.28812949e+00],\n",
       "       [-3.01558816e+01],\n",
       "       [ 1.44172897e+01],\n",
       "       [ 2.73262019e+01],\n",
       "       [ 3.42956620e+01],\n",
       "       [-1.04325663e+00],\n",
       "       [-2.78184889e+00],\n",
       "       [-2.32970762e+01],\n",
       "       [ 2.69925720e+01],\n",
       "       [ 1.39878023e+01],\n",
       "       [ 1.84749410e+01],\n",
       "       [-2.49588158e+00],\n",
       "       [-2.56317961e+01],\n",
       "       [-2.13453532e+01],\n",
       "       [-1.24698250e+01],\n",
       "       [-1.86627996e+01],\n",
       "       [-4.70518732e+00],\n",
       "       [-2.03340241e+01],\n",
       "       [ 2.18171420e+01],\n",
       "       [-1.52562076e+00],\n",
       "       [-1.38126775e+00],\n",
       "       [-1.69633134e+01],\n",
       "       [ 1.81537398e+01],\n",
       "       [ 2.84594037e+01],\n",
       "       [ 5.67568581e+00],\n",
       "       [ 5.34283766e+00],\n",
       "       [ 3.93748497e+01],\n",
       "       [ 1.09898405e+01],\n",
       "       [ 1.02948554e+01],\n",
       "       [-3.13506519e+01],\n",
       "       [ 2.37142969e+01],\n",
       "       [ 1.37166213e+01],\n",
       "       [ 8.59494609e+00],\n",
       "       [-1.59094012e+01],\n",
       "       [-1.70487431e+01],\n",
       "       [ 9.35426769e-01],\n",
       "       [ 1.35744613e+01],\n",
       "       [ 1.08087826e+01],\n",
       "       [ 2.60299758e+01],\n",
       "       [ 1.05215198e+01],\n",
       "       [ 2.23605387e+01],\n",
       "       [-1.97449197e+01],\n",
       "       [ 2.16979586e+01],\n",
       "       [ 4.18123938e+01],\n",
       "       [-3.86801232e-01],\n",
       "       [ 1.67571071e+01],\n",
       "       [-4.98051389e+00],\n",
       "       [ 3.09124356e+01],\n",
       "       [-2.18392702e+01],\n",
       "       [-3.33269804e+00],\n",
       "       [-1.60170544e+00],\n",
       "       [ 5.12785599e+00],\n",
       "       [ 3.53876160e+01],\n",
       "       [ 7.32687009e-01],\n",
       "       [-2.77193337e+00],\n",
       "       [-1.83402740e+01],\n",
       "       [ 1.71207110e+01],\n",
       "       [ 3.36592096e+01],\n",
       "       [ 2.83435507e+01],\n",
       "       [-2.84608285e+01],\n",
       "       [ 9.81384910e+00],\n",
       "       [ 3.53650033e+01],\n",
       "       [ 3.79718944e+01],\n",
       "       [ 4.56050231e+01],\n",
       "       [ 2.03193123e+01],\n",
       "       [ 2.13712620e+01],\n",
       "       [-1.55709675e+01],\n",
       "       [-2.30473401e+01],\n",
       "       [ 1.71328400e+01],\n",
       "       [ 1.48466925e+01],\n",
       "       [-2.15376744e+01],\n",
       "       [-1.84598401e+01],\n",
       "       [-1.88184152e+01],\n",
       "       [ 2.09059818e+01],\n",
       "       [ 2.90084205e+00],\n",
       "       [-7.83467140e-01],\n",
       "       [-2.65413961e+01],\n",
       "       [-3.70201025e+00],\n",
       "       [ 2.54183418e+01],\n",
       "       [ 9.97177150e+00],\n",
       "       [ 3.47282360e+01],\n",
       "       [ 3.47144603e+01],\n",
       "       [ 2.02632571e+00],\n",
       "       [-3.10324986e+00],\n",
       "       [-1.04120058e+00],\n",
       "       [ 1.55024731e+01],\n",
       "       [ 2.41065364e+01],\n",
       "       [ 3.44057500e+01],\n",
       "       [ 2.10589946e+01],\n",
       "       [ 3.32201869e+01],\n",
       "       [ 1.37832095e+01],\n",
       "       [-4.10634649e+01],\n",
       "       [ 8.65782840e+00],\n",
       "       [ 1.52959601e+01],\n",
       "       [-2.74242355e+01],\n",
       "       [ 3.53449569e+01],\n",
       "       [ 2.78580120e+01],\n",
       "       [ 3.05692233e+01],\n",
       "       [-8.85774914e+00],\n",
       "       [ 4.55420375e+01],\n",
       "       [-1.29675584e+01],\n",
       "       [-1.25176908e+01],\n",
       "       [ 1.49316370e+01],\n",
       "       [-1.16472201e+01],\n",
       "       [ 1.05425978e+01],\n",
       "       [ 4.02636933e-01],\n",
       "       [-2.09187366e+01],\n",
       "       [-1.95937080e+01],\n",
       "       [ 1.08015932e+01],\n",
       "       [-6.81587604e-01],\n",
       "       [ 6.57071798e+00],\n",
       "       [ 1.21518685e+00],\n",
       "       [ 1.05193426e+01],\n",
       "       [ 4.21700203e+01],\n",
       "       [-1.56200699e+01],\n",
       "       [ 4.74244849e+01],\n",
       "       [-4.00570242e+00],\n",
       "       [ 2.11078949e+01],\n",
       "       [-1.63924061e+01],\n",
       "       [-9.37304415e+00],\n",
       "       [-2.60188011e+01],\n",
       "       [-2.72249574e+01],\n",
       "       [ 2.98174272e+00],\n",
       "       [ 2.09609007e+00],\n",
       "       [ 4.73646961e+00],\n",
       "       [ 8.34343066e+00],\n",
       "       [-1.96121620e+01],\n",
       "       [-6.74457675e+00],\n",
       "       [ 3.59343007e-02],\n",
       "       [-5.98525343e+00],\n",
       "       [ 2.61565417e+01],\n",
       "       [ 1.06668482e+01],\n",
       "       [ 2.35973264e+01],\n",
       "       [ 2.48926107e+01],\n",
       "       [ 3.05342239e+01],\n",
       "       [ 8.39023044e+00],\n",
       "       [ 3.50500431e+01],\n",
       "       [ 1.46508749e+01],\n",
       "       [-1.41670280e+01],\n",
       "       [-2.07404831e+00],\n",
       "       [ 9.87567652e+00],\n",
       "       [-4.07658450e+01],\n",
       "       [ 1.64974398e-01],\n",
       "       [ 1.35171192e+01],\n",
       "       [ 4.72998794e+00],\n",
       "       [ 1.07998444e+01],\n",
       "       [-6.56334363e+00],\n",
       "       [ 1.36299816e+01],\n",
       "       [ 2.04184700e+01],\n",
       "       [ 1.04762632e+01],\n",
       "       [ 1.74289686e+00],\n",
       "       [ 4.87380894e+01],\n",
       "       [ 1.70209405e+01],\n",
       "       [ 2.35237441e+01],\n",
       "       [ 1.26369005e+01],\n",
       "       [-6.80619658e+00],\n",
       "       [-2.44444762e+01],\n",
       "       [ 3.94628423e+01],\n",
       "       [-2.47744294e+01],\n",
       "       [ 2.07775320e+01],\n",
       "       [ 1.96071453e+00],\n",
       "       [-1.40086167e+00],\n",
       "       [ 3.66891889e+01],\n",
       "       [ 2.97526060e+01],\n",
       "       [ 1.02498548e+01],\n",
       "       [ 1.03618844e+01],\n",
       "       [ 1.89260129e+01],\n",
       "       [ 2.23934457e+01],\n",
       "       [ 3.97826659e+00],\n",
       "       [ 1.05233944e+01],\n",
       "       [ 1.91916253e+01],\n",
       "       [-2.15845830e+01],\n",
       "       [ 4.34285731e+01],\n",
       "       [-8.55713613e+00],\n",
       "       [-1.22835619e+01],\n",
       "       [ 3.15539885e+01],\n",
       "       [ 2.73777961e+01],\n",
       "       [-2.64491480e+01],\n",
       "       [ 2.15084813e+01],\n",
       "       [ 1.36885523e+01],\n",
       "       [ 5.84680927e+00],\n",
       "       [-8.84878459e+00],\n",
       "       [ 1.04347038e+01],\n",
       "       [ 1.51104088e+01],\n",
       "       [-1.36370652e+01],\n",
       "       [ 7.90920767e+00],\n",
       "       [-1.22124528e+01],\n",
       "       [ 6.35258086e+00],\n",
       "       [ 1.62629020e+01],\n",
       "       [-4.75633934e+00],\n",
       "       [-1.38441655e+00],\n",
       "       [-1.35470122e+01],\n",
       "       [ 5.01836075e+00],\n",
       "       [-2.27240912e+00],\n",
       "       [ 1.17827641e+01],\n",
       "       [ 1.07298805e+01],\n",
       "       [ 1.03424250e+00],\n",
       "       [-1.50348786e+01],\n",
       "       [ 3.33780620e+01],\n",
       "       [-4.69317475e+00],\n",
       "       [-6.74613252e+00],\n",
       "       [-2.77725132e+01],\n",
       "       [ 1.35315730e+01],\n",
       "       [ 1.47948815e+01],\n",
       "       [-1.77267113e+01],\n",
       "       [ 2.42109546e+01],\n",
       "       [ 2.26266175e+00],\n",
       "       [-3.60983096e+01],\n",
       "       [ 4.66355508e+01],\n",
       "       [-2.10057771e+00],\n",
       "       [ 2.13474705e+01],\n",
       "       [ 3.10025066e+01],\n",
       "       [ 1.92943184e+01],\n",
       "       [ 1.82968871e+01],\n",
       "       [ 3.26934872e+01],\n",
       "       [-4.39229396e+00],\n",
       "       [-1.70066131e+01],\n",
       "       [-2.24550264e+00],\n",
       "       [ 2.22804633e+01],\n",
       "       [-4.10618259e+01],\n",
       "       [ 1.45084564e+01],\n",
       "       [-6.48778495e+00],\n",
       "       [ 7.41995737e+00],\n",
       "       [ 1.63761534e+01],\n",
       "       [ 1.40777501e+01],\n",
       "       [-1.35105727e+01],\n",
       "       [ 4.95090384e+00],\n",
       "       [-1.68721347e+01],\n",
       "       [ 4.74463491e+01],\n",
       "       [-2.99417155e+01],\n",
       "       [ 4.15157431e+01],\n",
       "       [-1.84407381e+01],\n",
       "       [ 1.67169876e+01],\n",
       "       [ 8.10881705e+00],\n",
       "       [-2.65442965e+01],\n",
       "       [ 1.07809475e+01],\n",
       "       [ 1.10446586e+01],\n",
       "       [ 3.35034056e+01],\n",
       "       [-1.02803799e+01],\n",
       "       [ 1.45551968e+01],\n",
       "       [-2.63206270e+00],\n",
       "       [-7.20719508e+00],\n",
       "       [ 9.70471159e+00],\n",
       "       [ 5.58163186e-01],\n",
       "       [-1.18618945e+01],\n",
       "       [ 2.05709775e+01],\n",
       "       [-1.43740768e+01],\n",
       "       [ 3.17287694e+01],\n",
       "       [ 1.47462204e+01],\n",
       "       [ 3.07625887e+01],\n",
       "       [ 2.12365877e+01],\n",
       "       [ 1.54495929e+01],\n",
       "       [-2.46756514e+01],\n",
       "       [ 4.79706729e+01],\n",
       "       [-7.51826225e+00],\n",
       "       [ 2.89242600e-01],\n",
       "       [ 7.15566856e+00],\n",
       "       [-2.75532945e+01],\n",
       "       [-1.83511372e+01],\n",
       "       [ 2.43331050e+01],\n",
       "       [ 1.39013633e+01],\n",
       "       [-2.60436931e+01],\n",
       "       [ 1.44894210e+01],\n",
       "       [-3.41986731e+01],\n",
       "       [-2.78446520e+01],\n",
       "       [-4.64964606e+00],\n",
       "       [ 5.00517063e+00],\n",
       "       [-4.32597628e-01],\n",
       "       [ 7.87162179e+00],\n",
       "       [ 1.71051808e+01],\n",
       "       [ 2.87889062e+01],\n",
       "       [-2.20769500e+01],\n",
       "       [-1.39612419e+01],\n",
       "       [ 1.31019235e+01],\n",
       "       [-1.31693790e+00],\n",
       "       [ 3.75941295e+01],\n",
       "       [-1.02880531e+01],\n",
       "       [ 7.82336611e-02],\n",
       "       [-3.42687683e+01],\n",
       "       [ 2.15197977e+01],\n",
       "       [-6.12366035e+00],\n",
       "       [ 4.44176960e+01],\n",
       "       [-2.74524190e+01],\n",
       "       [ 3.39516831e+01],\n",
       "       [ 3.52296983e+01],\n",
       "       [ 3.42771001e+01],\n",
       "       [-8.36085135e+00],\n",
       "       [ 2.31324373e+01],\n",
       "       [ 3.82207858e+01],\n",
       "       [-1.24194462e+01],\n",
       "       [-5.91865532e+00],\n",
       "       [ 2.11741661e+01],\n",
       "       [ 2.24807539e+01],\n",
       "       [ 1.90645676e+01],\n",
       "       [-1.90841422e+01],\n",
       "       [ 1.09003159e+01],\n",
       "       [ 4.88580509e+00],\n",
       "       [ 1.50316361e+00],\n",
       "       [-1.32717005e+01],\n",
       "       [-2.80933882e+01],\n",
       "       [-1.57486411e+01],\n",
       "       [-5.99615612e+00],\n",
       "       [ 1.41364234e+01],\n",
       "       [ 1.22453301e+01],\n",
       "       [ 3.18100121e+01],\n",
       "       [-3.22564425e+01],\n",
       "       [-3.03875681e+01],\n",
       "       [ 7.94307425e+00],\n",
       "       [ 1.22125067e+00],\n",
       "       [-2.27648958e+01],\n",
       "       [-6.36446777e+00],\n",
       "       [-3.40698666e+01],\n",
       "       [ 4.64950441e+01],\n",
       "       [-7.18627253e+00],\n",
       "       [-1.63873379e+01],\n",
       "       [ 3.09319249e+01],\n",
       "       [ 2.33882993e+01],\n",
       "       [ 2.29341027e+01],\n",
       "       [-2.56657213e+01],\n",
       "       [-2.25430101e+01],\n",
       "       [ 8.65341435e+00],\n",
       "       [-5.28848101e+00],\n",
       "       [-1.98480609e+01],\n",
       "       [ 1.22031018e+01],\n",
       "       [-6.92295120e+00],\n",
       "       [-8.15886132e+00],\n",
       "       [ 1.32339563e+01],\n",
       "       [ 9.92673106e+00],\n",
       "       [ 1.12435966e+01],\n",
       "       [-1.39849357e+01],\n",
       "       [-8.12398710e+00],\n",
       "       [-1.64364063e+01],\n",
       "       [ 4.96534145e+01],\n",
       "       [ 7.28067913e+00],\n",
       "       [ 3.13771898e+01],\n",
       "       [ 1.68277557e+01],\n",
       "       [ 2.45009910e+01],\n",
       "       [ 4.87101439e+01],\n",
       "       [-1.08159321e+01],\n",
       "       [ 2.72516500e+01],\n",
       "       [-8.44690220e+00],\n",
       "       [-2.64821809e+01],\n",
       "       [ 3.79326406e+01],\n",
       "       [ 3.00373780e+01],\n",
       "       [-2.97159833e+00],\n",
       "       [-3.92647684e+01],\n",
       "       [-3.60879534e+01],\n",
       "       [-3.28343219e+00],\n",
       "       [ 2.05889050e+01],\n",
       "       [ 1.82639826e+01],\n",
       "       [-1.07556516e+01],\n",
       "       [ 3.71130620e+01],\n",
       "       [-8.89694376e-01],\n",
       "       [ 8.30008912e+00],\n",
       "       [-6.14285387e+00],\n",
       "       [ 1.30004321e+01],\n",
       "       [-8.05478304e-01],\n",
       "       [ 1.74586838e+01],\n",
       "       [-1.66891707e+01],\n",
       "       [-1.42642647e+01],\n",
       "       [-9.96472984e+00],\n",
       "       [ 1.27062699e+01],\n",
       "       [-3.81841227e+01],\n",
       "       [ 1.87799888e+01],\n",
       "       [ 2.09157529e+01],\n",
       "       [-2.19395930e+01],\n",
       "       [ 2.31586345e+01],\n",
       "       [-2.05252667e+01],\n",
       "       [ 8.58689733e+00],\n",
       "       [-2.38605490e+01],\n",
       "       [-4.50893909e+00],\n",
       "       [-1.25335379e+01],\n",
       "       [ 4.24164723e+01],\n",
       "       [ 1.11718206e+01],\n",
       "       [-1.40894844e+01],\n",
       "       [-1.27600022e+01],\n",
       "       [-4.81628499e+00],\n",
       "       [ 6.17897359e+00],\n",
       "       [ 6.05302985e+00],\n",
       "       [-5.76393969e+00],\n",
       "       [ 1.60797106e+01],\n",
       "       [-1.59093920e+01],\n",
       "       [ 1.21744364e+01],\n",
       "       [ 5.41211856e+00],\n",
       "       [ 9.32915562e+00],\n",
       "       [-3.59018445e+01],\n",
       "       [-1.21885190e+01],\n",
       "       [-2.37456452e+01],\n",
       "       [-1.11298653e+01],\n",
       "       [ 1.50535242e-01],\n",
       "       [-1.58376105e+01],\n",
       "       [-1.54267459e+01],\n",
       "       [-2.37038719e+00],\n",
       "       [-2.66112174e+01],\n",
       "       [-2.22520420e+01],\n",
       "       [ 3.83085296e+01],\n",
       "       [ 2.23484500e+01],\n",
       "       [-3.77222697e+01],\n",
       "       [ 3.94384889e+01],\n",
       "       [ 1.13483259e+00],\n",
       "       [-4.15358121e+01],\n",
       "       [-1.96823725e+01],\n",
       "       [ 4.56356335e+01],\n",
       "       [ 3.14565233e+01],\n",
       "       [-1.62980889e+01],\n",
       "       [ 3.52037001e+01],\n",
       "       [-2.55265096e+01],\n",
       "       [-1.14733105e+01],\n",
       "       [-6.83704718e+00],\n",
       "       [ 2.61357120e+01],\n",
       "       [ 1.35605253e+01],\n",
       "       [-1.12094339e+01],\n",
       "       [-1.05046495e+01],\n",
       "       [ 3.94529287e-01],\n",
       "       [-1.99933172e+01],\n",
       "       [-4.00917439e+00],\n",
       "       [ 1.74002410e+01],\n",
       "       [ 4.73414103e+01],\n",
       "       [-1.36845738e+01],\n",
       "       [ 2.08141300e+01],\n",
       "       [-3.03275216e+00],\n",
       "       [ 1.98052293e+01],\n",
       "       [ 3.45022926e+01],\n",
       "       [-4.87455036e+00],\n",
       "       [-2.26931235e+01],\n",
       "       [ 1.01158074e+01],\n",
       "       [-2.77541678e+00],\n",
       "       [-1.30677400e+01],\n",
       "       [-3.36574327e+00],\n",
       "       [-4.94165803e+00],\n",
       "       [ 1.17075972e+01],\n",
       "       [-5.39491345e+00],\n",
       "       [-1.84194422e+01],\n",
       "       [-2.12654412e+01],\n",
       "       [-1.42057811e+01],\n",
       "       [ 1.89478695e+00],\n",
       "       [ 4.63883280e+01],\n",
       "       [ 1.95566332e+01],\n",
       "       [-7.59661093e+00],\n",
       "       [-6.27226767e+00],\n",
       "       [ 9.23374279e+00],\n",
       "       [ 3.10316768e-01],\n",
       "       [ 3.52430395e+01],\n",
       "       [-3.16006438e+00],\n",
       "       [ 4.64891841e+01],\n",
       "       [-5.43927712e+00],\n",
       "       [-1.35266640e+01],\n",
       "       [ 1.18850492e+01],\n",
       "       [ 3.99072166e+01],\n",
       "       [-2.46721425e+01],\n",
       "       [ 4.77295828e+01],\n",
       "       [-1.86403701e+01],\n",
       "       [ 2.33064227e+01],\n",
       "       [-4.22211541e+01],\n",
       "       [-2.30847316e+01],\n",
       "       [-1.39644620e+01],\n",
       "       [ 2.51366069e+01],\n",
       "       [-3.27138294e+01],\n",
       "       [ 3.82471789e+01],\n",
       "       [-1.64412068e+01],\n",
       "       [ 1.90904543e+01],\n",
       "       [ 3.39148972e+01],\n",
       "       [-1.96411932e+01],\n",
       "       [-1.82123990e+01],\n",
       "       [ 6.57479963e+00],\n",
       "       [ 1.32332993e+01],\n",
       "       [-3.24302441e+00],\n",
       "       [-5.16018957e+00],\n",
       "       [ 8.35236412e+00],\n",
       "       [ 2.04517022e+00],\n",
       "       [ 3.78281272e+00],\n",
       "       [ 1.31647162e+01],\n",
       "       [ 2.52004103e+01],\n",
       "       [ 6.41661655e+00],\n",
       "       [ 8.00675016e+00],\n",
       "       [-4.04008944e+00],\n",
       "       [-1.21140897e+00],\n",
       "       [-1.20603510e+01],\n",
       "       [-2.93383694e+01],\n",
       "       [ 3.57341352e+01],\n",
       "       [ 3.41512235e+01],\n",
       "       [ 2.73599749e+01],\n",
       "       [ 4.43853798e+00],\n",
       "       [-1.01376224e+01],\n",
       "       [-2.66227188e+01],\n",
       "       [ 2.73288079e+01],\n",
       "       [-7.63945149e+00],\n",
       "       [ 1.30916261e+01],\n",
       "       [ 1.93092138e+01],\n",
       "       [ 2.66609990e+00],\n",
       "       [ 2.44855244e+00],\n",
       "       [-6.70023678e+00],\n",
       "       [ 3.86125308e+00],\n",
       "       [ 3.49070902e+01],\n",
       "       [ 7.72890590e+00]])"
      ]
     },
     "execution_count": 70,
     "metadata": {},
     "output_type": "execute_result"
    }
   ],
   "source": [
    "# In order to use the 3D plot, the objects should have a certain shape, so we reshape the targets.\n",
    "# The proper method to use is reshape and takes as arguments the dimensions in which we want to fit the object\n",
    "\n",
    "targets = targets.reshape(observations,) # the coma here makes no difference\n",
    "# Plotting according to the conventional matplotlib.pyplot syntax\n",
    "\n",
    "# Declare the figure\n",
    "fig = plt.figure()\n",
    "\n",
    "# A method allowing us to create the 3D plot\n",
    "ax = fig.add_subplot(111, projection='3d')\n",
    "# Choose the axes\n",
    "ax.plot(xs, zs, targets)\n",
    "# Set labels\n",
    "ax.set_xlabel('xs')\n",
    "ax.set_ylabel('zs')\n",
    "ax.set_zlabel('Targets')\n",
    "\n",
    "# You can fiddle with the azim parameter to plot the data from different angles. Just change the value of azim=100\n",
    "# to azim = 0 ; azim = 200, or whatever. Check and see what happens.\n",
    "ax.view_init(azim=100)\n",
    "\n",
    "# So far we were just describing the plot. This method actually shows the plot. \n",
    "plt.show()\n",
    "\n",
    "# We reshape the targets back to the shape that they were in before plotting\n",
    "# This reshaping is a side-effect of the 3D plot. Sorry for that\n",
    "targets = targets.reshape(observations,1)\n",
    "targets\n",
    "# Linear relationship in 2D is a straight line and linear relationship in 3D is a plane( like in this graph)"
   ]
  },
  {
   "cell_type": "code",
   "execution_count": 71,
   "id": "3da68962-ff9d-48a7-b400-f76c815c24b0",
   "metadata": {},
   "outputs": [],
   "source": [
    "# for the gradient descent, we dont want to start from any arbitrary number.\n",
    "# Rather we randomly select some small initial weights "
   ]
  },
  {
   "cell_type": "markdown",
   "id": "2871f235-0c78-438b-a526-0217010c3a73",
   "metadata": {},
   "source": [
    "### Initialize variables"
   ]
  },
  {
   "cell_type": "code",
   "execution_count": 72,
   "id": "6703031f-2d09-4273-9648-80b86a95aedf",
   "metadata": {},
   "outputs": [
    {
     "name": "stdout",
     "output_type": "stream",
     "text": [
      "[[-0.0178818 ]\n",
      " [-0.06099973]]\n",
      "[0.04868849]\n"
     ]
    }
   ],
   "source": [
    "# We will initialize the weights and biases randomly in some small initial range\n",
    "# init_range is the variable that will measure that\n",
    "# You can play around with the initial range, but we don't really encourage you to do so.\n",
    "# High initial ranges may prevent the machine learning algorithm from learning.\n",
    "\n",
    "init_range = 0.1 \n",
    "\n",
    "# this would be the radius of the range we will use to initialise the wts and the biases (-0.1 to 0.1) or\n",
    "# our initial wt and biases will be picked randomly from the interval -0.1 to 0.1\n",
    "# Weights are of size k x m, where k is the number of input variables and m is the number of output variables\n",
    "# In our case, the weights matrix is 2x1 since there are 2 inputs (x and z) and one output (y)\n",
    "\n",
    "weights = np.random.uniform(low=-init_range, high=init_range, size=(2, 1))\n",
    "# Biases are of size 1 since there is only 1 output. The bias is a scalar.\n",
    "\n",
    "biases = np.random.uniform(low=-init_range, high=init_range, size=1)\n",
    "#Print the weights to get a sense of how they were initialized.\n",
    "print (weights)\n",
    "print (biases)\n",
    "\n",
    "# the first two are the weights and the third is the bias. they are small and close to zero "
   ]
  },
  {
   "cell_type": "markdown",
   "id": "59da9766-86fd-4537-b641-4558c95c56c8",
   "metadata": {},
   "source": [
    "### Set a learning rate"
   ]
  },
  {
   "cell_type": "code",
   "execution_count": 73,
   "id": "011a3c65-b393-4b4f-8e0a-277fbf0049e2",
   "metadata": {},
   "outputs": [],
   "source": [
    "# Set some small learning rate (denoted eta in the lecture)\n",
    "# 0.02 is going to work quite well for our example. Once again, you can play around with it.\n",
    "# It is HIGHLY recommended that you play around with it to see how different etas affect the speed of optimization\n",
    "\n",
    "learning_rate = 0.02\n",
    "# arbitrarily chosen value\n"
   ]
  },
  {
   "cell_type": "markdown",
   "id": "3ae01c00-7cc4-4252-be20-938215bf83c6",
   "metadata": {},
   "source": [
    "## VID 333 BASIC NN EXAMPLE (PART 4)\n",
    "### Train the model"
   ]
  },
  {
   "cell_type": "code",
   "execution_count": 74,
   "id": "5f41c6a2-1cd8-48b7-9620-4bca5d432c4f",
   "metadata": {},
   "outputs": [],
   "source": [
    "# NEXT STEP IS TO VARRY THE WEIGHT AND BIAS SO OUR OUTPUT ARE CLOSEST TO THE TARGETS. IT BOILS DOWN TO MINIMISZING \n",
    "# TO WT AND BIAS THE LOSS FN WITH RESPECT \n",
    "# BC THIS IS A LIN REG WE USE 1/2 THE L2 NORM LOSS FN\n",
    "\n",
    "# GAME PLAN FOR EACH ITERATION\n",
    " # Calculate output\n",
    " # Compare output to targets through the loss\n",
    " # Print the loss\n",
    " # Adjust wts and biases to get a better fit of the data \n",
    "\n",
    "# THE PROCESS IS THEN REPEATED FOR N-number OF TIMES"
   ]
  },
  {
   "cell_type": "code",
   "execution_count": 75,
   "id": "ff3a7479-3651-49ee-9946-d5f6a5c55aef",
   "metadata": {
    "scrolled": true
   },
   "outputs": [
    {
     "name": "stdout",
     "output_type": "stream",
     "text": [
      "222.23027136378766\n",
      "36.62692737359975\n",
      "14.458682489914274\n",
      "11.459672962939694\n",
      "10.726323238400918\n",
      "10.274411218202964\n",
      "9.870115192486956\n",
      "9.485331990692718\n",
      "9.116196743194584\n",
      "8.76172454401262\n",
      "8.421291626823052\n",
      "8.094337048732724\n",
      "7.780326596037556\n",
      "7.478747741688506\n",
      "7.189108313415368\n",
      "6.910935631547138\n",
      "6.643775730585154\n",
      "6.38719261751083\n",
      "6.140767560163858\n",
      "5.904098403877947\n",
      "5.676798915180967\n",
      "5.458498151479028\n",
      "5.248839855694729\n",
      "5.047481874871568\n",
      "4.854095601795623\n",
      "4.668365438723272\n",
      "4.489988282339817\n",
      "4.318673029108423\n",
      "4.1541401002021825\n",
      "3.9961209852439734\n",
      "3.844357804109548\n",
      "3.6986028860787004\n",
      "3.558618365647746\n",
      "3.4241757943436517\n",
      "3.2950557679063603\n",
      "3.1710475682308505\n",
      "3.051948819484627\n",
      "2.937565157839411\n",
      "2.8277099142780653\n",
      "2.722203809959128\n",
      "2.620874663641753\n",
      "2.5235571106936323\n",
      "2.430092333223319\n",
      "2.3403278008965342\n",
      "2.2541170220134887\n",
      "2.17131930444098\n",
      "2.091799526009128\n",
      "2.0154279139980504\n",
      "1.942079833354574\n",
      "1.8716355832934197\n",
      "1.803980201950869\n",
      "1.7390032787721534\n",
      "1.6765987743263655\n",
      "1.6166648472548513\n",
      "1.55910368807068\n",
      "1.5038213595379228\n",
      "1.4507276433703031\n",
      "1.3997358929989814\n",
      "1.350762892169233\n",
      "1.3037287191352485\n",
      "1.2585566162314161\n",
      "1.2151728646072537\n",
      "1.1735066639215308\n",
      "1.1334900167992954\n",
      "1.0950576178631894\n",
      "1.0581467471580013\n",
      "1.0226971677945018\n",
      "0.988651027645541\n",
      "0.9559527649339616\n",
      "0.9245490175582661\n",
      "0.8943885360080568\n",
      "0.8654220997271279\n",
      "0.8376024367877157\n",
      "0.8108841467448343\n",
      "0.785223626544781\n",
      "0.760578999366895\n",
      "0.7369100462824727\n",
      "0.7141781406192665\n",
      "0.6923461849244861\n",
      "0.67137855042342\n",
      "0.651241018874865\n",
      "0.6319007267284885\n",
      "0.6133261114929857\n",
      "0.5954868602275087\n",
      "0.5783538600722988\n",
      "0.5618991507378057\n",
      "0.5460958788747435\n",
      "0.5309182542506291\n",
      "0.5163415076612746\n",
      "0.5023418505085577\n",
      "0.488896435978488\n",
      "0.4759833217562374\n",
      "0.46358143421725606\n",
      "0.45167053403606644\n",
      "0.4402311831565858\n",
      "0.4292447130700905\n",
      "0.41869319434904334\n",
      "0.4085594073870732\n",
      "0.3988268142973462\n",
      "0.38947953192347234\n"
     ]
    }
   ],
   "source": [
    "# We iterate over our training dataset 100 times. That works well with a learning rate of 0.02.\\n\",\n",
    "# The proper number of iterations is something we will talk about later on, but generally\n",
    "# a lower learning rate would need more iterations, while a higher learning rate would need less iterations\n",
    "# keep in mind that a high learning rate may cause the loss to diverge to infinity, instead of converge to 0\n",
    "\n",
    "for i in range (100):\n",
    "# This is the linear model: y = xw + b equation\n",
    "    outputs = np.dot(inputs,weights) + biases\n",
    "\n",
    "# WHEN we add the bias which is a scalar, python adds it element-wise (ie it is added to each element of the output matrix)    \n",
    "# The deltas are the differences between the outputs and the targets\n",
    "# Note that deltas here is a vector 1000 x 1\n",
    "    deltas = outputs - targets\n",
    "# We are considering the L2-norm loss, but divided by 2, so it is consistent with the lectures.\n",
    "# Moreover, we further divide it by the number of observations\n",
    "# This is simple rescaling by a constant. We explained that this doesn't change the optimization logic\n",
    "# as any function holding the basic property of being lower for better results, and higher for worse results\n",
    "# can be a loss function\n",
    "    \n",
    "    loss = np.sum(deltas ** 2) / 2 / observations #\n",
    "    \n",
    "# We print the loss function value at each step so we can observe whether it is decreasing as desired\n",
    "    print (loss)\n",
    "# Another small trick is to scale the deltas the same way as the loss function\n",
    "# In this way our learning rate is independent of the number of samples (observations)\n",
    "# Again, this doesn't change anything in principle, it simply makes it easier to pick a single learning rate\n",
    "# that can remain the same if we change the number of training samples (observations).\n",
    "# You can try solving the problem without rescaling to see how that works for you.\n",
    "    \n",
    "    deltas_scaled = deltas / observations\n",
    "\n",
    "# Finally, we must apply the gradient descent update rules from the relevant lecture\n",
    "# The weights are 2x1, learning rate is 1x1 (scalar), inputs are 1000x2, and deltas_scaled are 1000x1\n",
    "# We must transpose the inputs so that we get an allowed operation.\n",
    "\n",
    "    weights = weights - learning_rate * np.dot(inputs.T,deltas_scaled)\n",
    "    biases = biases - learning_rate * np.sum(deltas_scaled)\n",
    "# The weights are updated in a linear algebraic way (a matrix minus another matrix)\n",
    "# The biases, however, are just a single number here, so we must transform the deltas into a scalar.\n",
    "# The two lines are both consistent with the gradient descent methodology."
   ]
  },
  {
   "cell_type": "markdown",
   "id": "f6ab0ead-d449-4c86-8e84-5a3461ea04fe",
   "metadata": {},
   "source": [
    "### Print weights and biases and see if we have worked correctly"
   ]
  },
  {
   "cell_type": "code",
   "execution_count": 76,
   "id": "e76055ee-a7a0-41dd-9426-4bb2800f45b4",
   "metadata": {},
   "outputs": [
    {
     "name": "stdout",
     "output_type": "stream",
     "text": [
      "[[ 2.00332097]\n",
      " [-2.99843276]] [4.36786051]\n"
     ]
    }
   ],
   "source": [
    "# We print the weights and the biases, so we can see if they have converged to what we wanted.\n",
    "# When declared the targets, following the f(x,z), we knew the weights should be 2 and -3, while the bias: 5\n",
    "print (weights,biases)\n",
    "# Note that they may be convergING. So more iterations are needed"
   ]
  },
  {
   "cell_type": "markdown",
   "id": "6bce4561-f485-4478-a0a6-f6ae53f80e2e",
   "metadata": {},
   "source": [
    "### Plot last outputs vs targets"
   ]
  },
  {
   "cell_type": "code",
   "execution_count": 77,
   "id": "4c1a172c-8884-4dda-a998-8c1df9ef7d2d",
   "metadata": {},
   "outputs": [
    {
     "data": {
      "image/png": "[encoded data removed]",
      "text/plain": [
       "<Figure size 640x480 with 1 Axes>"
      ]
     },
     "metadata": {},
     "output_type": "display_data"
    }
   ],
   "source": [
    "### Plot last outputs vs targets\n",
    "# Since they are the last ones at the end of the training, they represent the final model accuracy. <br/>\\n\",\n",
    "# The closer this plot is to a 45 degree line, the closer target and output values are.\n",
    "# We print the outputs and the targets in order to see if they have a linear relationship\n",
    "# Again, that's not needed. Moreover, in later lectures, that would not even be possible.\n",
    "\n",
    "plt.plot(outputs,targets)\n",
    "plt.xlabel('outputs')\n",
    "plt.ylabel('targets')\n",
    "plt.show()\n",
    "\n",
    "# THE CLOSER THE POINT IS TO A 45 DEGREE LINE THE CLOSER THE OUTPUT ARE TO THE TARGETS"
   ]
  },
  {
   "cell_type": "code",
   "execution_count": 78,
   "id": "4f76d72d-41fe-4192-a88d-94d392d64a96",
   "metadata": {},
   "outputs": [],
   "source": [
    "# PLAY AROUND WITH THE CODE. TRY DIFFERENT\n",
    "# 1. NUMBER OF OBSERVATIONS\n",
    "# 2. LEARNING RATE\n",
    "# 3. NUMBER OF ITERATION\n",
    "# 4. INITIAL RANGE FOR INITIALIZING WEIGHTS AND BIASES"
   ]
  },
  {
   "cell_type": "markdown",
   "id": "91161ab7-7277-4a73-852f-785fddb2e9fe",
   "metadata": {},
   "source": [
    "## ALL EXERCISE Simple Linear Regression. Minimal example\""
   ]
  },
  {
   "cell_type": "code",
   "execution_count": 102,
   "id": "67c8f132-b4fd-488f-ab44-d23b024c9524",
   "metadata": {},
   "outputs": [],
   "source": [
    "import numpy as np # All math operations are contained and it is very fast\n",
    "import matplotlib.pyplot as plt # nice graph plotting nd its module pyplot has a nice interface and requires very few arguements\n",
    "from mpl_toolkits.mplot3d import Axes3D # nice 3D graphs \n",
    "# pyplot and Axes3D are not essential for the ml algo, they provide us with good looking plots of our data"
   ]
  },
  {
   "cell_type": "code",
   "execution_count": 103,
   "id": "f619d5de-c5dc-44a7-9123-5b4696f5b825",
   "metadata": {},
   "outputs": [
    {
     "name": "stdout",
     "output_type": "stream",
     "text": [
      "(1000, 2)\n"
     ]
    }
   ],
   "source": [
    "observations = 1000 #contains the size of the dataset we want to generate\n",
    "\n",
    "# THE NUMBER OF OBSERVATION WILL AFFECT THE SPEED OF THE ALGO\n",
    "\n",
    "xs = np.random.uniform(low=-10, high=10, size=(observations,1))\n",
    "zs = np.random.uniform(-10, 10, (observations,1)) # xs nd zs are the 2 input variables\n",
    "\n",
    "# Combine the two dimensions of the input into one input matrix (inputs = n x k=1000*2)\n",
    "# This is the X matrix from the linear model y = x*w + b\n",
    "\n",
    "inputs = np.column_stack((xs,zs))\n",
    "# Check if the dimensions of the inputs are the same as the ones we defined in the linear model lectures.\n",
    "# They should be n x k, where n is the number of observations, and k is the number of variables, so 1000 x 2\n",
    "print (inputs.shape)\n",
    "# it is a matrix of 1000 by 2"
   ]
  },
  {
   "cell_type": "code",
   "execution_count": 104,
   "id": "37c794c2-a658-43aa-9f37-1e3df5558bf7",
   "metadata": {},
   "outputs": [
    {
     "name": "stdout",
     "output_type": "stream",
     "text": [
      "(1000, 1)\n"
     ]
    }
   ],
   "source": [
    "# targets = f(x,z) =2*x -3*z +5 + noise\n",
    "# conceptually the algo must learn this is the fn\n",
    "# the above equation is abbetrarely chosen where 2 nd -3 are the wts and 5 is the bias. noise is introduced to randomise the data a bit\n",
    "# real data always contains noise, its never perfect\n",
    "\n",
    "# We want to make up a function, use the ML methodology, and see if the algorithm has learned it.\n",
    "# We add a small random noise to the function i.e. f(x,z) = 2x - 3z + 5 + small noise\n",
    "\n",
    "noise = np.random.uniform(-1, 1, (observations,1))\n",
    "# Produce the targets according to the f(x,z) = 2x - 3z + 5 + noise definition.\n",
    "# In this way, we are basically saying: the weights should be 2 and -3, while the bias is 5.\n",
    "targets = 2*xs - 3*zs + 5 + noise\n",
    "\n",
    "# THE TARGET, THE TWO WTS AND THE NOISE HAVE SHAPES 1000 BY 1\n",
    "# Check the shape of the targets just in case. It should be n x m, where m is the number of output variables, so 1000 x 1\n",
    "print (targets.shape)"
   ]
  },
  {
   "cell_type": "code",
   "execution_count": 105,
   "id": "d95f0f70-5404-4787-9df8-70eda04c8013",
   "metadata": {},
   "outputs": [
    {
     "data": {
      "image/png": "[encoded data removed]",
      "text/plain": [
       "<Figure size 640x480 with 1 Axes>"
      ]
     },
     "metadata": {},
     "output_type": "display_data"
    }
   ],
   "source": [
    "targets = targets.reshape(observations,) # the coma here makes no difference\n",
    "# Plotting according to the conventional matplotlib.pyplot syntax\n",
    "\n",
    "# Declare the figure\n",
    "fig = plt.figure()\n",
    "\n",
    "# A method allowing us to create the 3D plot\n",
    "ax = fig.add_subplot(111, projection='3d')\n",
    "# Choose the axes\n",
    "ax.plot(xs, zs, targets)\n",
    "# Set labels\n",
    "ax.set_xlabel('xs')\n",
    "ax.set_ylabel('zs')\n",
    "ax.set_zlabel('Targets')\n",
    "\n",
    "# You can fiddle with the azim parameter to plot the data from different angles. Just change the value of azim=100\n",
    "# to azim = 0 ; azim = 200, or whatever. Check and see what happens.\n",
    "ax.view_init(azim=100)\n",
    "\n",
    "# So far we were just describing the plot. This method actually shows the plot. \n",
    "plt.show()"
   ]
  },
  {
   "cell_type": "code",
   "execution_count": 106,
   "id": "89a35227-5364-4f94-82c7-25cea3ab9fd0",
   "metadata": {
    "scrolled": true
   },
   "outputs": [
    {
     "data": {
      "text/plain": [
       "array([[ 3.59020730e+01],\n",
       "       [ 9.46752677e+00],\n",
       "       [ 3.82773895e+01],\n",
       "       [-2.10217162e+00],\n",
       "       [ 2.88443706e+00],\n",
       "       [-2.07329103e+01],\n",
       "       [ 4.34645250e+01],\n",
       "       [-3.04886928e+01],\n",
       "       [-1.48118922e+00],\n",
       "       [-1.82040409e+01],\n",
       "       [ 4.87380899e+00],\n",
       "       [ 1.16141000e+01],\n",
       "       [ 5.05271718e+01],\n",
       "       [ 7.65745440e+00],\n",
       "       [ 9.86322242e+00],\n",
       "       [-9.29887934e+00],\n",
       "       [ 7.99890307e+00],\n",
       "       [ 1.53529388e+01],\n",
       "       [-2.59795210e+01],\n",
       "       [ 2.38595253e+01],\n",
       "       [-9.75449029e+00],\n",
       "       [ 2.59727771e+01],\n",
       "       [ 3.27723362e+01],\n",
       "       [ 3.72607785e+00],\n",
       "       [-8.87657406e-01],\n",
       "       [-4.07757108e-01],\n",
       "       [ 2.55888197e+01],\n",
       "       [ 1.67808405e+01],\n",
       "       [-1.61287155e+01],\n",
       "       [-1.37173753e+01],\n",
       "       [ 3.22561929e+01],\n",
       "       [-2.21304560e+01],\n",
       "       [ 3.07154354e+01],\n",
       "       [ 1.53992627e+01],\n",
       "       [ 4.42628424e+01],\n",
       "       [ 1.25258074e-01],\n",
       "       [ 1.90433491e+01],\n",
       "       [ 3.08783314e+01],\n",
       "       [ 2.26005058e+01],\n",
       "       [ 2.58496584e+01],\n",
       "       [-3.46199175e+01],\n",
       "       [-1.54562181e+01],\n",
       "       [-1.09146892e+01],\n",
       "       [-9.26433740e+00],\n",
       "       [-4.68796802e+00],\n",
       "       [ 4.05175681e+01],\n",
       "       [ 2.69645776e+01],\n",
       "       [ 2.15447677e+01],\n",
       "       [-8.15359031e+00],\n",
       "       [-6.19621889e+00],\n",
       "       [-3.23120435e+01],\n",
       "       [-8.59179933e+00],\n",
       "       [ 2.93852356e+01],\n",
       "       [ 4.38517636e+01],\n",
       "       [-2.22591148e+01],\n",
       "       [-2.19626627e+01],\n",
       "       [-9.16947449e+00],\n",
       "       [-6.50854061e+00],\n",
       "       [-2.71963586e+01],\n",
       "       [ 4.10994905e+01],\n",
       "       [-1.47426204e+01],\n",
       "       [ 1.20178237e+01],\n",
       "       [-1.50773546e+01],\n",
       "       [-2.19438109e+01],\n",
       "       [ 3.40824884e+01],\n",
       "       [-4.24291480e+01],\n",
       "       [ 3.42975323e+00],\n",
       "       [ 8.13224721e+00],\n",
       "       [-4.87835383e+00],\n",
       "       [ 9.29489332e+00],\n",
       "       [ 3.92903494e+01],\n",
       "       [-2.34586714e+01],\n",
       "       [ 2.58309650e+00],\n",
       "       [-2.89511223e+01],\n",
       "       [-2.11570134e+01],\n",
       "       [ 1.85886445e+01],\n",
       "       [-2.09076149e+01],\n",
       "       [ 9.28678644e+00],\n",
       "       [-3.31252736e+01],\n",
       "       [ 3.34323584e+00],\n",
       "       [-7.56802879e+00],\n",
       "       [ 1.84429257e+01],\n",
       "       [-1.18100170e+01],\n",
       "       [-2.19644032e+01],\n",
       "       [-3.23699913e+00],\n",
       "       [ 6.04851917e+00],\n",
       "       [-2.11074716e+01],\n",
       "       [ 2.85620955e+01],\n",
       "       [-1.19150518e+01],\n",
       "       [ 4.02063133e-01],\n",
       "       [ 1.53855870e+00],\n",
       "       [-1.35351478e+00],\n",
       "       [-4.66249220e+00],\n",
       "       [-1.11086326e+01],\n",
       "       [-7.39042898e-01],\n",
       "       [ 3.68642410e+01],\n",
       "       [ 1.06303791e+00],\n",
       "       [-3.56307852e+00],\n",
       "       [-2.44458414e+01],\n",
       "       [ 1.25802423e+01],\n",
       "       [ 3.19799762e+01],\n",
       "       [-1.95409074e+01],\n",
       "       [ 1.46386112e+01],\n",
       "       [ 2.56100902e+01],\n",
       "       [-5.60707632e-03],\n",
       "       [ 1.21853712e+01],\n",
       "       [-1.25821841e+01],\n",
       "       [ 2.16048922e+01],\n",
       "       [-5.08694302e+00],\n",
       "       [ 2.40570146e+01],\n",
       "       [ 3.64007014e+01],\n",
       "       [ 3.89494426e+01],\n",
       "       [-1.38114313e+01],\n",
       "       [-3.88353770e+00],\n",
       "       [-4.38540632e+00],\n",
       "       [ 1.95223125e+01],\n",
       "       [ 5.05719565e+01],\n",
       "       [ 1.29193233e+01],\n",
       "       [-2.99885178e+01],\n",
       "       [ 1.62405348e+01],\n",
       "       [-1.10861601e+01],\n",
       "       [ 2.60725673e+01],\n",
       "       [ 4.01269889e+01],\n",
       "       [ 2.21596030e+01],\n",
       "       [ 3.09606220e+01],\n",
       "       [ 3.98458107e+01],\n",
       "       [ 3.57760656e+00],\n",
       "       [-4.74758714e+00],\n",
       "       [ 2.28578048e+01],\n",
       "       [ 4.00891078e+01],\n",
       "       [ 4.96249730e+00],\n",
       "       [ 2.15108820e+01],\n",
       "       [ 2.33641819e+01],\n",
       "       [ 2.04566780e+01],\n",
       "       [ 4.42122012e+01],\n",
       "       [ 1.13729730e+01],\n",
       "       [-1.02837861e+00],\n",
       "       [-3.47778355e+01],\n",
       "       [ 4.87345781e+01],\n",
       "       [ 1.23492036e+01],\n",
       "       [ 2.31145543e+01],\n",
       "       [-5.34221883e+00],\n",
       "       [-3.96356092e+01],\n",
       "       [ 2.65587576e+01],\n",
       "       [ 2.64271981e+01],\n",
       "       [-9.61179827e+00],\n",
       "       [ 3.05077429e+01],\n",
       "       [ 3.37357673e+00],\n",
       "       [ 3.95864131e+01],\n",
       "       [-1.92498433e+01],\n",
       "       [ 1.70406610e+01],\n",
       "       [ 1.65138753e+01],\n",
       "       [ 2.99027704e+01],\n",
       "       [-2.96507462e+00],\n",
       "       [-2.79598767e+01],\n",
       "       [-3.26377944e+01],\n",
       "       [-1.80861547e+01],\n",
       "       [ 1.84800811e+01],\n",
       "       [ 1.26845815e+01],\n",
       "       [ 2.06789202e+01],\n",
       "       [ 1.95193359e+01],\n",
       "       [-1.88529636e+00],\n",
       "       [ 4.20612596e+01],\n",
       "       [ 3.73764114e+01],\n",
       "       [ 2.78821246e+01],\n",
       "       [ 1.55830793e+01],\n",
       "       [ 2.94726011e+01],\n",
       "       [ 4.36477635e+01],\n",
       "       [-3.83061397e+00],\n",
       "       [-8.98330988e+00],\n",
       "       [ 1.78310791e+00],\n",
       "       [ 1.48264985e+01],\n",
       "       [ 4.03359592e+01],\n",
       "       [-9.32973469e+00],\n",
       "       [-6.07818132e+00],\n",
       "       [-2.48488670e+00],\n",
       "       [ 1.87875200e+01],\n",
       "       [-1.83510271e+01],\n",
       "       [ 3.88040169e+00],\n",
       "       [ 5.82065292e+00],\n",
       "       [-3.70424486e+01],\n",
       "       [ 1.35362563e+00],\n",
       "       [ 2.34089517e+01],\n",
       "       [ 4.52352418e+01],\n",
       "       [ 2.57121050e+01],\n",
       "       [-2.95336870e+01],\n",
       "       [-1.97202719e+01],\n",
       "       [ 1.53830270e+01],\n",
       "       [-1.02503855e+01],\n",
       "       [ 1.55189500e+01],\n",
       "       [-5.80537545e+00],\n",
       "       [-3.56730151e+01],\n",
       "       [ 5.49506885e+00],\n",
       "       [-6.71640688e+00],\n",
       "       [ 1.77545660e+00],\n",
       "       [ 7.85216896e+00],\n",
       "       [ 5.33146598e+00],\n",
       "       [ 1.34894651e+01],\n",
       "       [-1.27842034e-02],\n",
       "       [ 4.41024043e+01],\n",
       "       [-3.55886379e+00],\n",
       "       [ 3.56361586e+01],\n",
       "       [ 1.50164807e+01],\n",
       "       [ 2.40355635e+01],\n",
       "       [ 2.31962990e+01],\n",
       "       [ 2.72472961e+01],\n",
       "       [ 2.45440673e+00],\n",
       "       [-4.10083860e+00],\n",
       "       [ 2.18151783e+01],\n",
       "       [ 1.16964367e+01],\n",
       "       [ 6.61914524e+00],\n",
       "       [ 4.07127440e+01],\n",
       "       [ 2.08318756e+01],\n",
       "       [ 1.39307356e+00],\n",
       "       [-2.58506058e+01],\n",
       "       [-9.26946360e+00],\n",
       "       [-1.79027027e+00],\n",
       "       [ 2.25701447e+01],\n",
       "       [ 1.09697671e+01],\n",
       "       [ 1.15982842e+01],\n",
       "       [ 1.71582478e+01],\n",
       "       [ 7.93701824e+00],\n",
       "       [ 2.19018840e+01],\n",
       "       [-1.59972387e+00],\n",
       "       [ 1.65785325e+01],\n",
       "       [-1.54130041e+01],\n",
       "       [ 3.82094763e+01],\n",
       "       [-1.45463386e+01],\n",
       "       [-5.67295613e+00],\n",
       "       [ 1.58275619e+01],\n",
       "       [ 7.33659180e+00],\n",
       "       [-1.04897681e+01],\n",
       "       [ 1.15891105e+01],\n",
       "       [-2.14156220e+01],\n",
       "       [-3.23599245e+01],\n",
       "       [-9.69416155e+00],\n",
       "       [ 6.95772566e+00],\n",
       "       [ 1.92318019e+01],\n",
       "       [-3.51998238e+01],\n",
       "       [ 1.57760918e+01],\n",
       "       [ 3.81440897e+00],\n",
       "       [-1.00594908e+01],\n",
       "       [ 1.54843622e+01],\n",
       "       [ 5.93585903e+00],\n",
       "       [ 7.10937514e+00],\n",
       "       [-2.41005586e+00],\n",
       "       [ 3.18318482e+01],\n",
       "       [-2.97409705e+01],\n",
       "       [ 7.54290956e+00],\n",
       "       [ 1.69063451e+00],\n",
       "       [ 3.56451934e+00],\n",
       "       [ 2.02591963e+01],\n",
       "       [ 3.26041612e+01],\n",
       "       [ 3.93187264e+00],\n",
       "       [ 3.60671149e+00],\n",
       "       [-1.58631870e+01],\n",
       "       [-1.72242208e+01],\n",
       "       [ 3.54788699e+01],\n",
       "       [-1.11036688e+01],\n",
       "       [-1.15590230e+01],\n",
       "       [-3.29015768e+01],\n",
       "       [-1.09145801e+00],\n",
       "       [ 7.97427603e+00],\n",
       "       [ 3.85366058e+00],\n",
       "       [ 1.65063337e+01],\n",
       "       [-4.22553961e+01],\n",
       "       [ 1.21999769e-02],\n",
       "       [-6.60445659e+00],\n",
       "       [ 2.28277538e+01],\n",
       "       [-3.04934546e+00],\n",
       "       [-2.21668728e+01],\n",
       "       [-3.38899134e+01],\n",
       "       [ 1.50671297e+01],\n",
       "       [ 4.96590215e+00],\n",
       "       [ 2.84516687e+01],\n",
       "       [ 2.06812688e+01],\n",
       "       [ 2.26371752e+00],\n",
       "       [ 1.25913952e+01],\n",
       "       [ 4.79546900e+01],\n",
       "       [-2.67440539e+01],\n",
       "       [ 7.07950361e+00],\n",
       "       [-1.00004068e+01],\n",
       "       [-4.36682117e-01],\n",
       "       [-1.95223254e+01],\n",
       "       [ 5.72497000e+00],\n",
       "       [ 2.38071875e+01],\n",
       "       [ 1.50844321e+01],\n",
       "       [ 3.61366040e+01],\n",
       "       [ 1.54252716e+01],\n",
       "       [-1.30185125e+01],\n",
       "       [-6.63758622e+00],\n",
       "       [ 2.16837004e+01],\n",
       "       [ 3.02513996e+01],\n",
       "       [-4.58249898e-01],\n",
       "       [-2.32479302e+01],\n",
       "       [-3.19184270e+00],\n",
       "       [ 1.08971274e+01],\n",
       "       [-1.41770568e+01],\n",
       "       [-4.36964285e+00],\n",
       "       [ 2.63287208e+01],\n",
       "       [ 1.22417540e+01],\n",
       "       [ 1.68567245e+01],\n",
       "       [-2.13527405e+01],\n",
       "       [-1.76230724e+01],\n",
       "       [ 2.16335343e+01],\n",
       "       [-2.96451662e+00],\n",
       "       [ 1.25987314e+01],\n",
       "       [-5.32774356e+00],\n",
       "       [ 5.89989085e-02],\n",
       "       [-2.41668491e+00],\n",
       "       [ 4.28603000e+01],\n",
       "       [ 1.68947571e+01],\n",
       "       [ 1.35040918e+01],\n",
       "       [ 3.21605070e+01],\n",
       "       [ 2.33922135e+01],\n",
       "       [ 2.46656439e+00],\n",
       "       [ 3.87763271e+01],\n",
       "       [-1.52641170e+01],\n",
       "       [-5.05930629e+00],\n",
       "       [-5.51674402e+00],\n",
       "       [-2.16711318e+01],\n",
       "       [ 6.66481897e+00],\n",
       "       [-2.44531078e+00],\n",
       "       [ 2.72429918e+01],\n",
       "       [ 3.20246086e+01],\n",
       "       [-2.44108585e+01],\n",
       "       [-1.51535444e+01],\n",
       "       [ 4.80262760e+01],\n",
       "       [ 1.62812081e+01],\n",
       "       [-2.02339466e+01],\n",
       "       [ 1.26876922e+00],\n",
       "       [ 7.70537501e+00],\n",
       "       [ 1.63563148e+01],\n",
       "       [-8.36456791e+00],\n",
       "       [ 3.46180046e+01],\n",
       "       [-3.54736777e+00],\n",
       "       [ 1.23838249e+01],\n",
       "       [ 6.33645044e+00],\n",
       "       [ 1.49185972e+01],\n",
       "       [ 1.34298172e+01],\n",
       "       [ 1.58172979e+01],\n",
       "       [ 2.04073366e+01],\n",
       "       [ 6.76841990e+00],\n",
       "       [ 2.10937783e+01],\n",
       "       [ 1.07170315e+01],\n",
       "       [ 1.31250897e+01],\n",
       "       [-2.85013405e+01],\n",
       "       [ 9.53820554e+00],\n",
       "       [ 8.63189978e+00],\n",
       "       [ 1.16604239e+01],\n",
       "       [ 1.33903137e+01],\n",
       "       [-1.08189529e+01],\n",
       "       [-3.15182624e+00],\n",
       "       [ 1.11605584e+01],\n",
       "       [ 1.15709467e+01],\n",
       "       [ 3.13852885e+01],\n",
       "       [ 8.15454474e+00],\n",
       "       [-1.94366081e+01],\n",
       "       [ 1.40773446e+01],\n",
       "       [ 3.35605785e+01],\n",
       "       [-3.98208546e+01],\n",
       "       [ 2.64992091e+01],\n",
       "       [-1.11103418e+01],\n",
       "       [-2.25596257e+00],\n",
       "       [-2.17275918e+01],\n",
       "       [-2.16767520e+01],\n",
       "       [-1.25614776e+00],\n",
       "       [-1.47673451e+01],\n",
       "       [-1.11998370e+00],\n",
       "       [ 2.26110822e+01],\n",
       "       [ 2.03197361e+01],\n",
       "       [-2.70392008e+00],\n",
       "       [ 1.32262392e+01],\n",
       "       [ 3.94784351e+01],\n",
       "       [ 9.65621713e+00],\n",
       "       [ 3.70010430e+01],\n",
       "       [ 1.06402723e+01],\n",
       "       [ 7.83390103e+00],\n",
       "       [ 1.13528266e+01],\n",
       "       [ 6.96138243e+00],\n",
       "       [ 1.01375427e+01],\n",
       "       [-1.54093547e+01],\n",
       "       [-1.52724507e+01],\n",
       "       [ 4.13656788e+01],\n",
       "       [ 4.71632667e+01],\n",
       "       [ 3.90250719e+01],\n",
       "       [-1.23795476e+01],\n",
       "       [-1.05352156e+01],\n",
       "       [-8.37984192e+00],\n",
       "       [-1.93986762e+01],\n",
       "       [-3.53677961e+00],\n",
       "       [-5.07898909e+00],\n",
       "       [-3.14265097e+00],\n",
       "       [-2.16547523e+01],\n",
       "       [ 2.13428614e+01],\n",
       "       [-1.91118081e+01],\n",
       "       [ 2.67965579e+01],\n",
       "       [-9.82846121e+00],\n",
       "       [ 2.26638462e+01],\n",
       "       [ 4.08688667e+01],\n",
       "       [-9.33068215e+00],\n",
       "       [ 1.86982157e+01],\n",
       "       [ 4.46755389e+01],\n",
       "       [-1.07382001e+01],\n",
       "       [ 1.81010826e+01],\n",
       "       [-3.44848809e+01],\n",
       "       [ 2.37129935e+01],\n",
       "       [ 8.93541528e+00],\n",
       "       [-1.69103214e+01],\n",
       "       [ 4.72282419e+00],\n",
       "       [-1.81052842e+01],\n",
       "       [ 4.45780892e+01],\n",
       "       [ 1.12773979e+00],\n",
       "       [-1.30268980e+01],\n",
       "       [ 2.58455057e+01],\n",
       "       [-6.04644357e+00],\n",
       "       [-1.74811044e+01],\n",
       "       [ 2.04584975e+01],\n",
       "       [-6.88840453e-01],\n",
       "       [ 1.58174570e+01],\n",
       "       [ 3.73484498e+00],\n",
       "       [ 6.15491435e-01],\n",
       "       [-1.24327754e+00],\n",
       "       [ 7.27929160e+00],\n",
       "       [ 3.21308701e+00],\n",
       "       [-1.78584745e+01],\n",
       "       [ 9.84091591e+00],\n",
       "       [ 2.20004412e+01],\n",
       "       [-2.83364448e+01],\n",
       "       [-1.68710563e+01],\n",
       "       [ 2.69539177e+01],\n",
       "       [ 1.65345253e+01],\n",
       "       [ 2.30260980e+01],\n",
       "       [ 3.30234622e+01],\n",
       "       [-1.42666772e+01],\n",
       "       [-5.36082005e+00],\n",
       "       [ 1.30594603e+01],\n",
       "       [-3.76546744e+01],\n",
       "       [-1.95932084e+01],\n",
       "       [-8.44724262e-01],\n",
       "       [ 2.76557905e+01],\n",
       "       [-3.66345756e+01],\n",
       "       [ 1.86645644e+00],\n",
       "       [-2.60224232e+01],\n",
       "       [ 1.17104148e+01],\n",
       "       [-1.74197793e+01],\n",
       "       [-1.43272120e+01],\n",
       "       [ 1.04443760e+01],\n",
       "       [-1.27254137e+01],\n",
       "       [ 2.05788499e+01],\n",
       "       [ 2.72147704e+01],\n",
       "       [-2.18137840e+01],\n",
       "       [ 4.13908490e+01],\n",
       "       [ 1.24471798e+01],\n",
       "       [ 7.42732841e+00],\n",
       "       [-2.27407084e+01],\n",
       "       [-3.06831592e+01],\n",
       "       [-1.84540302e+01],\n",
       "       [-2.71912294e+01],\n",
       "       [ 3.15128365e+00],\n",
       "       [-8.12721911e-01],\n",
       "       [ 1.21562833e+01],\n",
       "       [ 1.16927453e+01],\n",
       "       [-1.10854682e+01],\n",
       "       [ 3.61356488e+01],\n",
       "       [ 3.25451861e+01],\n",
       "       [ 9.52121194e+00],\n",
       "       [ 2.61975744e+00],\n",
       "       [ 1.85495571e+01],\n",
       "       [ 1.29900061e+01],\n",
       "       [ 2.60472093e+01],\n",
       "       [-6.66447810e+00],\n",
       "       [ 4.66941161e+00],\n",
       "       [-2.56345449e+01],\n",
       "       [-3.51240608e+01],\n",
       "       [ 1.11652306e+01],\n",
       "       [-2.67725622e+01],\n",
       "       [ 1.73311768e+00],\n",
       "       [ 2.08524272e+01],\n",
       "       [ 7.20819753e+00],\n",
       "       [ 1.32341494e+01],\n",
       "       [ 2.29277190e+01],\n",
       "       [-1.32727947e+01],\n",
       "       [ 1.98619592e+01],\n",
       "       [ 3.39219711e+01],\n",
       "       [ 2.71275369e+01],\n",
       "       [ 2.37652214e+01],\n",
       "       [-2.67885384e+01],\n",
       "       [ 4.58137377e+01],\n",
       "       [-9.21178971e+00],\n",
       "       [ 1.49862797e+01],\n",
       "       [-4.79609341e+00],\n",
       "       [ 1.97948030e+01],\n",
       "       [ 3.44889873e+01],\n",
       "       [ 1.61853590e+01],\n",
       "       [ 2.76266656e+01],\n",
       "       [ 3.57686945e+01],\n",
       "       [-3.35040785e+00],\n",
       "       [-2.48195588e+00],\n",
       "       [-1.13824959e+01],\n",
       "       [ 9.40626974e+00],\n",
       "       [ 4.22293002e+01],\n",
       "       [ 1.13553272e+01],\n",
       "       [-7.96561976e-01],\n",
       "       [ 1.37306934e+00],\n",
       "       [-1.86031251e+01],\n",
       "       [ 1.43377413e+01],\n",
       "       [-1.89464330e+01],\n",
       "       [ 2.93787885e+01],\n",
       "       [ 2.95106278e+01],\n",
       "       [-6.91821651e+00],\n",
       "       [ 8.35012195e+00],\n",
       "       [ 8.84694991e+00],\n",
       "       [ 2.14703202e+01],\n",
       "       [-9.32738649e+00],\n",
       "       [ 3.03456317e-01],\n",
       "       [ 5.64564651e+00],\n",
       "       [-6.11291276e+00],\n",
       "       [ 1.73202193e+01],\n",
       "       [-3.29010184e+00],\n",
       "       [-2.31089464e+01],\n",
       "       [ 3.71462224e+01],\n",
       "       [-1.95458598e+01],\n",
       "       [-1.31759213e+01],\n",
       "       [ 1.49568484e+01],\n",
       "       [-4.13015870e+00],\n",
       "       [-1.53964990e+01],\n",
       "       [ 1.17161254e+01],\n",
       "       [ 1.85226711e+01],\n",
       "       [-2.35283998e+01],\n",
       "       [-3.02083938e+01],\n",
       "       [-2.55171873e+01],\n",
       "       [ 1.51649730e+01],\n",
       "       [-4.76900782e+00],\n",
       "       [ 2.86156721e+01],\n",
       "       [ 7.43988561e-01],\n",
       "       [-1.24827558e+01],\n",
       "       [-3.97196699e+00],\n",
       "       [-1.14435848e+01],\n",
       "       [-1.75818348e+01],\n",
       "       [-1.97632128e+01],\n",
       "       [-2.34709436e+00],\n",
       "       [ 1.44034488e+01],\n",
       "       [ 2.08549191e+01],\n",
       "       [ 1.73589018e+01],\n",
       "       [-4.50607269e+00],\n",
       "       [ 8.54610341e+00],\n",
       "       [ 1.57971209e+01],\n",
       "       [ 1.44180843e+01],\n",
       "       [ 2.56951293e+01],\n",
       "       [ 2.25355580e+01],\n",
       "       [ 3.17018781e+01],\n",
       "       [ 1.93202309e+01],\n",
       "       [ 9.26355787e+00],\n",
       "       [-5.94977472e+00],\n",
       "       [-3.89742582e+01],\n",
       "       [ 2.07223906e-01],\n",
       "       [ 9.26354254e+00],\n",
       "       [ 4.10279203e+01],\n",
       "       [ 4.71352143e+00],\n",
       "       [-1.14788752e+01],\n",
       "       [-2.65752961e+01],\n",
       "       [ 2.01863945e+01],\n",
       "       [ 1.65573906e+01],\n",
       "       [-3.71137791e+01],\n",
       "       [ 2.78132984e+01],\n",
       "       [-2.80034843e+01],\n",
       "       [ 4.37493065e+01],\n",
       "       [-3.32895946e+01],\n",
       "       [-7.87481460e+00],\n",
       "       [ 1.43923077e-01],\n",
       "       [ 1.63773208e+01],\n",
       "       [-2.35493204e+01],\n",
       "       [ 7.37272053e+00],\n",
       "       [ 2.71022289e+01],\n",
       "       [ 1.85051519e+01],\n",
       "       [ 2.06388329e+01],\n",
       "       [-3.11784776e+00],\n",
       "       [-4.24597826e+01],\n",
       "       [ 7.74736694e+00],\n",
       "       [ 1.08296980e+01],\n",
       "       [-2.58293597e+01],\n",
       "       [-3.14742383e+01],\n",
       "       [-1.88004585e+01],\n",
       "       [-3.43665115e+00],\n",
       "       [ 1.99835488e+01],\n",
       "       [ 1.26546058e+01],\n",
       "       [ 1.74730279e+01],\n",
       "       [-4.01050450e+01],\n",
       "       [-1.60572269e+01],\n",
       "       [ 7.70413827e+00],\n",
       "       [ 1.47584622e+00],\n",
       "       [ 1.13303332e+01],\n",
       "       [ 1.94462379e+01],\n",
       "       [ 1.05975007e+01],\n",
       "       [ 4.20130527e+01],\n",
       "       [ 1.23285126e+01],\n",
       "       [-4.60806702e+00],\n",
       "       [ 5.15530437e+00],\n",
       "       [-3.22604926e+01],\n",
       "       [ 3.21749869e+00],\n",
       "       [ 1.41570906e+01],\n",
       "       [-1.53732953e+00],\n",
       "       [ 4.90713668e+01],\n",
       "       [ 2.10374057e+01],\n",
       "       [ 2.28687511e+00],\n",
       "       [ 3.82804460e+01],\n",
       "       [ 1.49361690e+01],\n",
       "       [ 4.14386670e+01],\n",
       "       [ 2.87216963e+00],\n",
       "       [ 1.12316554e+01],\n",
       "       [ 1.43180577e+01],\n",
       "       [ 3.73808473e+01],\n",
       "       [-1.40971438e+01],\n",
       "       [ 1.53812698e+01],\n",
       "       [ 2.50726848e+01],\n",
       "       [-2.76313294e+01],\n",
       "       [-5.29850172e+00],\n",
       "       [-1.44595547e+01],\n",
       "       [ 1.65762587e+01],\n",
       "       [-6.38041759e+00],\n",
       "       [ 2.20024738e+01],\n",
       "       [-3.21547266e+01],\n",
       "       [ 2.55847240e+01],\n",
       "       [ 1.73729807e+01],\n",
       "       [ 2.27217272e-02],\n",
       "       [ 1.95641765e+01],\n",
       "       [ 8.69693807e+00],\n",
       "       [ 4.09920478e+01],\n",
       "       [-2.65999970e+00],\n",
       "       [ 1.27093398e+01],\n",
       "       [-3.40321556e+01],\n",
       "       [-2.24490340e+00],\n",
       "       [ 6.99292859e+00],\n",
       "       [ 4.51390513e+01],\n",
       "       [ 2.10272789e+01],\n",
       "       [ 3.58832119e+01],\n",
       "       [-1.96627817e+00],\n",
       "       [ 2.97671990e+01],\n",
       "       [ 2.61416647e+01],\n",
       "       [ 1.21322394e+01],\n",
       "       [-5.57849739e+00],\n",
       "       [ 8.59542506e+00],\n",
       "       [-5.97318157e+00],\n",
       "       [-8.21974670e-01],\n",
       "       [ 2.50078335e+01],\n",
       "       [ 5.14526984e+00],\n",
       "       [-6.76907726e+00],\n",
       "       [-2.37746883e+01],\n",
       "       [-1.90637148e+01],\n",
       "       [-2.30824303e+01],\n",
       "       [ 3.75111148e+01],\n",
       "       [-8.59774672e+00],\n",
       "       [ 2.84419358e+01],\n",
       "       [-1.37950336e+01],\n",
       "       [ 2.69973155e+01],\n",
       "       [-5.90048753e+00],\n",
       "       [-3.37715880e+01],\n",
       "       [-2.07407194e+01],\n",
       "       [-1.99097112e+00],\n",
       "       [ 1.49815221e+01],\n",
       "       [-2.14606843e+01],\n",
       "       [-7.48426801e+00],\n",
       "       [-3.32642092e+01],\n",
       "       [ 4.80239615e+01],\n",
       "       [ 4.38066643e+01],\n",
       "       [-4.53656423e-01],\n",
       "       [ 4.01011635e+01],\n",
       "       [ 2.03353231e+01],\n",
       "       [ 3.61500616e+01],\n",
       "       [-9.17075795e+00],\n",
       "       [ 2.62299807e+01],\n",
       "       [ 2.68188377e+01],\n",
       "       [-2.88459325e+01],\n",
       "       [ 2.57047503e+01],\n",
       "       [ 4.10882180e+01],\n",
       "       [ 2.30725787e+01],\n",
       "       [ 2.12906776e+01],\n",
       "       [ 9.07310189e+00],\n",
       "       [ 5.74851030e+00],\n",
       "       [-1.91555226e+01],\n",
       "       [-3.07901647e+01],\n",
       "       [-3.54476887e+00],\n",
       "       [ 5.95336797e+00],\n",
       "       [-2.42842125e+00],\n",
       "       [-1.70165768e+01],\n",
       "       [ 5.27234047e+00],\n",
       "       [ 2.75371961e+01],\n",
       "       [-2.10046727e+01],\n",
       "       [ 1.27058998e+01],\n",
       "       [-2.69169144e+01],\n",
       "       [ 1.83513329e+01],\n",
       "       [ 3.61924095e+01],\n",
       "       [ 2.45516939e+01],\n",
       "       [ 5.48428550e+00],\n",
       "       [-1.28362177e+01],\n",
       "       [ 7.46473247e+00],\n",
       "       [-2.40487995e+01],\n",
       "       [ 2.42654240e+01],\n",
       "       [-2.67354131e+00],\n",
       "       [ 2.20839272e+00],\n",
       "       [-1.45198561e+01],\n",
       "       [ 4.47076297e+01],\n",
       "       [ 4.90812015e+00],\n",
       "       [ 3.58483201e+01],\n",
       "       [-9.96776198e+00],\n",
       "       [-2.55121456e+01],\n",
       "       [ 1.63810220e+01],\n",
       "       [-2.58420452e+00],\n",
       "       [-4.07697203e+00],\n",
       "       [-2.75014860e+01],\n",
       "       [-1.60797708e+01],\n",
       "       [ 8.10531781e+00],\n",
       "       [ 1.25264162e+01],\n",
       "       [ 3.74887543e+01],\n",
       "       [ 3.85999506e+00],\n",
       "       [-2.17118265e+01],\n",
       "       [ 6.52829237e+00],\n",
       "       [ 6.25610477e+00],\n",
       "       [-5.20443866e+00],\n",
       "       [-1.58892721e+01],\n",
       "       [-9.16077836e-01],\n",
       "       [-3.43725839e+00],\n",
       "       [ 2.67579048e+01],\n",
       "       [-3.29673926e+01],\n",
       "       [ 2.82832343e+01],\n",
       "       [-1.38938799e+01],\n",
       "       [-2.81052645e+00],\n",
       "       [ 3.54877115e+01],\n",
       "       [-2.53954088e+00],\n",
       "       [-1.62533597e+01],\n",
       "       [-2.83344291e+01],\n",
       "       [ 1.60964435e+01],\n",
       "       [-1.42584417e+01],\n",
       "       [-3.98044844e+00],\n",
       "       [-1.17296066e+01],\n",
       "       [ 6.16881954e+00],\n",
       "       [ 4.17546953e+01],\n",
       "       [ 2.30972891e+01],\n",
       "       [ 1.22076365e+01],\n",
       "       [ 3.20306183e+01],\n",
       "       [-5.41532708e+00],\n",
       "       [ 3.25208096e+01],\n",
       "       [ 2.26309618e+01],\n",
       "       [ 1.04771106e+01],\n",
       "       [-3.45246914e+01],\n",
       "       [-2.89184494e+00],\n",
       "       [-2.40115330e+01],\n",
       "       [-1.61212758e+00],\n",
       "       [ 3.75356675e+01],\n",
       "       [-1.53965753e+01],\n",
       "       [ 3.72424345e+01],\n",
       "       [-2.96510337e+01],\n",
       "       [ 2.01530262e+01],\n",
       "       [ 1.48114019e+00],\n",
       "       [ 2.49387314e+01],\n",
       "       [-7.10069331e-01],\n",
       "       [ 2.60654723e+01],\n",
       "       [-2.66195202e+01],\n",
       "       [-1.73814374e+01],\n",
       "       [ 1.86518153e+01],\n",
       "       [ 4.30347767e+00],\n",
       "       [ 2.50091507e+01],\n",
       "       [ 9.53118017e+00],\n",
       "       [-2.33425490e+01],\n",
       "       [-1.23876495e+01],\n",
       "       [ 8.58404294e+00],\n",
       "       [-9.27451522e+00],\n",
       "       [-1.09146925e+00],\n",
       "       [-1.16933810e+00],\n",
       "       [ 3.99142685e+01],\n",
       "       [ 1.91296029e+01],\n",
       "       [-2.93070670e+00],\n",
       "       [ 4.86274238e+00],\n",
       "       [ 1.75090946e+01],\n",
       "       [ 2.45192452e+01],\n",
       "       [ 6.10714565e+00],\n",
       "       [ 1.75575470e+00],\n",
       "       [ 1.22406225e+01],\n",
       "       [-3.34627543e+00],\n",
       "       [ 5.18486928e+00],\n",
       "       [-7.67893575e-01],\n",
       "       [-2.33141919e+01],\n",
       "       [-3.18638880e+00],\n",
       "       [-1.38866683e+01],\n",
       "       [-2.69498663e+01],\n",
       "       [-2.18217746e+01],\n",
       "       [-2.97338501e+01],\n",
       "       [ 1.74730197e+00],\n",
       "       [-3.30291825e+01],\n",
       "       [-9.71052044e+00],\n",
       "       [-2.66261264e+01],\n",
       "       [ 2.90355470e+01],\n",
       "       [ 1.01683576e+01],\n",
       "       [-2.66710542e+01],\n",
       "       [-9.66887061e+00],\n",
       "       [-1.29619490e+01],\n",
       "       [-3.60875693e+00],\n",
       "       [ 1.93087768e+01],\n",
       "       [ 3.11347293e+01],\n",
       "       [ 2.71109922e+01],\n",
       "       [ 2.38391981e+01],\n",
       "       [ 5.93487408e+00],\n",
       "       [ 1.89418594e+00],\n",
       "       [ 1.84389610e+01],\n",
       "       [ 1.38815357e+01],\n",
       "       [-3.97184607e+00],\n",
       "       [-2.10916016e+01],\n",
       "       [-1.82035101e+01],\n",
       "       [-2.81519090e+01],\n",
       "       [ 4.99981788e+01],\n",
       "       [ 2.28065864e+01],\n",
       "       [ 3.37248876e+00],\n",
       "       [ 2.09701725e+01],\n",
       "       [ 1.78704500e+01],\n",
       "       [-8.99867256e+00],\n",
       "       [ 1.02329045e+01],\n",
       "       [-7.94156093e+00],\n",
       "       [-9.24386023e+00],\n",
       "       [ 3.80872322e+01],\n",
       "       [-2.53997774e+01],\n",
       "       [ 1.74093509e+01],\n",
       "       [ 3.53694505e+01],\n",
       "       [ 1.68772335e+00],\n",
       "       [ 9.25162222e+00],\n",
       "       [ 2.65890059e+01],\n",
       "       [-1.65632383e+01],\n",
       "       [ 7.37944745e+00],\n",
       "       [ 3.66802762e+01],\n",
       "       [ 3.04360135e+01],\n",
       "       [ 3.99246753e+01],\n",
       "       [ 9.23515090e+00],\n",
       "       [-2.11542931e+01],\n",
       "       [-3.50273601e+01],\n",
       "       [ 3.15139271e+01],\n",
       "       [-2.05703008e+01],\n",
       "       [ 5.02537837e+01],\n",
       "       [-2.20427098e+01],\n",
       "       [-9.92934067e+00],\n",
       "       [ 1.59095127e+01],\n",
       "       [ 1.48337314e+01],\n",
       "       [ 8.89359030e+00],\n",
       "       [ 1.97294664e+01],\n",
       "       [-2.21768568e+01],\n",
       "       [ 1.75024226e+01],\n",
       "       [ 1.59368552e+00],\n",
       "       [ 1.68948107e+01],\n",
       "       [ 2.54060938e+01],\n",
       "       [-1.53106729e+00],\n",
       "       [ 4.46326515e+01],\n",
       "       [-3.67197955e+01],\n",
       "       [-6.39952007e+00],\n",
       "       [ 4.67507271e+01],\n",
       "       [ 1.99384825e+01],\n",
       "       [ 1.22751027e+00],\n",
       "       [ 1.32848715e+00],\n",
       "       [ 4.02342713e+01],\n",
       "       [-7.55136011e+00],\n",
       "       [ 4.50203451e+00],\n",
       "       [ 1.74343383e+01],\n",
       "       [ 1.18505728e+01],\n",
       "       [-3.45404337e+01],\n",
       "       [ 3.25632277e+01],\n",
       "       [ 2.11908190e+01],\n",
       "       [ 5.41808240e+00],\n",
       "       [-1.40281561e+01],\n",
       "       [ 1.28854192e+01],\n",
       "       [-6.07006975e+00],\n",
       "       [ 8.37085187e+00],\n",
       "       [ 1.45007524e+01],\n",
       "       [-1.66306205e+01],\n",
       "       [ 2.10808294e+01],\n",
       "       [-1.72018752e+01],\n",
       "       [-3.35156462e+00],\n",
       "       [ 2.03627859e+01],\n",
       "       [-7.74182132e+00],\n",
       "       [ 1.14947871e+01],\n",
       "       [ 1.54536792e+01],\n",
       "       [ 1.26890240e+01],\n",
       "       [-1.42838641e+01],\n",
       "       [-3.30450035e+01],\n",
       "       [-9.79224471e+00],\n",
       "       [-6.72462726e+00],\n",
       "       [ 1.62620415e+01],\n",
       "       [ 1.07670664e+01],\n",
       "       [-2.65923098e+01],\n",
       "       [ 4.01457524e+00],\n",
       "       [ 4.92648172e+00],\n",
       "       [ 1.49452467e+01],\n",
       "       [-5.69585547e-01],\n",
       "       [ 4.74934354e+01],\n",
       "       [-1.20589717e+01],\n",
       "       [-3.31479683e+01],\n",
       "       [ 4.70102768e+01],\n",
       "       [ 1.78852624e+00],\n",
       "       [ 1.51599179e+01],\n",
       "       [-3.23490642e+01],\n",
       "       [-1.77699089e+01],\n",
       "       [-2.43278089e+01],\n",
       "       [ 1.67962878e+01],\n",
       "       [-1.95760816e+01],\n",
       "       [-3.50106059e+01],\n",
       "       [-2.73462132e+01],\n",
       "       [ 7.43787706e+00],\n",
       "       [ 1.72976141e+01],\n",
       "       [-3.06702903e+01],\n",
       "       [ 2.53196912e+01],\n",
       "       [ 1.37274452e+01],\n",
       "       [ 9.03406725e+00],\n",
       "       [ 4.45787078e+01],\n",
       "       [ 7.77340817e-01],\n",
       "       [-2.63102287e+01],\n",
       "       [ 1.36892211e+01],\n",
       "       [-8.40713522e+00],\n",
       "       [-6.14757820e+00],\n",
       "       [-4.89236293e+00],\n",
       "       [-1.47658963e+01],\n",
       "       [ 1.29044633e+01],\n",
       "       [-1.38519691e+01],\n",
       "       [ 8.47103182e+00],\n",
       "       [ 1.35732921e+01],\n",
       "       [ 1.71555285e+01],\n",
       "       [-1.68982193e+01],\n",
       "       [-1.22071085e+01],\n",
       "       [ 1.44727577e+01],\n",
       "       [ 1.01918357e+01],\n",
       "       [ 8.78325504e+00],\n",
       "       [-9.82161542e-02],\n",
       "       [ 2.08743596e+01],\n",
       "       [ 2.33381137e+01],\n",
       "       [ 2.95207404e+01],\n",
       "       [ 1.29294887e+01],\n",
       "       [ 1.16021929e+01],\n",
       "       [ 2.26860745e+01],\n",
       "       [-1.13138628e+01],\n",
       "       [-8.96879837e+00],\n",
       "       [ 5.17887245e+00],\n",
       "       [ 4.22450362e+00],\n",
       "       [-1.37639671e+01],\n",
       "       [-1.28180040e+01],\n",
       "       [-3.58211960e+01],\n",
       "       [-7.00942496e+00],\n",
       "       [-5.07507702e+00],\n",
       "       [ 8.71068085e-02],\n",
       "       [ 2.63453225e+01],\n",
       "       [ 2.42760103e+01],\n",
       "       [ 5.50984998e+00],\n",
       "       [ 3.49532215e+00],\n",
       "       [ 4.81039425e+01],\n",
       "       [ 3.19941662e+01],\n",
       "       [-3.26855868e+00],\n",
       "       [ 4.43930206e+01],\n",
       "       [-1.29628203e+01],\n",
       "       [ 2.12516585e+01],\n",
       "       [-5.64681899e+00],\n",
       "       [ 3.09560274e-01],\n",
       "       [ 1.41459973e+01],\n",
       "       [-5.45664395e+00],\n",
       "       [ 1.05135680e+01],\n",
       "       [ 1.99096732e+01],\n",
       "       [-2.00724531e+01],\n",
       "       [-2.60944474e+01],\n",
       "       [ 2.11625294e+01],\n",
       "       [ 1.50791949e+01],\n",
       "       [-2.90771991e+01],\n",
       "       [ 3.34165014e+01],\n",
       "       [-2.59667292e+01],\n",
       "       [ 6.50686926e+00],\n",
       "       [-2.10514155e+01],\n",
       "       [ 1.80039454e+01],\n",
       "       [ 4.05978152e+01],\n",
       "       [-2.46697172e+01],\n",
       "       [-6.37333082e+00],\n",
       "       [ 1.06371554e+01],\n",
       "       [ 1.21387349e+01],\n",
       "       [-4.63635125e+00],\n",
       "       [-7.94081936e+00],\n",
       "       [ 1.68775587e+01],\n",
       "       [-9.99570686e+00],\n",
       "       [ 3.17779060e+01],\n",
       "       [ 1.29377655e+01],\n",
       "       [ 1.12516294e+01],\n",
       "       [ 1.46802116e+01],\n",
       "       [ 3.00230513e+00],\n",
       "       [-6.88858101e+00],\n",
       "       [ 2.40288962e+01],\n",
       "       [ 2.13579845e+01],\n",
       "       [-1.90168480e+01],\n",
       "       [-1.76542455e+01],\n",
       "       [-3.72234564e+01],\n",
       "       [ 1.44425824e+00],\n",
       "       [ 1.49445909e+01],\n",
       "       [-1.29184751e+01],\n",
       "       [ 1.01298845e+01],\n",
       "       [ 1.71517441e+01],\n",
       "       [ 1.04986619e+01],\n",
       "       [ 2.60157840e+01],\n",
       "       [-1.19235606e+01],\n",
       "       [ 3.17362274e+01],\n",
       "       [-1.47658505e+01]])"
      ]
     },
     "execution_count": 106,
     "metadata": {},
     "output_type": "execute_result"
    }
   ],
   "source": [
    "# We reshape the targets back to the shape that they were in before plotting\n",
    "# This reshaping is a side-effect of the 3D plot. Sorry for that\n",
    "targets = targets.reshape(observations,1)\n",
    "targets\n",
    "# Linear relationship in 2D is a straight line and linear relationship in 3D is a plane( like in this graph)"
   ]
  },
  {
   "cell_type": "code",
   "execution_count": 107,
   "id": "c43937f5-d9f2-4b08-9b30-79e47819d696",
   "metadata": {},
   "outputs": [
    {
     "name": "stdout",
     "output_type": "stream",
     "text": [
      "[[-0.01856645]\n",
      " [-0.00808748]]\n",
      "[0.02077698]\n"
     ]
    }
   ],
   "source": [
    "\n",
    "init_range = 0.1\n",
    "\n",
    "weights = np.random.uniform(low=-init_range, high=init_range, size=(2, 1))\n",
    "# Biases are of size 1 since there is only 1 output. The bias is a scalar.\n",
    "\n",
    "biases = np.random.uniform(low=-init_range, high=init_range, size=1)\n",
    "#Print the weights to get a sense of how they were initialized.\n",
    "print (weights)\n",
    "print (biases)\n",
    "\n",
    "# the first two are the weights and the third is the bias. they are small and close to zero "
   ]
  },
  {
   "cell_type": "code",
   "execution_count": 108,
   "id": "1f40298f-52f9-4694-8c47-ef301d00bec7",
   "metadata": {},
   "outputs": [],
   "source": [
    "# Set some small learning rate (denoted eta in the lecture)\n",
    "# 0.02 is going to work quite well for our example. Once again, you can play around with it.\n",
    "# It is HIGHLY recommended that you play around with it to see how different etas affect the speed of optimization\n",
    "\n",
    "learning_rate = 0.02\n",
    "# arbitrarily chosen value"
   ]
  },
  {
   "cell_type": "code",
   "execution_count": 112,
   "id": "cc990a29-cb5e-4851-bc98-3f5d560b07e7",
   "metadata": {
    "scrolled": true
   },
   "outputs": [
    {
     "name": "stdout",
     "output_type": "stream",
     "text": [
      "1.6239629886745008e+17\n",
      "2.263383969271675e+16\n",
      "6050044284675195.0\n",
      "3964701789376285.5\n",
      "3590571689516754.0\n",
      "3422887849396546.0\n",
      "3284391174258538.0\n",
      "3154030144418149.5\n",
      "3029141492811768.0\n",
      "2909233096209508.0\n",
      "2794075397374990.0\n",
      "2683476532245222.5\n",
      "2577255597950715.0\n",
      "2475239248574055.5\n",
      "2377261046438796.0\n",
      "2283161147514095.5\n",
      "2192786035573567.5\n",
      "2105988271149709.2\n",
      "2022626250928473.2\n",
      "1942563976727005.0\n",
      "1865670833622976.8\n",
      "1791821376867121.8\n",
      "1720895127230576.2\n",
      "1652776374453065.0\n",
      "1587353988471263.8\n",
      "1524521238119369.5\n",
      "1464175617006105.8\n",
      "1406218676284095.8\n",
      "1350555864038779.5\n",
      "1297096371034852.2\n",
      "1245752982568571.5\n",
      "1196441936184240.8\n",
      "1149082785022752.8\n",
      "1103598266579246.9\n",
      "1059914176655777.1\n",
      "1017959248303353.6\n",
      "977665035555858.2\n",
      "938965801766161.4\n",
      "901798412362265.1\n",
      "866102231848514.0\n",
      "831819024883843.2\n",
      "798892861275675.6\n",
      "767270024734478.1\n",
      "736898925240116.1\n",
      "707730014877038.9\n",
      "679715707000987.9\n",
      "652810298605356.1\n",
      "626969895760544.8\n",
      "602152342004677.9\n",
      "578317149568852.0\n",
      "555425433324717.8\n",
      "533439847346636.94\n",
      "512324523984918.8\n",
      "492045015350742.4\n",
      "472568237117298.6\n",
      "453862414545471.3\n",
      "435897030645999.75\n",
      "418642776393557.25\n",
      "402071502911519.75\n",
      "386156175549422.75\n",
      "370870829778183.5\n",
      "356190528831137.1\n",
      "342091323021782.8\n",
      "328550210671866.6\n",
      "315545100586063.4\n",
      "303054776012033.1\n",
      "291058860027060.06\n",
      "279537782294802.06\n",
      "268472747137920.06\n",
      "257845702874497.66\n",
      "247639312368228.28\n",
      "237836924744322.88\n",
      "228422548224996.94\n",
      "219380824040218.75\n",
      "210697001371157.28\n",
      "202356913285451.56\n",
      "194346953625042.25\n",
      "186654054808859.56\n",
      "179265666514154.94\n",
      "172169735201695.94\n",
      "165354684451423.0\n",
      "158809396076485.0\n",
      "152523191984845.16\n",
      "146485816758864.6\n",
      "140687420924443.78\n",
      "135118544882426.94\n",
      "129770103476055.42\n",
      "124633371169291.78\n",
      "119699967811835.94\n",
      "114961844967608.73\n",
      "110411272784399.9\n",
      "106040827383258.88\n",
      "101843378747055.58\n",
      "97812079088452.03\n",
      "93940351678308.8\n",
      "90221880116299.56\n",
      "86650598026231.25\n",
      "83220679159256.92\n",
      "79926527888837.08\n",
      "76762770081941.38\n",
      "[[-40694.73449602]\n",
      " [-18056.27732778]] [-12145333.66041246]\n"
     ]
    }
   ],
   "source": [
    "for i in range (100):\n",
    "    outputs = np.dot(inputs,weights) + biases\n",
    "    deltas = outputs - targets\n",
    "# We are considering the L2-norm loss, but divided by 2, so it is consistent with the lectures.\n",
    "# Moreover, we further divide it by the number of observations\n",
    "# This is simple rescaling by a constant. We explained that this doesn't change the optimization logic\n",
    "# as any function holding the basic property of being lower for better results, and higher for worse results\n",
    "# can be a loss function\n",
    "    \n",
    "    loss = np.sum(deltas ** 2) / 2 / observations \n",
    "    \n",
    "# We print the loss function value at each step so we can observe whether it is decreasing as desired\n",
    "    print (loss)\n",
    "    deltas_scaled = deltas / observations\n",
    "\n",
    "# Finally, we must apply the gradient descent update rules from the relevant lecture\n",
    "# The weights are 2x1, learning rate is 1x1 (scalar), inputs are 1000x2, and deltas_scaled are 1000x1\n",
    "# We must transpose the inputs so that we get an allowed operation.\n",
    "\n",
    "    weights = weights - learning_rate * np.dot(inputs.T,deltas_scaled)\n",
    "    biases = biases - learning_rate * np.sum(deltas_scaled)\n",
    "\n",
    "print (weights,biases)"
   ]
  },
  {
   "cell_type": "code",
   "execution_count": 99,
   "id": "2c0d02db-9f47-42f3-9e22-6dc4ef2817d0",
   "metadata": {},
   "outputs": [
    {
     "data": {
      "image/png": "[encoded data removed]",
      "text/plain": [
       "<Figure size 640x480 with 1 Axes>"
      ]
     },
     "metadata": {},
     "output_type": "display_data"
    }
   ],
   "source": [
    "plt.plot(outputs,targets)\n",
    "plt.xlabel('outputs')\n",
    "plt.ylabel('targets')\n",
    "plt.show()\n",
    "\n",
    "# THE CLOSER THE POINT IS TO A 45 DEGREE LINE THE CLOSER THE OUTPUT ARE TO THE TARGETS"
   ]
  },
  {
   "cell_type": "code",
   "execution_count": null,
   "id": "d1078879-fd25-4196-a626-809dd51210f9",
   "metadata": {},
   "outputs": [],
   "source": []
  },
  {
   "cell_type": "code",
   "execution_count": null,
   "id": "fe4338a2-2528-4ca0-a4ce-a1e2b51eb5ad",
   "metadata": {},
   "outputs": [],
   "source": []
  },
  {
   "cell_type": "code",
   "execution_count": null,
   "id": "ec4a0582-50e0-4c8f-9bc2-a69b20d4dcb2",
   "metadata": {},
   "outputs": [],
   "source": []
  }
 ],
 "metadata": {
  "kernelspec": {
   "display_name": "Python 3",
   "language": "python",
   "name": "python3"
  },
  "language_info": {
   "codemirror_mode": {
    "name": "ipython",
    "version": 3
   },
   "file_extension": ".py",
   "mimetype": "text/x-python",
   "name": "python",
   "nbconvert_exporter": "python",
   "pygments_lexer": "ipython3",
   "version": "3.6.13"
  }
 },
 "nbformat": 4,
 "nbformat_minor": 5
}
