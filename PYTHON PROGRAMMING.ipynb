{
 "cells": [
  {
   "cell_type": "code",
   "execution_count": null,
   "id": "d9918583-ab3c-47d7-a109-59e83841f921",
   "metadata": {},
   "outputs": [],
   "source": [
    "c=23\n",
    "type(c)"
   ]
  },
  {
   "cell_type": "code",
   "execution_count": null,
   "id": "fa19c48b-cdb5-443c-949e-98a75e9c9866",
   "metadata": {},
   "outputs": [],
   "source": [
    "b=23\n",
    "b"
   ]
  },
  {
   "cell_type": "code",
   "execution_count": null,
   "id": "4647fbe9-ffbb-4d13-86b1-edef1111e053",
   "metadata": {},
   "outputs": [],
   "source": [
    "b=23\n",
    "b"
   ]
  },
  {
   "cell_type": "code",
   "execution_count": null,
   "id": "c1b3a3bb-8a63-49bd-ab44-d89f3f5cd6cb",
   "metadata": {},
   "outputs": [],
   "source": [
    "m=100\n",
    "print(str(m), \"days\")"
   ]
  },
  {
   "cell_type": "code",
   "execution_count": null,
   "id": "2e7f7e75-88c1-4029-a867-34af0dd6ef7c",
   "metadata": {},
   "outputs": [],
   "source": [
    "y=10"
   ]
  },
  {
   "cell_type": "code",
   "execution_count": null,
   "id": "571e0cfa-5481-47fe-a880-45ab2a07245e",
   "metadata": {},
   "outputs": [],
   "source": [
    "print(str(y) + \" dollars\", \"per year\")"
   ]
  },
  {
   "cell_type": "code",
   "execution_count": null,
   "id": "120070c4-d68b-4ddd-91db-6b60eefee32b",
   "metadata": {},
   "outputs": [],
   "source": [
    "'i\\'m fine'"
   ]
  },
  {
   "cell_type": "code",
   "execution_count": null,
   "id": "fd4de446-5875-45ef-94f3-5077d41e556f",
   "metadata": {},
   "outputs": [],
   "source": [
    "\"i'm fine\""
   ]
  },
  {
   "cell_type": "code",
   "execution_count": null,
   "id": "0606ab17-6747-4259-a505-df64643ee106",
   "metadata": {},
   "outputs": [],
   "source": [
    "'press \"enter\"'"
   ]
  },
  {
   "cell_type": "code",
   "execution_count": null,
   "id": "2f599829-df40-403a-be81-a60dcfb8d9bc",
   "metadata": {},
   "outputs": [],
   "source": [
    "('red'+' car')"
   ]
  },
  {
   "cell_type": "code",
   "execution_count": null,
   "id": "1778dc1f-02a8-4aaa-850c-5befc02f2bca",
   "metadata": {},
   "outputs": [],
   "source": [
    "print(\"it\\'s cool, isn\\'t it?\")"
   ]
  },
  {
   "cell_type": "code",
   "execution_count": null,
   "id": "c3878778-3d31-42a2-a25a-cd206c1c6e31",
   "metadata": {},
   "outputs": [],
   "source": [
    "Menu = {'meal_1':'Spaghetti', 'meal_2':'Fries', 'meal_3':'Cheeseburger', 'meal_4':'Lasagna'}\n",
    "Dessert = ['Pancakes', 'Ice-cream', 'Tiramisu']\n",
    "Menu['meal_6']= Dessert"
   ]
  },
  {
   "cell_type": "code",
   "execution_count": null,
   "id": "c000db46-14bd-4d34-a377-66c1bb6de104",
   "metadata": {},
   "outputs": [],
   "source": [
    "Menu"
   ]
  },
  {
   "cell_type": "code",
   "execution_count": null,
   "id": "694d423c-9394-45be-b601-72f636642ea6",
   "metadata": {},
   "outputs": [],
   "source": [
    "x=0\n",
    "while x<=30:\n",
    "    if x%2==1:\n",
    "        print(x, end=\" \")\n",
    "    x+=1"
   ]
  },
  {
   "cell_type": "code",
   "execution_count": null,
   "id": "a12afe8c-8202-4f79-a8cb-8cadeb9fd6c9",
   "metadata": {},
   "outputs": [],
   "source": [
    "def count(numbers):\n",
    "    total=1\n",
    "    for i in numbers:\n",
    "        if i<20:\n",
    "            total=total+1\n",
    "    return total"
   ]
  },
  {
   "cell_type": "code",
   "execution_count": null,
   "id": "053bd985-82b6-482e-abcb-2964cc001310",
   "metadata": {},
   "outputs": [],
   "source": [
    "list=[1,3, 5, 7, 9, 11, 13, 15, 17, 19, 21, 23, 25, 27, 29 ]"
   ]
  },
  {
   "cell_type": "code",
   "execution_count": null,
   "id": "6568cdb9-130a-45a7-a403-0186e0420eae",
   "metadata": {},
   "outputs": [],
   "source": [
    "count(list)"
   ]
  },
  {
   "cell_type": "code",
   "execution_count": null,
   "id": "52e9dec2-b101-4f6f-9cda-fc339f55585c",
   "metadata": {},
   "outputs": [],
   "source": [
    "even=[2,4,6,8,10,12,14,16]\n",
    "for item in even:\n",
    "    print (item, end=\" \")"
   ]
  },
  {
   "cell_type": "code",
   "execution_count": null,
   "id": "0920020a-94e2-4769-8ce2-8223731d91e2",
   "metadata": {},
   "outputs": [],
   "source": [
    "x=0\n",
    "while x<=20:\n",
    "    print(x, end=\" \")\n",
    "    x+=1"
   ]
  },
  {
   "cell_type": "code",
   "execution_count": null,
   "id": "3d826d28-11ce-4e84-8aba-96bb73d37981",
   "metadata": {},
   "outputs": [],
   "source": [
    "range(1,10,2)"
   ]
  },
  {
   "cell_type": "code",
   "execution_count": null,
   "id": "41faa7f8-4b92-4b96-8367-25f8ab930f10",
   "metadata": {},
   "outputs": [],
   "source": [
    "list=[*range(1,10,2)]"
   ]
  },
  {
   "cell_type": "code",
   "execution_count": null,
   "id": "d204206d-f428-4363-9bfc-67d8458b509e",
   "metadata": {},
   "outputs": [],
   "source": [
    "list"
   ]
  },
  {
   "cell_type": "code",
   "execution_count": null,
   "id": "ab98d053-c0e4-4fd9-b978-441047d0df8a",
   "metadata": {},
   "outputs": [],
   "source": [
    "for n in range(10):\n",
    "    print(2*n, end=\" \")"
   ]
  },
  {
   "cell_type": "code",
   "execution_count": null,
   "id": "9a71d16d-02aa-49df-a621-f652dbdce73b",
   "metadata": {},
   "outputs": [],
   "source": [
    "for i in range(20):\n",
    "    if i%2==0:\n",
    "        print(i, end=\" \")\n",
    "    else:\n",
    "        print('odd', end=\" \")\n",
    "        "
   ]
  },
  {
   "cell_type": "code",
   "execution_count": null,
   "id": "dfd679b1-fb01-47e3-b4f1-255a9973f63b",
   "metadata": {},
   "outputs": [],
   "source": [
    "x=[1,2,3,4,5]\n",
    "for item in range (len(x)):\n",
    "    print(x[item], end=\" \")"
   ]
  },
  {
   "cell_type": "code",
   "execution_count": null,
   "id": "93433297-d743-4720-8b3b-d9bac3a8217d",
   "metadata": {},
   "outputs": [],
   "source": [
    "def count(numbers):\n",
    "    start=0\n",
    "    for x in numbers:\n",
    "        if x<20:\n",
    "            start+=1\n",
    "    return start"
   ]
  },
  {
   "cell_type": "code",
   "execution_count": null,
   "id": "1282e88d-4fe8-4c51-9bc5-550d4330a9d9",
   "metadata": {},
   "outputs": [],
   "source": [
    "(count(list))"
   ]
  },
  {
   "cell_type": "code",
   "execution_count": null,
   "id": "5ab0dd22-d427-41ed-af4c-21fdc6eb991f",
   "metadata": {},
   "outputs": [],
   "source": [
    "max(list)"
   ]
  },
  {
   "cell_type": "code",
   "execution_count": null,
   "id": "2ab7b134-8f44-401a-ab89-cc9129b627d9",
   "metadata": {},
   "outputs": [],
   "source": [
    "\n",
    "\n",
    "\n",
    "list"
   ]
  },
  {
   "cell_type": "code",
   "execution_count": null,
   "id": "8abf9d6d-c307-4835-9d57-6ed1ea7147f8",
   "metadata": {},
   "outputs": [],
   "source": [
    "prices={\n",
    "    \"box of spaghetti\":4,\n",
    "    \"lasigna\": 5,\n",
    "    \"hamburger\":2}\n",
    "quantity={\n",
    "    \"box of spaghetti\":6,\n",
    "    \"lasigna\": 10,\n",
    "    \"hamburger\":0}\n",
    "money_spent=0\n",
    "\n",
    "for i in quantity:\n",
    "    if prices[i]>=5:\n",
    "        money_spent= money_spent + (prices[i] * quantity[i])\n",
    "print(money_spent)\n"
   ]
  },
  {
   "cell_type": "code",
   "execution_count": null,
   "id": "a393f423-2a37-4e63-81ad-b2b652e2b31c",
   "metadata": {},
   "outputs": [],
   "source": [
    "prices[\"box of spaghetti\"]"
   ]
  },
  {
   "cell_type": "code",
   "execution_count": null,
   "id": "2bd223c6-0c8d-4956-bd2f-88d86d859106",
   "metadata": {},
   "outputs": [],
   "source": [
    "for number in range(3):\n",
    "    print( 'Attempt', number+1)"
   ]
  },
  {
   "cell_type": "code",
   "execution_count": null,
   "id": "ef825140-7f53-4359-876a-3fa6dd98f7a8",
   "metadata": {},
   "outputs": [],
   "source": [
    "range(1,10)\n",
    "list=[*range(1,10)]\n",
    "list"
   ]
  },
  {
   "cell_type": "code",
   "execution_count": null,
   "id": "2bf2f22b-4bec-47e3-95af-dd3cb360e5bc",
   "metadata": {},
   "outputs": [],
   "source": [
    "range(1,11)\n",
    "list=[*range(1,11)]\n",
    "list"
   ]
  },
  {
   "cell_type": "code",
   "execution_count": null,
   "id": "a7de03ca-03ac-4d1d-b046-531707832c8a",
   "metadata": {},
   "outputs": [],
   "source": [
    "range(1,11)"
   ]
  },
  {
   "cell_type": "code",
   "execution_count": null,
   "id": "72fdef96-4d46-4250-85ba-df12b4cf25c5",
   "metadata": {},
   "outputs": [],
   "source": [
    "list=[*range(1,11)]"
   ]
  },
  {
   "cell_type": "code",
   "execution_count": null,
   "id": "3794f644-c97f-44bb-ab57-ec3f66cadf95",
   "metadata": {},
   "outputs": [],
   "source": [
    "list"
   ]
  },
  {
   "cell_type": "code",
   "execution_count": null,
   "id": "88682bac-b35d-4972-ad54-7c64ed0ec459",
   "metadata": {},
   "outputs": [],
   "source": [
    "range(1,10)\n",
    "list=[*range(1,10)]\n",
    "list"
   ]
  },
  {
   "cell_type": "code",
   "execution_count": null,
   "id": "33e78fa2-3537-43ba-9a30-ba70b4cafcd2",
   "metadata": {},
   "outputs": [],
   "source": [
    "range(1,11)\n",
    "list=[*range(1,11)]\n",
    "print(list)"
   ]
  },
  {
   "cell_type": "markdown",
   "id": "4a931d6b-fa43-4fc3-a6b2-98ed38e58763",
   "metadata": {},
   "source": [
    "### PYTHON .FORMAT() METHOD"
   ]
  },
  {
   "cell_type": "markdown",
   "id": "28031754-09e7-4230-8a63-b1513d9438f7",
   "metadata": {},
   "source": [
    "### It is a very useful tool for preprocesing text data\n",
    "AND IT IS APPLICABLE TO STRING VALUES ONLY; THE STRING values are template in which the format method will insert the values that has been designated as its arguements.\n",
    ".format() will first have to format the values as texts regardless of their initial data type\n",
    "\n",
    "#### it is important to know that technically these pairs of braces define the place holders where we will insert the values that have been passed as arguements of the format method. so the deal is that we can apply the .format method to the string and pass the value '12 and product b' as arguements. the real beauty of the method is that u can pass entire objects as its arguement"
   ]
  },
  {
   "cell_type": "code",
   "execution_count": null,
   "id": "213eb65a-b8e2-45fb-860c-9781a3e4e728",
   "metadata": {},
   "outputs": [],
   "source": [
    "time_horizon = 1,3,12\n",
    "time_horizon # diff time periods"
   ]
  },
  {
   "cell_type": "code",
   "execution_count": null,
   "id": "21cbb5e8-ef99-436d-a8cd-7830e5c50fb3",
   "metadata": {},
   "outputs": [],
   "source": [
    "products = ['product A', 'product B']\n",
    "products"
   ]
  },
  {
   "cell_type": "code",
   "execution_count": null,
   "id": "ebf473cc-f8eb-49e1-ab03-aab8abfd41a6",
   "metadata": {},
   "outputs": [],
   "source": [
    "'Expected sales for a period of {} month(s) for {}:'.format(12, 'product B')"
   ]
  },
  {
   "cell_type": "code",
   "execution_count": null,
   "id": "171c239a-b1ce-4bfa-ae7f-fba3a2e2c8e0",
   "metadata": {},
   "outputs": [],
   "source": [
    "'Expected sales for a period of {} month(s) for {}:'.format(time_horizon, products)\n",
    "# this gives us an inadequate output"
   ]
  },
  {
   "cell_type": "code",
   "execution_count": null,
   "id": "8261c811-db10-4619-8eb0-466bd204dbf9",
   "metadata": {},
   "outputs": [],
   "source": [
    "# lets apply indexing\n",
    "\n",
    "'Expected sales for a period of {} month(s) for {}:'.format(time_horizon[1], products[0])"
   ]
  },
  {
   "cell_type": "code",
   "execution_count": null,
   "id": "534b3be2-d293-4110-b3a8-7e35ef35c6e8",
   "metadata": {},
   "outputs": [],
   "source": [
    "# types of parameters used in .format()\n",
    "# positional and keyword parameters. Earlier we have used the positional (or keyword )arguement as python was converting the empty values into number 0 \n",
    "# and 1 in the background. u can think of this behavour as how python will treat the arguements of the .format() method by default. this means we can  \n",
    "# also specify this arguements by explicitly specifying an index value within the place holders \n",
    "\n",
    "'Expected sales for a period of {0} month(s) for {1}:'.format(time_horizon[1], products[0])\n"
   ]
  },
  {
   "cell_type": "code",
   "execution_count": null,
   "id": "a8cae646-2dfa-4f74-865d-9733e61dc135",
   "metadata": {},
   "outputs": [],
   "source": [
    "'Expected sales for a period of {1} month(s) for {0}:'.format(time_horizon[1], products[0])\n",
    "\n",
    "# it is possible to be implicit or explicit when referencing positional arguements "
   ]
  },
  {
   "cell_type": "code",
   "execution_count": null,
   "id": "8088c1a2-4047-4e19-88b6-e8ea2b0c36c2",
   "metadata": {},
   "outputs": [],
   "source": [
    "# 1. Positional\n",
    "t_hor = 12\n",
    "prod = 'product B'\n",
    "print('Expected sales for a period of {1} month(s) for {0}:'.format(prod, t_hor))"
   ]
  },
  {
   "cell_type": "markdown",
   "id": "1cd048cb-e928-4f1b-9e34-cfdd5e540e7d",
   "metadata": {},
   "source": [
    "### USING KEYWORD ARGUEMENT(NAMED ARGUEMENTS)"
   ]
  },
  {
   "cell_type": "code",
   "execution_count": null,
   "id": "2e344614-543b-4ba2-a7b9-2e4a8863bdb9",
   "metadata": {},
   "outputs": [],
   "source": [
    "# THEY ARE CALLED THIS WAY BC WE REFER TO THEM NOT BY USING AN INDEX IN PLACEHOLDERS BUT BY USING KEYS, WHICH CAN ALSO BE THOUGHT OF\n",
    "# AS THEIR NAMES AT THE SAME TIME. To be able to use keyword arguements, you have to designate the relevant key value pairs within the parenthesis, \n",
    "# thus as you reference an arguement by its key, the format methos will insert the corresponding value within the given placeholder \n",
    "\n",
    "'Expected sales for a period of {1} month(s) for {0}:'.format(12, 'product B')"
   ]
  },
  {
   "cell_type": "code",
   "execution_count": null,
   "id": "e0d1c0f0-8387-4107-9798-15fe295ad89d",
   "metadata": {},
   "outputs": [],
   "source": [
    "'Expected sales for a period of {1} month(s) for {0}:'.format('product B', 12)"
   ]
  },
  {
   "cell_type": "markdown",
   "id": "1a96995d-40a2-4bb7-bdd6-a2eea2ee72e5",
   "metadata": {},
   "source": [
    "#### Keyword Arguments in Format String (Recommended):  For better readability, especially with more complex format strings, use keyword arguments within the format string itself"
   ]
  },
  {
   "cell_type": "code",
   "execution_count": null,
   "id": "c3cd5b74-88e4-47e4-a454-1c0ef055a3f8",
   "metadata": {},
   "outputs": [],
   "source": [
    "'Expected sales for a period of {t_hor} month(s) for {prod}:'.format(t_hor = 12, prod = 'product B')"
   ]
  },
  {
   "cell_type": "code",
   "execution_count": null,
   "id": "619d43c0-4e38-47bc-ae45-01fab7e12ce4",
   "metadata": {},
   "outputs": [],
   "source": [
    "'Expected sales for a period of {t_hor} month(s) for {prod}:'.format(t_hor = 12, prod = ['product B','product A'])"
   ]
  },
  {
   "cell_type": "code",
   "execution_count": null,
   "id": "9db6157a-7bc0-47f5-a8dc-523b5deba590",
   "metadata": {},
   "outputs": [],
   "source": [
    "'Expected sales for a period of {t_hor} month(s) for {prod[1]}:'.format(t_hor = 12, prod = ['product B','product A'])"
   ]
  },
  {
   "cell_type": "code",
   "execution_count": null,
   "id": "ac6d61ea-7de4-4ab4-beef-ec3c47cfbc15",
   "metadata": {},
   "outputs": [],
   "source": [
    "# 2. Keyword in format string\n",
    "print('Expected sales for a period of {t_hor[2]} month(s) for {prod[1]}:'.format(t_hor=time_horizon, prod=products))"
   ]
  },
  {
   "cell_type": "markdown",
   "id": "29205fad-67e5-45ef-96d9-7ed18ddc2008",
   "metadata": {},
   "source": [
    "#### f-strings (Modern and Concise):  The most modern and often most readable way is to use f-strings: F-strings allow you to directly embed variables inside the string using curly braces {}.  This is the most concise and generally recommended approach in modern Python."
   ]
  },
  {
   "cell_type": "code",
   "execution_count": null,
   "id": "8aa6fc1f-4713-44ae-9888-a49058244a13",
   "metadata": {},
   "outputs": [],
   "source": [
    "t_hor = 12\n",
    "prod = 'product B'\n",
    "print(f'Expected sales for a period of {prod} month(s) for {t_hor}:')"
   ]
  },
  {
   "cell_type": "markdown",
   "id": "0fa9619f-e78b-40d0-9b4f-57649ee3b269",
   "metadata": {},
   "source": [
    "#### WHAT IF WE WANTED TO ATTACH THE PRECISE VALUE OF THE EXPECTED SALES IN DOLLARS ATE THE END?"
   ]
  },
  {
   "cell_type": "code",
   "execution_count": null,
   "id": "44ae1b81-0b2a-45e2-b500-00f8c124ad2f",
   "metadata": {},
   "outputs": [],
   "source": [
    "# Give a space after the colon, type dollar sign, put a variable of choice (in this case 'sales') inside the  curly bracket(placeholder) and the specify\n",
    "# what value the variable stands for\n",
    "\n",
    "print('Expected sales for a period of {t_hor[2]} month(s) for {prod[1]}: ${sales}'.format(t_hor=time_horizon, prod=products, sales = 10000))\n",
    "\n",
    "# OR\n",
    "\n",
    "print('Expected sales for a period of {0} month(s) for {prod[1]}: ${sales}'.format(12, prod=products, sales = 10000))"
   ]
  },
  {
   "cell_type": "code",
   "execution_count": null,
   "id": "9d3b1d21-07f8-4360-8c98-64e305a61990",
   "metadata": {},
   "outputs": [],
   "source": [
    "t_hor = 12\n",
    "prod = 'product B'\n",
    "sales = 1000\n",
    "print(f'Expected sales for a period of {t_hor} month(s) for {prod}: ${sales}'.format(t_hor=time_horizon, prod=products, sales = sales))"
   ]
  },
  {
   "cell_type": "code",
   "execution_count": null,
   "id": "d1c852d9-7b14-4408-a04c-c445e65d4cb2",
   "metadata": {},
   "outputs": [],
   "source": []
  },
  {
   "cell_type": "code",
   "execution_count": null,
   "id": "788eb345-8eca-4120-9db3-c908a4059071",
   "metadata": {},
   "outputs": [],
   "source": [
    "companies = ['Company A', 'Company B']\n",
    "companies"
   ]
  },
  {
   "cell_type": "code",
   "execution_count": null,
   "id": "e41f4856-e1bc-4335-9c96-21bd800d9cff",
   "metadata": {},
   "outputs": [],
   "source": [
    "quarter = [1, 2, 3, 4]\n",
    "quarter"
   ]
  },
  {
   "cell_type": "code",
   "execution_count": null,
   "id": "0bae2436-a759-4194-a880-a84252b24232",
   "metadata": {},
   "outputs": [],
   "source": [
    "sales_performance_prediction = ['increase', 'decrease', 'remain the same']\n",
    "sales_performance_prediction"
   ]
  },
  {
   "cell_type": "code",
   "execution_count": null,
   "id": "e903f803-5e86-44cb-9254-b6b4a4936277",
   "metadata": {},
   "outputs": [],
   "source": [
    "print(\"{} expects their next year's sales of Q{} to {}:\".format('company A', 3, 'increase'))"
   ]
  },
  {
   "cell_type": "markdown",
   "id": "76412c22-b70a-4925-8676-c646c72521d5",
   "metadata": {},
   "source": [
    "### ITERATING OVER RANGE OBJECT"
   ]
  },
  {
   "cell_type": "code",
   "execution_count": null,
   "id": "1d8f2bf6-f735-410c-84df-1b75dcb97fd2",
   "metadata": {},
   "outputs": [],
   "source": [
    "# Both turples and lists are instances of sequences. strings are also a sequence of characters\n",
    "# the sequence order is determined by the position of the sequence of elements in the object"
   ]
  },
  {
   "cell_type": "code",
   "execution_count": null,
   "id": "034110f8-fcd7-4793-91d7-3c3dfd330cb3",
   "metadata": {},
   "outputs": [],
   "source": [
    "t = (4,5,6,7)\n",
    "t"
   ]
  },
  {
   "cell_type": "code",
   "execution_count": null,
   "id": "2858cd07-cb77-4e3f-a667-83f47e2e0da8",
   "metadata": {},
   "outputs": [],
   "source": [
    "l = [10.5,20.75,30.0]\n",
    "l"
   ]
  },
  {
   "cell_type": "code",
   "execution_count": null,
   "id": "38bd876d-ce41-4342-943e-e4a872915263",
   "metadata": {},
   "outputs": [],
   "source": [
    "s = 'abcde'\n",
    "s"
   ]
  },
  {
   "cell_type": "code",
   "execution_count": null,
   "id": "b4229c38-3c43-4178-accc-3e88480dfb71",
   "metadata": {},
   "outputs": [],
   "source": [
    "# Recall that the body of the 'for loop' should be indented. basically it specifies the operation that will be executed at every iteration(or pass)\n",
    "# of the loop.\n",
    "for i in t:\n",
    "    print(i, end= \" \")\n",
    "\n",
    "#  Recall also that 'i' is the loop variable (or iterator variable) and 't' is the iterable. it might be obvious that we can iterate over a turple, the \n",
    "# reason is that an iterable is in fact any object that you can iterate over or loop over, such an object should contain distinguishable seperate \n",
    "# elements which can be referred to at diff steps during a programming operation. in other words this object represents a stream or collection of seperate\n",
    "# data values\n",
    "# we can generate any sequence of numbers and use it as an iterable in our iterations\n"
   ]
  },
  {
   "cell_type": "code",
   "execution_count": null,
   "id": "43ee8937-e8c0-4dba-90d8-3db468af9ddf",
   "metadata": {},
   "outputs": [],
   "source": [
    "range(5)\n",
    "# 5 is stop, by default start is 0"
   ]
  },
  {
   "cell_type": "code",
   "execution_count": null,
   "id": "e78f5673-ad6c-42ac-8156-8a00eb1f4ade",
   "metadata": {},
   "outputs": [],
   "source": [
    "list=[*range(5)]\n",
    "list"
   ]
  },
  {
   "cell_type": "code",
   "execution_count": null,
   "id": "9f1e98f1-08bd-43f7-a307-e665331fbe5b",
   "metadata": {},
   "outputs": [],
   "source": [
    "for i in range(5):\n",
    "    print(i, end = \" \")\n",
    "\n",
    "# when we want to loop over a range we use \"for i in range(n)\" where n is number of iteration we desire"
   ]
  },
  {
   "cell_type": "markdown",
   "id": "74be86a2-644f-4f0c-9cbc-ddf273ccf3f8",
   "metadata": {},
   "source": [
    "### NESTED FOR LOOPS"
   ]
  },
  {
   "cell_type": "code",
   "execution_count": null,
   "id": "8d232e87-db1f-43c0-820d-d4413448840b",
   "metadata": {},
   "outputs": [],
   "source": [
    "for i in range(2):\n",
    "    print(i)"
   ]
  },
  {
   "cell_type": "code",
   "execution_count": null,
   "id": "4c43faad-2c1b-4711-80e2-5deddfe11530",
   "metadata": {},
   "outputs": [],
   "source": [
    "for j in range(5):\n",
    "    print(j)"
   ]
  },
  {
   "cell_type": "code",
   "execution_count": null,
   "id": "19171662-49f7-457a-80e8-b0922a0a1533",
   "metadata": {},
   "outputs": [],
   "source": [
    "# python allows us to have a loop within another loop\n",
    "\n",
    "for i in range(2):\n",
    "    for j in range(5):\n",
    "        print(j, end = \" \")\n",
    "\n",
    "# loop variable j was printed as many times as the loop variable i looped over it i.e twice. so we can say the j-loop(inner loop) has been nested \n",
    "# in the i-loop(outer loop)"
   ]
  },
  {
   "cell_type": "code",
   "execution_count": null,
   "id": "ecb9ae6e-5e6d-4153-bc9c-5fc2d22e2c7f",
   "metadata": {},
   "outputs": [],
   "source": [
    "for i in range(2):\n",
    "    for j in range(5):\n",
    "        print([i,j])\n",
    "\n",
    "# in summary we can say that for the values from every row we'll extract the value of every column until we have used the values from all coliumns"
   ]
  },
  {
   "cell_type": "code",
   "execution_count": null,
   "id": "877dd343-b8bf-4ce6-9980-1cd19bd1074c",
   "metadata": {},
   "outputs": [],
   "source": [
    "# string values can be used too in nested queries\n",
    "\n",
    "for i in ['producct A', 'product B']:\n",
    "    for j in range(5):\n",
    "        print([i,j])"
   ]
  },
  {
   "cell_type": "code",
   "execution_count": null,
   "id": "88125fc1-a883-4ad3-9bd1-749e046b2254",
   "metadata": {},
   "outputs": [],
   "source": [
    "products = ['producct A', 'product B']\n",
    "exp_sales = [10000,11000,12000,13000,14000]"
   ]
  },
  {
   "cell_type": "code",
   "execution_count": null,
   "id": "21c5ce0b-1ae6-4d37-ad23-0a05bf0f869f",
   "metadata": {},
   "outputs": [],
   "source": [
    "for i in (products):\n",
    "    for j in(exp_sales):\n",
    "        print([i,j])"
   ]
  },
  {
   "cell_type": "markdown",
   "id": "7484c05b-a4f5-49f6-81b7-a2854ba9dcb2",
   "metadata": {},
   "source": [
    "### TRIPPLE NESTED FOR LOOP"
   ]
  },
  {
   "cell_type": "code",
   "execution_count": null,
   "id": "378505c9-614d-46d4-bed2-53b763706a32",
   "metadata": {},
   "outputs": [],
   "source": [
    "products = ['producct A', 'product B']\n",
    "exp_sales = [10000,11000,12000,13000,14000]"
   ]
  },
  {
   "cell_type": "code",
   "execution_count": null,
   "id": "c8b2800b-1a95-420a-9eb2-35d69560bc01",
   "metadata": {},
   "outputs": [],
   "source": [
    "time_horizon = (1,3,12) # monthly, quarterly and annually expected sales revenue"
   ]
  },
  {
   "cell_type": "code",
   "execution_count": null,
   "id": "9b7af4f0-03ac-4edd-ab4c-f6308fe8f108",
   "metadata": {},
   "outputs": [],
   "source": [
    "for i in (products):\n",
    "    for j in(exp_sales):\n",
    "        for k in (time_horizon):\n",
    "            print([i,j*k])\n",
    "\n",
    "# you can see that the main principle is preserved regardless of how many loops you are using in an iteration process. THE IDEA IS THAT THE INNER LOOP\n",
    "# MUST ALWAYS COMPLETE ALL OF ITS ITERATIONS BEFORE WE CAN REFER TO AN OUTER LOOP UNTILL WE CONSUME ALL ELEMENTS OF OUR NESTED LOOP"
   ]
  },
  {
   "cell_type": "markdown",
   "id": "f4044911-7f29-4466-bdee-d006df3f4463",
   "metadata": {},
   "source": [
    "#### It is a good coding practice to use specific names for iterator variables of the nested loops. doing that will improve the legibility of our code"
   ]
  },
  {
   "cell_type": "code",
   "execution_count": null,
   "id": "61bac15d-fbdd-4552-b07c-35c87afa85bd",
   "metadata": {},
   "outputs": [],
   "source": [
    "for prod in (products):\n",
    "    for sale in(exp_sales):\n",
    "        for t_hor in (time_horizon):\n",
    "            print([prod,sale*t_hor])\n",
    "\n",
    "# the brackets are not compulsary"
   ]
  },
  {
   "cell_type": "code",
   "execution_count": null,
   "id": "01b66201-e1ff-4590-9812-be0ffd28c18a",
   "metadata": {},
   "outputs": [],
   "source": [
    "for prod in (products):\n",
    "    for sale in(exp_sales):\n",
    "        for t_hor in (time_horizon):\n",
    "            print('Expected sales for a period of {0} months(s) for {1}: ${sales}'.format(t_hor, prod, sales = sale*t_hor))\n",
    "\n",
    "# the results wont come up in the form of a list, they will practically be string values\n",
    "# t_hor, prod are positional arguements\n",
    "# sales = sale*t_hor is keyword arguement"
   ]
  },
  {
   "cell_type": "markdown",
   "id": "8dd72594-239b-47de-8267-51ff999719d4",
   "metadata": {},
   "source": [
    "### In certain situations you can switch the dimensions without making an impact on the essence of your results, u will have just changed the orderin which the rows will be displayed in case the new order appeals to u more"
   ]
  },
  {
   "cell_type": "code",
   "execution_count": null,
   "id": "82b051ad-81ca-4988-827a-ffc3e46418b5",
   "metadata": {},
   "outputs": [],
   "source": [
    "for prod in (products):\n",
    "    for t_hor in (time_horizon):\n",
    "        for sale in(exp_sales):\n",
    "            print('Expected sales for a period of {0} months(s) for {1}: ${sales}'.format(t_hor, prod, sales = sale*t_hor))"
   ]
  },
  {
   "cell_type": "markdown",
   "id": "cc308aa8-1e78-4963-b931-5dd58134cbf9",
   "metadata": {},
   "source": [
    "### LIST COMPREHENSION. WRITING NESTED LOOPS USING LIST COMPREHENSION"
   ]
  },
  {
   "cell_type": "code",
   "execution_count": null,
   "id": "235d5e4b-0f9e-469a-99a3-65c7a3d9ca2d",
   "metadata": {},
   "outputs": [],
   "source": [
    "numbers = [1,13,4,5,63,100]\n",
    "numbers"
   ]
  },
  {
   "cell_type": "code",
   "execution_count": null,
   "id": "79970dfc-58a1-4f85-9ab4-7a436ff739af",
   "metadata": {},
   "outputs": [],
   "source": [
    "new_numbers = [] # create an empty list\n",
    "\n",
    "for n in numbers:       # specify a for loop\n",
    "    new_numbers.append(n*2)  # append the product of each element and the number 2 on the new list\n",
    "\n",
    "print(new_numbers)\n"
   ]
  },
  {
   "cell_type": "code",
   "execution_count": null,
   "id": "adcd5ce2-36f8-4ee0-8faf-61aac082dacd",
   "metadata": {},
   "outputs": [],
   "source": [
    "# LIST COMPREHENSION can provide a concise way to build a new list from the given numbers list. to do this we must refer to the \n",
    "# following syntax comprising the following 3 main components written within brackets;\n",
    "# 1. An output expression for an element in iterable. the output expression is actually a formula or another expression that will lead us to the result\n",
    "# we are aiming for. Element corresponds to the member of the iterable or loop variable or iterator variable of the loop we wrote previously\n",
    "# Recall that iterable is the sequence we are going to iterate over"
   ]
  },
  {
   "cell_type": "code",
   "execution_count": null,
   "id": "baa4c9fc-dd36-44ac-82e4-f18cf6c85214",
   "metadata": {},
   "outputs": [],
   "source": [
    "new_numbers = [n*2 for n in numbers]\n",
    "print(new_numbers)"
   ]
  },
  {
   "cell_type": "code",
   "execution_count": null,
   "id": "1ec583f9-bb1b-429b-8af6-55ab002d15b3",
   "metadata": {},
   "outputs": [],
   "source": [
    "for i in range(2):\n",
    "    for j in range(5):\n",
    "        print(i+j, end=\" \")"
   ]
  },
  {
   "cell_type": "code",
   "execution_count": null,
   "id": "2be403b2-25d9-4f17-9e86-feef04527278",
   "metadata": {},
   "outputs": [],
   "source": [
    "new_list_comprehension_1 = [i+j for i in range(2) for j in range(5)]\n",
    "new_list_comprehension_1"
   ]
  },
  {
   "cell_type": "code",
   "execution_count": null,
   "id": "6c7c475e-2aed-4115-82be-75f72c37cd3d",
   "metadata": {},
   "outputs": [],
   "source": [
    "type(new_list_comprehension_1)"
   ]
  },
  {
   "cell_type": "code",
   "execution_count": null,
   "id": "b3fdaa49-60df-4bcc-a0f3-c5f4cb67c30a",
   "metadata": {},
   "outputs": [],
   "source": [
    "print(new_list_comprehension_1)"
   ]
  },
  {
   "cell_type": "code",
   "execution_count": null,
   "id": "d468ef93-571c-4c37-b5f7-58c8f93a7144",
   "metadata": {},
   "outputs": [],
   "source": [
    "new_list_comprehension_2 = [[i+j for i in range(2)] for j in range(5)]\n",
    "new_list_comprehension_2"
   ]
  },
  {
   "cell_type": "code",
   "execution_count": null,
   "id": "a6b66b51-5856-4c11-9ebd-6fece09834eb",
   "metadata": {},
   "outputs": [],
   "source": [
    "type(new_list_comprehension_2)"
   ]
  },
  {
   "cell_type": "code",
   "execution_count": null,
   "id": "b9fc5b62-4cf0-402a-9a24-f975d7a45d49",
   "metadata": {},
   "outputs": [],
   "source": [
    "type(new_list_comprehension_2[0])"
   ]
  },
  {
   "cell_type": "code",
   "execution_count": null,
   "id": "12b56de0-2858-4673-891b-da7f7a425c98",
   "metadata": {},
   "outputs": [],
   "source": [
    "type(new_list_comprehension_1[0])"
   ]
  },
  {
   "cell_type": "markdown",
   "id": "8a1877b1-b9f7-48c5-900f-e789e534da6f",
   "metadata": {},
   "source": [
    "### one of the usefulness of list comprehension is that it supports the option for setting conditonals either on the output or on the iterable or both. thus we can place a conditional on the output to the right of where we have written its expression or a conditional on the iterable just after we have specified it."
   ]
  },
  {
   "cell_type": "code",
   "execution_count": null,
   "id": "111cd8c8-c6d0-4850-b02d-49c260dd18e3",
   "metadata": {},
   "outputs": [],
   "source": [
    "list = [*range(1,11)]\n",
    "list"
   ]
  },
  {
   "cell_type": "code",
   "execution_count": null,
   "id": "703a1df3-ff6d-4720-81d7-f8c3ba7ef75c",
   "metadata": {},
   "outputs": [],
   "source": [
    "# TASK; deliver a list containing integers equal to the values of the generated sequence raised to the power of 3 on the condition that the base\n",
    "# values are odd numbers\n",
    "\n",
    "# THIS IS AN EXAMPLE OF SETTING A CONDITION ON THE ITERABLE \n",
    "\n",
    "[num**3 for num in range(1,11) if num%2 !=0]"
   ]
  },
  {
   "cell_type": "code",
   "execution_count": null,
   "id": "9755d120-8e12-434e-a39b-89c907e1046e",
   "metadata": {},
   "outputs": [],
   "source": [
    "# Non-pythonic version\n",
    "for i in range(1,11):\n",
    "    if i%2 !=0:\n",
    "        print(i**3, end= \" \")"
   ]
  },
  {
   "cell_type": "code",
   "execution_count": null,
   "id": "ab943aac-5222-4f34-a333-804830fdcf93",
   "metadata": {},
   "outputs": [],
   "source": [
    "# THIS IS AN EXAMPLE OF SETTING A CONDITION DIRECTLY ON THE OUTPUT\n",
    "# TO DO THIS WE SET CONDITION DIRECTLY AFTER THE OUTPUT\n",
    "\n",
    "# [num**3 if num%2 !=0 for num in range(1,11)]  THIS WILL GIVE US AN ERROR MESSAGE\n",
    "\n",
    "# Cell In[114], line 2\n",
    "    # [num**3 if num%2 !=0 for num in range(1,11)]\n",
    "    # ^\n",
    "# SyntaxError: expected 'else' after 'if' expression\n",
    "\n",
    "# THE REASON IS THAT WE MUST PROVIDE A CLEAR INDICATIONTO PYTHON ABOUT WHAT EXACTLY WE WANT TO BE DISPLAYED IN EACH POTENTIAL OUTCOME. IN OTHER WORDS WE\n",
    "# MUST REMEMBER TO ALWAYS SUGGEST AN OUTPUT VALUE FOR THE CASES IN WHICH NO EXECUTION OF THE OUTPUT EXPRESSION WILL TAKE PLACE\n"
   ]
  },
  {
   "cell_type": "code",
   "execution_count": null,
   "id": "c7649540-1fa6-42be-bf78-2f767633267b",
   "metadata": {},
   "outputs": [],
   "source": [
    "# LETS CORRECT IT\n",
    "[num**3 if num%2 !=0 else \"even\" for num in range(1,11)]"
   ]
  },
  {
   "cell_type": "code",
   "execution_count": null,
   "id": "d1f6d8da-0a56-4b5d-86bf-6772c007215b",
   "metadata": {
    "scrolled": true
   },
   "outputs": [],
   "source": [
    "# The following code cell will execute a nested loop that will deliver all possible combinations of the elements from the products_on_sale, \n",
    "# sale_prices and quantities lists:\n",
    "products_on_sale = ['Chair_Type_1', 'Chair_Type_2', 'Chair_Type_3', 'Chair_Type_4']\n",
    "sale_prices = [100, 120, 135, 150]\n",
    "quantities = [1000, 1500, 1300]\n",
    "\n",
    "for chair_type in products_on_sale:\n",
    "    for price in sale_prices:\n",
    "        for quantity in quantities:\n",
    "            print ([chair_type, price*quantity])\n",
    "\n",
    "# THIS WILL PRINT A LIST OF LISTS"
   ]
  },
  {
   "cell_type": "code",
   "execution_count": null,
   "id": "65fd89d4-30f0-4312-8fa6-2841d553187a",
   "metadata": {
    "scrolled": true
   },
   "outputs": [],
   "source": [
    "result = [[chair_type, price * quantity] for chair_type in products_on_sale for price in sale_prices for quantity in quantities]\n",
    "for item in result:\n",
    "    print(item)\n",
    "\n",
    "# THIS WILL PRINT A LIST OF LISTS TOO"
   ]
  },
  {
   "cell_type": "code",
   "execution_count": null,
   "id": "f9e2bfb7-8df1-452a-8f5f-82098c69901c",
   "metadata": {},
   "outputs": [],
   "source": [
    "# Use a list comprehension to return a list with all even numbers between 1 and 10 inclusive, multiplied by 10.\n",
    "even_multiplied = [num * 10 for num in range(1, 11) if num % 2 == 0]\n",
    "print(even_multiplied)"
   ]
  },
  {
   "cell_type": "markdown",
   "id": "9d285125-7ef2-443d-bd2e-6274ab6047f5",
   "metadata": {},
   "source": [
    "### SUMMARY:\n",
    "YOU CAN PLACE A CONDITIONAL ON THE RIGHT OF THE ITERABLE TO FILTER OUT CERTAIN VALUES FROM THE ITERABLE THAT YOU DONT WANT TO BE IN THE FINAL CALCULATION ALTERNATIVELY YOU CAN SET A CONDITION ON THE OUTPUT IN WHICH CASE YOU WILL PRACTICALLY ALTER THE OUPUT FOR CERTAIN ELEMENTS\n",
    "* POINTS TO NOTE: List comprehension is a very powerful tool that has wide range of use cases and can deliver many types of output\n",
    "* it is a fantastic example of high quality code\n",
    "* Requires more memory and run more slowly, thus while aiming to optimize ur code given this two constriants, in some situations you might be better off choosing among other alternatives such as nested loops"
   ]
  },
  {
   "cell_type": "code",
   "execution_count": null,
   "id": "1b0705a2-97c2-43de-85e2-466150d094a0",
   "metadata": {
    "scrolled": true
   },
   "outputs": [],
   "source": [
    "# f-string formatting: The most important change is the use of an f-string: f\"{chair_type} {price * quantity}\".  \n",
    "# This allows you to directly embed the variables chair_type and the calculated price * quantity into the string.  \n",
    "# It converts them to strings and concatenates them with a space in between.\n",
    "\n",
    "# No more inner lists: The list comprehension now directly creates a list of strings, not a list of lists. \n",
    "# This is what gives you the desired output format.\n",
    "\n",
    "# Use a list comprehension to obtain the same output. Store it in a variable called sales_revenue.\n",
    "\n",
    "sales_revenue = [f\"{chair_type} {price * quantity}\"\n",
    "          for chair_type in products_on_sale\n",
    "          for price in sale_prices\n",
    "          for quantity in quantities]\n",
    "\n",
    "for item in sales_revenue:\n",
    "    print(item)"
   ]
  },
  {
   "cell_type": "markdown",
   "id": "6c1e0b59-0ffc-4a7e-9a4e-8baccc1e6919",
   "metadata": {
    "scrolled": true
   },
   "source": [
    "### ANONYMOUS (Lambda) Functions\n",
    "Lambda expressions are python syntax for creating anonymous (Lambda) functions\n",
    "### In what situation can we use such functions to our advantage\n",
    "* sometimes you may need to involve a simple functionality in larger python programs or expressions. in other words\n",
    "* there are cases in which you prefer not to define a whole new function(),then you will create a function that will allow you to focus on the function itself rather than think abt its name or place in ur work. thats where u can opt for using anonymous function"
   ]
  },
  {
   "cell_type": "markdown",
   "id": "734e37a0-5d44-4c9d-9ca7-4536611aa931",
   "metadata": {},
   "source": [
    "### LAMBDA FUNCTION FEATURES;\n",
    "* can have one or many parameters but can contain a single expression only\n",
    "* allow you to write just one line of code to include simple functionality in a more complex expression\n",
    "* unlike regular fns lambda expressions can only be applied to the larger expression they have been written in, they cannot be referenced elsewhere in\n",
    "  ur work"
   ]
  },
  {
   "cell_type": "code",
   "execution_count": null,
   "id": "05dbe7c8-8aea-44f2-8896-9f37a78c8fba",
   "metadata": {},
   "outputs": [],
   "source": [
    "def raise_to_the_power_of_2(x):\n",
    "    return x**2"
   ]
  },
  {
   "cell_type": "code",
   "execution_count": null,
   "id": "2a3bb65b-824c-456e-89c1-a4fea10636b8",
   "metadata": {},
   "outputs": [],
   "source": [
    "raise_to_the_power_of_2(3)"
   ]
  },
  {
   "cell_type": "code",
   "execution_count": null,
   "id": "fb431989-6936-4fbc-9803-b669afcc97a3",
   "metadata": {},
   "outputs": [],
   "source": [
    "# lets create a lambda expression that will execute same calculation. the syntax we need is the lambda keyword, parameter, colon\n",
    "# and an expression involving the same parameters\n",
    "\n",
    "lambda x: x**2\n",
    "\n",
    "# when you run this expression u will get this \"<function __main__.<lambda>(x)>\"\n",
    "# so we assign it to a variable"
   ]
  },
  {
   "cell_type": "code",
   "execution_count": null,
   "id": "5a9828f5-da1a-4752-a351-790f4f55c8e9",
   "metadata": {},
   "outputs": [],
   "source": [
    "raise_to_the_power_of_2_lambda = lambda x: x**2"
   ]
  },
  {
   "cell_type": "code",
   "execution_count": null,
   "id": "91e06775-1724-4d95-9c1a-4dca729c5eaf",
   "metadata": {},
   "outputs": [],
   "source": [
    "raise_to_the_power_of_2_lambda(3)"
   ]
  },
  {
   "cell_type": "code",
   "execution_count": null,
   "id": "f4b9c471-18fe-425e-a5ec-d30ad412f03f",
   "metadata": {},
   "outputs": [],
   "source": [
    "(lambda x: x/2)(11)"
   ]
  },
  {
   "cell_type": "code",
   "execution_count": null,
   "id": "81cd71e1-3674-4b5a-b969-684b631463b5",
   "metadata": {},
   "outputs": [],
   "source": [
    "(lambda x: (2+5 * x ** 4) ** 2 / (x+3) **3)(2)"
   ]
  },
  {
   "cell_type": "code",
   "execution_count": null,
   "id": "02327696-a137-4bbf-94a6-695bde17eb50",
   "metadata": {},
   "outputs": [],
   "source": [
    "#LAMBDA FUNCTION CAN HAVE MULTIPLE PARAMETERS\n",
    "\n",
    "sum_xy = lambda x,y: x+y\n",
    "sum_xy(2,3)"
   ]
  },
  {
   "cell_type": "code",
   "execution_count": null,
   "id": "ff5489f4-9c60-4bd1-aab2-3c8c70b0439c",
   "metadata": {},
   "outputs": [],
   "source": [
    "# Y does not neccessarily have to be a value it can also be a function(fn of x). say that we are interested in obtaining the sum of x and the output \n",
    "# of the function y within an arguement of x\n",
    "\n",
    "# sum_xy = lambda x, y: x+y(x)\n",
    "# sum_xy(2,3) \n",
    "# the above will give an error message (TypeError: 'int' object is not callable) bc the second arguement which is just an int. cannot correspond to a function\n",
    "# which is what y is in our lambda expression\n",
    "\n",
    "# sum_xy = lambda x, y: x+y(x)\n",
    "# sum_xy(2) \n",
    "# this will also give an error message (TypeError: <lambda>() missing 1 required positional argument: 'y'). this is bc x can be a numeric value but \n",
    "\n",
    "# y has to be a function since it was set to be a function in our expression earlier"
   ]
  },
  {
   "cell_type": "code",
   "execution_count": null,
   "id": "25fe26f6-fbf6-404a-8b22-2d65ada6fcd8",
   "metadata": {},
   "outputs": [],
   "source": [
    "sum_xy = lambda x, y: x+y(x)\n",
    "sum_xy(2, lambda x: x * 5) # this shows how lambda fn can be used in larger expression\n",
    "# thus this expression is a good example of how instead of defining a seperate fn with a name we use another lambda fn that will take the value of the \n",
    "# first arguement which is x and apply it in a calculation to return a certain output\n"
   ]
  },
  {
   "cell_type": "code",
   "execution_count": null,
   "id": "80c6629a-4542-4a8a-a6da-d46770cc1094",
   "metadata": {},
   "outputs": [],
   "source": [
    "lambda_value = (lambda x: (135 - (x) ** 3) ** 4 / (1+x) **5)(3)\n",
    "print(lambda_value)"
   ]
  },
  {
   "cell_type": "code",
   "execution_count": null,
   "id": "4e1b5090-7d75-4fe2-9374-5e1d297cd0fa",
   "metadata": {},
   "outputs": [],
   "source": [
    "import pandas as pd"
   ]
  },
  {
   "cell_type": "markdown",
   "id": "bace73e9-1da8-4b15-aae2-3ee8d69d1331",
   "metadata": {},
   "source": [
    "### INTRO TO PANDAS SERIES\n",
    "SERIES is a single column data or a set of values that correspond to a single variable. so we can actually create a series object from a list\n",
    "Take note of indexing, The type of data we have stored in the series(dtype: object) and the data itself\n",
    "The default datatype assigned to data which is not numeric is object"
   ]
  },
  {
   "cell_type": "code",
   "execution_count": null,
   "id": "146d9420-57c9-428d-a544-a3dd5afa01f7",
   "metadata": {},
   "outputs": [],
   "source": [
    "products = ['A','B','C','D']\n",
    "products"
   ]
  },
  {
   "cell_type": "code",
   "execution_count": null,
   "id": "b69cf849-8b62-46da-9e5e-0adacb058113",
   "metadata": {},
   "outputs": [],
   "source": [
    "type(products)"
   ]
  },
  {
   "cell_type": "code",
   "execution_count": null,
   "id": "89298d10-c18a-4bd1-b1ae-a4ddeff021de",
   "metadata": {},
   "outputs": [],
   "source": [
    "products_categories = pd.Series(products)\n",
    "products_categories"
   ]
  },
  {
   "cell_type": "code",
   "execution_count": null,
   "id": "914a86cf-71b4-4381-be8b-50462d99f187",
   "metadata": {},
   "outputs": [],
   "source": [
    "type(products_categories)"
   ]
  },
  {
   "cell_type": "code",
   "execution_count": null,
   "id": "e5815296-522f-4b75-8f40-11ec4ff8f017",
   "metadata": {},
   "outputs": [],
   "source": [
    "# OR\n",
    "type(pd.Series(products))"
   ]
  },
  {
   "cell_type": "code",
   "execution_count": null,
   "id": "90046fe9-1454-4b0c-b5a7-9006e07b8bb6",
   "metadata": {},
   "outputs": [],
   "source": [
    "daily_rates_dollars = pd.Series([40,45,50,60])\n",
    "daily_rates_dollars"
   ]
  },
  {
   "cell_type": "code",
   "execution_count": null,
   "id": "4957a5a8-d2c7-4da3-856e-271ff8f49a76",
   "metadata": {},
   "outputs": [],
   "source": [
    "print(daily_rates_dollars)"
   ]
  },
  {
   "cell_type": "code",
   "execution_count": null,
   "id": "99b2f00d-af7b-4590-915d-d6bbdad55e07",
   "metadata": {},
   "outputs": [],
   "source": [
    "# Recall that pd.Series object corresponds to the 1D numpy array structure. this means we can create a new series by using a numpy array\n",
    "import numpy as np"
   ]
  },
  {
   "cell_type": "code",
   "execution_count": null,
   "id": "8d487e82-6285-4aa8-a282-97ff15ca734d",
   "metadata": {},
   "outputs": [],
   "source": [
    "array_a = np.array([10,20,30,40,50])\n",
    "array_a\n"
   ]
  },
  {
   "cell_type": "code",
   "execution_count": null,
   "id": "501f7b8a-fe7f-4e7b-8252-680cdd1ed587",
   "metadata": {},
   "outputs": [],
   "source": [
    "type(array_a)"
   ]
  },
  {
   "cell_type": "code",
   "execution_count": null,
   "id": "f5f96e3e-1deb-49b6-bb72-f68f50437fe3",
   "metadata": {},
   "outputs": [],
   "source": [
    "print(array_a)"
   ]
  },
  {
   "cell_type": "code",
   "execution_count": null,
   "id": "59111ddd-6539-44a1-98a3-dce6f36eaf24",
   "metadata": {},
   "outputs": [],
   "source": [
    "series_a = pd.Series(array_a)\n",
    "series_a"
   ]
  },
  {
   "cell_type": "code",
   "execution_count": null,
   "id": "045f4835-460e-4981-84df-92c582dacaa1",
   "metadata": {},
   "outputs": [],
   "source": [
    "type(series_a)"
   ]
  },
  {
   "cell_type": "markdown",
   "id": "8e08de98-5fb1-44e7-85dc-6707dcc1aafa",
   "metadata": {},
   "source": [
    "### KEY TAKEAWAYS\n",
    "* the pandas series object is something like a powerful version of the python list, or an enhanced version of the numpy array. this is not to say that series should be the preferred choice bw the 3 no matter what\n",
    " there is always a trade_off bw what you want to obtain from your data vs speed and precision with which you can do that\n",
    " However if in a given situation you have opted for using a series; this will entail working with larger set of tools and capabilities that are petinent to the pandas library only. this tools and capabilities are often related to the fact that series object stores its values in a sequenced order and has an explicit index. but only as you get more practice with coding and pandas will you be able to discover these advantages in-depth from a technical perspective\n",
    "* Remember to always maintain data consistency(never mix up the data type)"
   ]
  },
  {
   "cell_type": "markdown",
   "id": "8bbbdd84-d8c9-42c7-8813-e90e1426bd53",
   "metadata": {},
   "source": [
    "## working with methods in python"
   ]
  },
  {
   "cell_type": "markdown",
   "id": "af1fd700-5dcb-4625-b819-9e1379f38de5",
   "metadata": {},
   "source": [
    "#### Almost every entity in python is an object containing data and typically metadata and some fnalities. therefore we can say that a python object is associated with a certain collection of attributes and methods.\n",
    "* Attributes provide the metadata while methods relates to the fnality and behaviour of the object\n",
    "* Attributes are somehow passive since they can only deliver infor abt a given dataset while methods are active in the sense that they actually work with data stored in the object\n",
    "* Both tools are similar bc when provided with some initial data, they can make specific operations with it and return an output. However a function is an independent entity in the sense that it is not associated with an object by construction. methods from a given package is generally applied to an object of a certain class, more precisely when called or invoked, a method can have access to the object's data and can also manipulate the object state\n",
    "* Since we cant use a method unless there is an object to associate it with, diff libraries contain there own set of methods; thus they can be applied to the types of object associated with these libraries only. for instance there's a certain grp of methods in pandas that are specific to the series object(they cannot be used on dataframes or objects belonging to other pachages)\n",
    "\n",
    "* some well known pandas series method can also be applied in numpy methods as \n",
    "* USING METHODS IS AN EFFICIENT WAY TO OBTAIN IMPORTANT INFOR FROM OUR DATASET( AND NOT ABOUT THE DATASET)"
   ]
  },
  {
   "cell_type": "code",
   "execution_count": null,
   "id": "0a151a2e-0728-478d-b071-92eb22e836ec",
   "metadata": {},
   "outputs": [],
   "source": [
    "start_date_deposits = pd.Series({\n",
    "    '7/4/2014'  : 2000,\n",
    "    '1/2/2015'  : 2000,\n",
    "    '12/8/2012' : 1000,\n",
    "    '2/20/2015' : 2000,\n",
    "    '12/8/2014' : 2000,\n",
    "    '10/28/2014' : 2000,\n",
    "    '7/4/2014'  : 2000,\n",
    "    '7/4/2014'  : 2000,\n",
    "    '10/3/2014' : 2000,\n",
    "    '5/1/2014'  : 2000,\n",
    "    '9/18/2015' : 2000,\n",
    "    '9/3/2015'  : 4000,\n",
    "})"
   ]
  },
  {
   "cell_type": "code",
   "execution_count": null,
   "id": "bfa50781-50e2-4eb9-a372-2e916b513f08",
   "metadata": {},
   "outputs": [],
   "source": [
    "start_date_deposits"
   ]
  },
  {
   "cell_type": "code",
   "execution_count": null,
   "id": "b89261c3-e5d1-47d4-a33c-4964521eb575",
   "metadata": {},
   "outputs": [],
   "source": [
    "start_date_deposits.sum()"
   ]
  },
  {
   "cell_type": "code",
   "execution_count": null,
   "id": "4d9fdfdb-6c2a-4da7-a46b-8ce0216e4edf",
   "metadata": {},
   "outputs": [],
   "source": [
    "start_date_deposits.min() # return the minimum of the values for the vertical axis"
   ]
  },
  {
   "cell_type": "code",
   "execution_count": null,
   "id": "ba073e88-2bb5-4744-9c3d-c17dbc0ebf99",
   "metadata": {},
   "outputs": [],
   "source": [
    "start_date_deposits.max()"
   ]
  },
  {
   "cell_type": "code",
   "execution_count": null,
   "id": "d29b6bb2-6eef-4b86-a94c-6658aa9acfd0",
   "metadata": {},
   "outputs": [],
   "source": [
    "### idmax()- index label corresponding to the highest value in a series. idx stands for index\n",
    "\n",
    "start_date_deposits.idxmax()"
   ]
  },
  {
   "cell_type": "code",
   "execution_count": null,
   "id": "3b6d94b7-bd89-4450-9eaa-47560a5d12c4",
   "metadata": {},
   "outputs": [],
   "source": [
    "# idxmin()- delivers the start date of the deposit with the smallest value\n",
    "start_date_deposits.idxmin()"
   ]
  },
  {
   "cell_type": "markdown",
   "id": "26106d15-ce79-496f-95e2-4e021b5ad14e",
   "metadata": {},
   "source": [
    "### working with methods in python pt2\n",
    "* what kind of methods exist in pandas and why? Recall that pandas is a lib which steps on the computational abilities of Numpy and thats why one part of the methods in pandas are Numpy-based and can be condidered mathematical; sum,min,max,idxmin,idxmax are examples\n",
    "* identical math methods exists in 2 seperate libraries of same language: if we can be certain that our data frame contains numeric data only we will most probably use Numpy and its methods bc of its computational abilities but if u know that u will have to work with datasets containing both numeric and non-numeric data, then storing the data in pandas series or dataframe object will set the ground for good analysi. fortunately bc of the duplication we mentioned, if you happen to be in this scenario pandas wont deprive you of certain mathematical operations when you need them\n",
    "\n",
    "*Non-math methods in pandas are specific to pandas. they are; head(), tail()"
   ]
  },
  {
   "cell_type": "code",
   "execution_count": null,
   "id": "012c5508-47e6-41e5-9140-01df41b19537",
   "metadata": {},
   "outputs": [],
   "source": [
    "start_date_deposits = pd.Series({\n",
    "    '7/4/2014'  : 2000,\n",
    "    '1/2/2015'  : 2000,\n",
    "    '12/8/2012' : 1000,\n",
    "    '2/20/2015' : 2000,\n",
    "    '12/8/2014' : 2000,\n",
    "    '7/9/2014'  : 3000,\n",
    "    '10/28/2014' : 2000,\n",
    "    '7/4/2014'  : 2000,\n",
    "    '7/4/2014'  : 2000,\n",
    "    '10/3/2014' : 2000,\n",
    "    '5/1/2014'  : 2000,\n",
    "    '9/18/2015' : 2000,\n",
    "    '9/3/2015'  : 4000,\n",
    "})"
   ]
  },
  {
   "cell_type": "code",
   "execution_count": null,
   "id": "53cce2af-cc85-451d-b554-077f37ebfdef",
   "metadata": {},
   "outputs": [],
   "source": [
    "start_date_deposits.head()"
   ]
  },
  {
   "cell_type": "code",
   "execution_count": null,
   "id": "d0815006-a215-4f16-8902-6b8b1264f499",
   "metadata": {},
   "outputs": [],
   "source": [
    "start_date_deposits.tail()"
   ]
  },
  {
   "cell_type": "markdown",
   "id": "cfe2c2f9-caa3-4c19-ac9b-6599a570902a",
   "metadata": {},
   "source": [
    "### PARAMETERS AND ARGUEMENTS IN PANDAS\n",
    "* one of the best features of using methods is that we can also modify their performance. this can be achieved by knowing the parameters associated with a given method and then supplying the relevant arguements upon \n",
    "* The \"head()\" method provides us with the option to choose the number of displayed rows from the object it has been applied to. the fefault setting for the head() method is first five rows\n",
    "* In programming, the option to set the number of rows is called a parameter of that method (eg head() method)\n",
    "* The choice of the number in a given situation is referred to as an arguement. thus we can say that head() method allows us to modify the way in which the method will operate\n",
    "* the parameter of a python method or function always has a name\n",
    "* TAKEAWAY: pandas methods have parameters you can supply with arguements to modify the performance of the given method "
   ]
  },
  {
   "cell_type": "code",
   "execution_count": null,
   "id": "c60db898-11d1-4347-9537-224432539a73",
   "metadata": {},
   "outputs": [],
   "source": [
    "start_date_deposits = pd.Series({\n",
    "    '7/4/2014'  : 2000,\n",
    "    '1/2/2015'  : 2000,\n",
    "    '12/8/2012' : 1000,\n",
    "    '2/20/2015' : 2000,\n",
    "    '12/8/2014' : 2000,\n",
    "    '7/9/2014'  : 3000,\n",
    "    '10/28/2014' : 2000,\n",
    "    '7/4/2014'  : 2000,\n",
    "    '7/4/2014'  : 2000,\n",
    "    '10/3/2014' : 2000,\n",
    "    '5/1/2014'  : 2000,\n",
    "    '9/18/2015' : 2000,\n",
    "    '9/3/2015'  : 4000,\n",
    "})"
   ]
  },
  {
   "cell_type": "code",
   "execution_count": null,
   "id": "80eaa920-f00b-4b7b-82e8-fd8c8133fb2d",
   "metadata": {},
   "outputs": [],
   "source": [
    "start_date_deposits.head(3)\n",
    "\n",
    "# we can choose or be specific about the number of rows we want displayed lets say (3) or (10)\n"
   ]
  },
  {
   "cell_type": "code",
   "execution_count": null,
   "id": "dfb90bfb-2396-407e-9086-0f46f6f6e702",
   "metadata": {},
   "outputs": [],
   "source": [
    "# Regarding the head method, the name of the parameter we referred to as number of rows is called \"n\". \n",
    "# this technique becomes particularly handy when a method has several parameters, the benefits of using parameter names explicitly and\n",
    "# in the right order to inform the reader exactly what parameters you are providing the arguements for. thus avoiding ambiguity in what the supplied\n",
    "# arguements are supposed to be used for. on the contary the head() method has a single parameter only\n",
    "start_date_deposits.head(n=10)"
   ]
  },
  {
   "cell_type": "markdown",
   "id": "d61d420f-f692-4f6e-a885-b400398cff81",
   "metadata": {},
   "source": [
    "## USING Pandas Series: .unique() and nunique()"
   ]
  },
  {
   "cell_type": "code",
   "execution_count": null,
   "id": "99fd61d7-27e4-4483-a56a-000a077d24ab",
   "metadata": {},
   "outputs": [],
   "source": [
    "import pandas as pd"
   ]
  },
  {
   "cell_type": "code",
   "execution_count": null,
   "id": "3ee10f5b-6847-4903-a221-78a120aa94d1",
   "metadata": {},
   "outputs": [],
   "source": [
    "# recall that pandas series object represents a single column data or a set of observation related to a single variable. it corresponds to the 1D Numpy \n",
    "# array structure\n",
    "\n",
    "data = pd.read_csv('Location.csv', squeeze = True)\n",
    "location_data = data.copy()\n",
    "location_data.head()"
   ]
  },
  {
   "cell_type": "code",
   "execution_count": null,
   "id": "b9361983-3a63-4b16-84fe-3827f8fdf284",
   "metadata": {},
   "outputs": [],
   "source": [
    "type(location_data)"
   ]
  },
  {
   "cell_type": "code",
   "execution_count": null,
   "id": "5d2f8984-f8dd-486c-a120-35f351b48602",
   "metadata": {},
   "outputs": [],
   "source": [
    "# since it is pd series a data scientist will swiftly apply the .describe() method which gives us an overview of the data\n",
    "location_data.describe()\n",
    "\n",
    "# top designate the most common value while the penultimate row its frequency: therefore in our case the string 'location 25'\n",
    "# can be encountered 31 times\n",
    "# the 2nd number although cited as unique in the output of the describe method intends to provide the number of unique values \n",
    "# thats why the relevant pandas method is called \"nunique()\""
   ]
  },
  {
   "cell_type": "code",
   "execution_count": null,
   "id": "3ba6f905-6930-41c8-a94f-a7377d24d6fa",
   "metadata": {},
   "outputs": [],
   "source": [
    "len(location_data)"
   ]
  },
  {
   "cell_type": "code",
   "execution_count": null,
   "id": "5eb233cc",
   "metadata": {},
   "outputs": [],
   "source": [
    "location_data.nunique()"
   ]
  },
  {
   "cell_type": "code",
   "execution_count": null,
   "id": "5be41f7c",
   "metadata": {},
   "outputs": [],
   "source": [
    "type(location_data.nunique())"
   ]
  },
  {
   "cell_type": "code",
   "execution_count": null,
   "id": "088bf571",
   "metadata": {
    "scrolled": true
   },
   "outputs": [],
   "source": [
    "location_data.unique()\n",
    "\n",
    "# the unique() method delivers the values in the order they have apeared in the dataset. it can be useful when checking if a\n",
    "# particular value has been stored within the data"
   ]
  },
  {
   "cell_type": "code",
   "execution_count": null,
   "id": "9f7a562a",
   "metadata": {},
   "outputs": [],
   "source": [
    " type(location_data.unique())"
   ]
  },
  {
   "cell_type": "markdown",
   "id": "3a0170c2",
   "metadata": {},
   "source": [
    "## Pandas Series: .sort_values()\n",
    "* The .sort_values() is used to order all rows from a data table not by its index, but according to the values of just one or a few of the columns"
   ]
  },
  {
   "cell_type": "code",
   "execution_count": null,
   "id": "205d4d26",
   "metadata": {},
   "outputs": [],
   "source": [
    "import pandas as pd"
   ]
  },
  {
   "cell_type": "code",
   "execution_count": null,
   "id": "6d21826f",
   "metadata": {},
   "outputs": [],
   "source": [
    "numbers = pd.Series([15, 1000, 23, 45, 444])\n",
    "numbers"
   ]
  },
  {
   "cell_type": "code",
   "execution_count": null,
   "id": "5cfcf083",
   "metadata": {},
   "outputs": [],
   "source": [
    "numbers.sort_values()\n",
    "\n",
    "# by default the sort_values() sorts the value of the series in ascending order"
   ]
  },
  {
   "cell_type": "code",
   "execution_count": null,
   "id": "258fe562",
   "metadata": {},
   "outputs": [],
   "source": [
    "numbers.sort_values(ascending=True)"
   ]
  },
  {
   "cell_type": "code",
   "execution_count": null,
   "id": "a2661823",
   "metadata": {},
   "outputs": [],
   "source": [
    "numbers.sort_values(ascending=False)"
   ]
  },
  {
   "cell_type": "code",
   "execution_count": null,
   "id": "9009cfc2",
   "metadata": {},
   "outputs": [],
   "source": [
    "data = pd.read_csv('Location.csv', squeeze = True)\n",
    "location_data = data.copy()\n",
    "location_data.head()"
   ]
  },
  {
   "cell_type": "code",
   "execution_count": null,
   "id": "42ac624a",
   "metadata": {},
   "outputs": [],
   "source": [
    "location_data.sort_values()\n",
    "\n",
    "# when applying the default version of the sort values method to location data, the infor wont be arranged numerically like l\n",
    "# -location 1,2,3 etc instead the values will be sorted alphabetically ie THEY WILL BE TREATED AS LABELS NOT INTEGERS\n",
    "\n",
    "# the index values instead comply with the objects data that will lead the way"
   ]
  },
  {
   "cell_type": "code",
   "execution_count": null,
   "id": "3bddfb96",
   "metadata": {},
   "outputs": [],
   "source": [
    "location_data.sort_values(ascending=True)"
   ]
  },
  {
   "cell_type": "code",
   "execution_count": null,
   "id": "8d0c8203",
   "metadata": {},
   "outputs": [],
   "source": [
    "location_data.sort_values(ascending=False)"
   ]
  },
  {
   "cell_type": "markdown",
   "id": "a2fddea8",
   "metadata": {},
   "source": [
    "### INTRO TO PANDAS DATAFRAME\n",
    "* A Dataframe is a multi-column data where each column represent a different variable; it is the most important structure int     the pandas library\n",
    "* Every column can contain data of its own type\n",
    "* the infor in the dataframe can be heterogeneous. it doesnt need to be of a single type as is the case with series\n",
    "* this allows us to preserve data consistency\n",
    "DATAFRAME is a collection of multiple series objects so any characteristics of a series u can think of is also applicable to the seperate columns of a dataframe\n",
    "* DATAFRAME is a 2D structure bc its data has been organised not only into rows but also into columns, thus representing tabular structure and is the closest python analog we can have to a std 2D dataset. DF is a collection of series\n",
    "* In a dataframe we need 2 points of reference (row index and column index), if you use just one point of reference in a DF. you will obtain an entire row or column\n",
    "* SERIES- the indexing relates to the keys of a dictionary, it also allows us to extract the desired parts of the given dataset\n",
    " more quickly and efficiently\n",
    "\n",
    "* DATAFRAME- we can provide a whole object that that contains the values of an entire column to the dictionary keys, it inherits   the characteristics of the dictionary class plus lot more features and functionalities"
   ]
  },
  {
   "cell_type": "code",
   "execution_count": null,
   "id": "65b940f1",
   "metadata": {},
   "outputs": [],
   "source": [
    "import pandas as pd\n",
    "import numpy as np"
   ]
  },
  {
   "cell_type": "code",
   "execution_count": null,
   "id": "b50bb613",
   "metadata": {},
   "outputs": [],
   "source": [
    "# DF is a tabular structure that contains multiple observations for a given set of variables\n",
    "array_a = np.array([[3, 2, 1], [6, 3, 2]])\n",
    "array_a"
   ]
  },
  {
   "cell_type": "code",
   "execution_count": null,
   "id": "2dbfe02c",
   "metadata": {},
   "outputs": [],
   "source": [
    "# create a dataframe out of array_a\n",
    "pd.DataFrame(array_a)\n",
    "\n",
    "# \"pd.DataFrame\" is pandas dataframe constructor\n",
    "\n",
    "# recall that when not being explicit abt indexing and column names while creating a dataframe, the default int indexing will be \n",
    "# implicitly assigned to both"
   ]
  },
  {
   "cell_type": "code",
   "execution_count": null,
   "id": "77a3532a",
   "metadata": {},
   "outputs": [],
   "source": [
    "type(pd.DataFrame(array_a))"
   ]
  },
  {
   "cell_type": "code",
   "execution_count": null,
   "id": "65f0efb8",
   "metadata": {},
   "outputs": [],
   "source": [
    "# df is the conventional name for a dataframe variable\n",
    "df = pd.DataFrame(array_a, columns = ['Column 1', 'Column 2', 'Column 3'])\n",
    "df"
   ]
  },
  {
   "cell_type": "code",
   "execution_count": null,
   "id": "a6f5c3e4",
   "metadata": {},
   "outputs": [],
   "source": [
    "df = pd.DataFrame(array_a, columns = ['Column 1', 'Column 2', 'Column 3'], index = ['Row 1', 'Row 2'])\n",
    "df"
   ]
  },
  {
   "cell_type": "code",
   "execution_count": null,
   "id": "94dffbaa",
   "metadata": {},
   "outputs": [],
   "source": [
    "data = pd.read_csv('Lending-company.csv', index_col = 'LoanID')\n",
    "lending_co_data = data.copy()\n",
    "lending_co_data.head()"
   ]
  },
  {
   "cell_type": "code",
   "execution_count": null,
   "id": "d630c4cf",
   "metadata": {},
   "outputs": [],
   "source": [
    "type(lending_co_data)   "
   ]
  },
  {
   "cell_type": "markdown",
   "id": "b2c2a922",
   "metadata": {},
   "source": [
    "## pandas DataFrames - Common Attributes"
   ]
  },
  {
   "cell_type": "code",
   "execution_count": null,
   "id": "67c1487d",
   "metadata": {},
   "outputs": [],
   "source": [
    "data = pd.read_csv('Lending-company.csv', index_col = 'LoanID')\n",
    "lending_co_data = data.copy()\n",
    "lending_co_data.head()"
   ]
  },
  {
   "cell_type": "code",
   "execution_count": null,
   "id": "e5a8d53f",
   "metadata": {},
   "outputs": [],
   "source": [
    "# INDEX attribute is used to obtain an object containing our DataFrames index elements. dont mistake this numbering for the\n",
    "# default integer index which would have started from zero to 1042\n",
    "lending_co_data.index"
   ]
  },
  {
   "cell_type": "code",
   "execution_count": null,
   "id": "308eccd4",
   "metadata": {},
   "outputs": [],
   "source": [
    "type(lending_co_data.index)"
   ]
  },
  {
   "cell_type": "code",
   "execution_count": null,
   "id": "17bebb62",
   "metadata": {},
   "outputs": [],
   "source": [
    "# the .columns attribute is used when you want to adjust or reorganise the columns of a dataframe. they can be used as a point of\n",
    "# reference when referring to a data value. it is of the index type this is bc column names act as index when u are looking at \n",
    "# the table horizontally \n",
    "lending_co_data.columns"
   ]
  },
  {
   "cell_type": "code",
   "execution_count": null,
   "id": "21fd3b33",
   "metadata": {},
   "outputs": [],
   "source": [
    "type(lending_co_data.columns)"
   ]
  },
  {
   "cell_type": "code",
   "execution_count": null,
   "id": "510bcaf1",
   "metadata": {},
   "outputs": [],
   "source": [
    "# THE \"axes\" attribute is used to combine the output of the index and columns attribute in the same field\n",
    "lending_co_data.axes"
   ]
  },
  {
   "cell_type": "code",
   "execution_count": null,
   "id": "539288f7",
   "metadata": {},
   "outputs": [],
   "source": [
    "# \"dtype\"- dataframe attribute displays all column names on the left and their corresponding data types on the right. this infor \n",
    "# is constantly needed through out the data cleaning and preprocessing stages of analysis. this is bc keepig track of the data\n",
    "# consistency is main goal of a data analyst\n",
    "lending_co_data.dtypes"
   ]
  },
  {
   "cell_type": "code",
   "execution_count": null,
   "id": "4e7ad4aa",
   "metadata": {},
   "outputs": [],
   "source": [
    "# \".values\" will deliver a two dimensional numpy array representation of the values of the object. thus every row from lending_co\n",
    "# _data will be stored in an array and all the inner 1D arrays will be stored together in 1 2D outer array\n",
    "lending_co_data.values"
   ]
  },
  {
   "cell_type": "code",
   "execution_count": null,
   "id": "ac05df4c",
   "metadata": {},
   "outputs": [],
   "source": [
    "type(lending_co_data.values)"
   ]
  },
  {
   "cell_type": "code",
   "execution_count": null,
   "id": "a33197e6",
   "metadata": {},
   "outputs": [],
   "source": [
    "# similar to the case about series, pandas developers advice us to switch to the \"to_numpy\" method when we need to convert our \n",
    "# dataframe into a numpy array. \n",
    "# \".values\" and \".to_numpy\" intend to solve certain compatibility issues in long term. the two techniques lead to identical\n",
    "# outcomes\n",
    "\n",
    "# ALWAYS REMEMBER THAT THERE IS A SOLID RELATIONSHIP BW PANDAS DATAFRAME AND NUMPY 2D ARRAY. this connection can be exploited \n",
    "# through a quick conversion of the object type from a DataFrame into an array\n",
    "\n",
    "lending_co_data.to_numpy()"
   ]
  },
  {
   "cell_type": "code",
   "execution_count": null,
   "id": "d2fb2fdf",
   "metadata": {},
   "outputs": [],
   "source": [
    "# \".shape\" when applied to a dataframe gives us a tuple that will show you the dimensionality of the object and the number of the \n",
    "# elements there are in each dimension ie 1043 rows and 14 columns. NOTE that the index column is not included in the representation\n",
    "lending_co_data.shape"
   ]
  },
  {
   "cell_type": "code",
   "execution_count": null,
   "id": "185a0f21",
   "metadata": {},
   "outputs": [],
   "source": [
    "# the 'len' fn confirms the index column is not included in the representation\n",
    "len(lending_co_data.columns)"
   ]
  },
  {
   "cell_type": "markdown",
   "id": "3670c589",
   "metadata": {},
   "source": [
    "## Data Selection in pandas DataFrames\n",
    "data selection or subset selection in a pandas dataframe  means extracting elements, rows, columns, or subsets from such an object. it allows us to work on just a portion of the dataset. one way to do dataselection is through indexing\n",
    "* indexing- using one or both types of indexes (row and column index) to access or select specific parts of the data. or it is providing certain values as a row or column specifiers (or indexers) with which we can point to specific rows or columns of the dataset so we can extract a specific entry or a desired subset in our data"
   ]
  },
  {
   "cell_type": "code",
   "execution_count": null,
   "id": "0c8bc6fd",
   "metadata": {},
   "outputs": [],
   "source": [
    "import pandas as pd"
   ]
  },
  {
   "cell_type": "code",
   "execution_count": null,
   "id": "8c381ea5",
   "metadata": {},
   "outputs": [],
   "source": [
    "data = pd.read_csv('Lending-company.csv', index_col = 'StringID')\n",
    "lending_co_data = data.copy()\n",
    "lending_co_data.head()\n",
    "  "
   ]
  },
  {
   "cell_type": "code",
   "execution_count": null,
   "id": "4772c1e7",
   "metadata": {},
   "outputs": [],
   "source": [
    "# one option is to use an attribute type of access\n",
    "lending_co_data.Product"
   ]
  },
  {
   "cell_type": "code",
   "execution_count": null,
   "id": "c6795776",
   "metadata": {},
   "outputs": [],
   "source": [
    "# one option is to use an attribute type od access\n",
    "lending_co_data.Location"
   ]
  },
  {
   "cell_type": "code",
   "execution_count": null,
   "id": "33ccd0df",
   "metadata": {},
   "outputs": [],
   "source": [
    "# option 2 is to use the indexing operator. in terms of syntax, this means adding '[]' right after the objects name to specify \n",
    "# the operations during the indexing preocess. this technique allows us to provide the column name of interest as a string\n",
    "\n",
    "# THE INDEXING OPERATOR IS MORE PROFESSIONAL BC IT WILL STILL WORK EVEN IF THE COLUMN NAME OF INTEREST CONTAINS WHITESPACE CHARACTERS\n",
    "# EG in attribute type of access 'lending_co_data.Product_price' will give an error. \n",
    "# to be totally safe you can write name in camelcase(ie joining all the letters of a variable)\n",
    "\n",
    "lending_co_data['Product']"
   ]
  },
  {
   "cell_type": "markdown",
   "id": "bb362690",
   "metadata": {},
   "source": [
    "### POINTS TO NOTE\n",
    "* Remember python is case sensitive\n",
    "* when you place a column name bw just a single pair of brackets you will obtain a series object\n",
    "* if we want to obtain a df albeit composed of a single column, we need to use double brackets around the string location. this   means we should place a nested list containing a single element\n",
    "* Nesting a list within the indexing operator is most needed when we want to extract data from several columns. note that the     column names dont have to be in the order provided in the dataset. python requires comma bw the 2 columns and good coding       practice requires a whitespace after the comma to improve legibility  "
   ]
  },
  {
   "cell_type": "code",
   "execution_count": null,
   "id": "3854c8da",
   "metadata": {},
   "outputs": [],
   "source": [
    " type(lending_co_data['Location'])"
   ]
  },
  {
   "cell_type": "code",
   "execution_count": null,
   "id": "96477fa6",
   "metadata": {},
   "outputs": [],
   "source": [
    "lending_co_data[['Location']]"
   ]
  },
  {
   "cell_type": "code",
   "execution_count": null,
   "id": "5b31fc20",
   "metadata": {},
   "outputs": [],
   "source": [
    "type(lending_co_data[['Location']])"
   ]
  },
  {
   "cell_type": "code",
   "execution_count": null,
   "id": "0a26b58e",
   "metadata": {},
   "outputs": [],
   "source": [
    "lending_co_data[['Location', 'Product']].head()"
   ]
  },
  {
   "cell_type": "code",
   "execution_count": null,
   "id": "95e90d9f",
   "metadata": {},
   "outputs": [],
   "source": [
    "# a more elegant way to get the same result it to store the list containing the column names in a seperate variable that can be\n",
    "# nested within the square brackets of the indexing operator. this method allows coders to store several column names in the \n",
    "# given variable while assigning a more appropriate name to it\n",
    "\n",
    "prod_loc = ['Location', 'Product']\n",
    "lending_co_data[prod_loc].head()"
   ]
  },
  {
   "cell_type": "code",
   "execution_count": null,
   "id": "3a5e6940",
   "metadata": {},
   "outputs": [],
   "source": [
    "# to verify that using double bracket is the only way to obtain a dataframe execute the code below within a single pair of bracket\n",
    "# it will give an error\n",
    "# lending_co_data['Product', 'Location']"
   ]
  },
  {
   "cell_type": "markdown",
   "id": "2fb6efdd",
   "metadata": {},
   "source": [
    "### PANDAS DF- INDEXING WITH .iloc[]\n",
    "iloc is a property but in practice but in practice it is regarded as an attribute indexer or an accessor. iloc[] is used for purely int. location based indexing or selection by position hence the name iloc\n",
    "* same rule apply for indexing python list, pandas series by index position and pandas series and df with .iloc[], this is bc python handlles list and array type structure such as the pandas df in the same way\n",
    "* what distinguishes method is using strict implicit, integer-location, position based indexing"
   ]
  },
  {
   "cell_type": "code",
   "execution_count": null,
   "id": "76239440",
   "metadata": {},
   "outputs": [],
   "source": [
    "import pandas as pd"
   ]
  },
  {
   "cell_type": "code",
   "execution_count": null,
   "id": "333d494b",
   "metadata": {},
   "outputs": [],
   "source": [
    "data = pd.read_csv('Lending-company.csv', index_col = 'StringID')\n",
    "lending_co_data = data.copy()\n",
    "lending_co_data.head()"
   ]
  },
  {
   "cell_type": "code",
   "execution_count": null,
   "id": "8c921c38",
   "metadata": {},
   "outputs": [],
   "source": [
    "# lending_co_data[1]\n",
    "\n",
    "# THIS WILL GIVE AN ERROR MESSAGE"
   ]
  },
  {
   "cell_type": "code",
   "execution_count": null,
   "id": "95c586ce",
   "metadata": {},
   "outputs": [],
   "source": [
    "# lending_co_data[0,1]\n",
    "\n",
    "# THIS WILL ALSO GIVE AN ERROR MESSAGE"
   ]
  },
  {
   "cell_type": "code",
   "execution_count": null,
   "id": "5de7e34f",
   "metadata": {},
   "outputs": [],
   "source": [
    "lending_co_data['Product']"
   ]
  },
  {
   "cell_type": "code",
   "execution_count": null,
   "id": "64dd242c",
   "metadata": {},
   "outputs": [],
   "source": [
    "# To implicitly index by an int. we use iloc\n",
    "\n",
    "lending_co_data.iloc[1] \n",
    "\n",
    "# this will give the second row of our dataset. in this case, the value of one acts as a row specifier or indexer."
   ]
  },
  {
   "cell_type": "code",
   "execution_count": null,
   "id": "4cba06d1",
   "metadata": {},
   "outputs": [],
   "source": [
    "lending_co_data.iloc[1, 3]\n",
    "\n",
    "# ie we specify the 2nd row and 4th column as indexing starts from zero\n",
    "\n",
    "# when applied on a dataframe, iloc accessor can specify the location of the desired subset by providing a column specifier \n",
    "# as well. to do that we need to add a COMA, a WHITESPACE character and the value of interest(the column position we want to \n",
    "# use as an identifier)\n",
    "\n",
    "# .iloc[] has been programmed to deliver the desired portion of the dataset whether we provide 1 or 2 location specifiers"
   ]
  },
  {
   "cell_type": "code",
   "execution_count": null,
   "id": "7f89aecf",
   "metadata": {},
   "outputs": [],
   "source": [
    "lending_co_data.iloc[1,:]\n",
    "\n",
    "# this gives the entire second row of the dataset\n",
    "# (:) is used to indicate data from all rows or columns"
   ]
  },
  {
   "cell_type": "code",
   "execution_count": null,
   "id": "4c44a9f5",
   "metadata": {},
   "outputs": [],
   "source": [
    "lending_co_data.iloc[:, 3] \n",
    "\n",
    "# this gives all rows and column 3 only\n",
    "# always use the accessor specifier in pairs"
   ]
  },
  {
   "cell_type": "code",
   "execution_count": null,
   "id": "a2adbfed",
   "metadata": {},
   "outputs": [],
   "source": [
    "type(lending_co_data.iloc[1, 3])"
   ]
  },
  {
   "cell_type": "code",
   "execution_count": null,
   "id": "ea25e6cf",
   "metadata": {},
   "outputs": [],
   "source": [
    "type(lending_co_data.iloc[1, :])"
   ]
  },
  {
   "cell_type": "code",
   "execution_count": null,
   "id": "61e94a8a",
   "metadata": {},
   "outputs": [],
   "source": [
    "type(lending_co_data.iloc[:, 3])"
   ]
  },
  {
   "cell_type": "code",
   "execution_count": null,
   "id": "2c04d5c8",
   "metadata": {},
   "outputs": [],
   "source": [
    "# to access several specific rows from the df\n",
    "lending_co_data.iloc[[1, 3], :]\n",
    "\n",
    "# this gives us the entire second and fourth rows. to do this we need to place a list containing the integers 1 and 3 before \n",
    "# the coma and the (:) to indicate we are interested in the entire row values"
   ]
  },
  {
   "cell_type": "code",
   "execution_count": null,
   "id": "6aa828b7",
   "metadata": {},
   "outputs": [],
   "source": [
    "# to access several specific columns from the df\n",
    "lending_co_data.iloc[:, [3, 1]]\n",
    "# this gives us the entire 4th and 2nd columns. to do this we need to place a list containing the integers 3 and 1 in that order\n",
    "# before the coma and the (:) to indicate we are interested in the entire column values"
   ]
  },
  {
   "cell_type": "markdown",
   "id": "c4f11231",
   "metadata": {},
   "source": [
    "## pandas DataFrames - Indexing with .loc[]"
   ]
  },
  {
   "cell_type": "code",
   "execution_count": null,
   "id": "fb76ab97",
   "metadata": {},
   "outputs": [],
   "source": [
    "import pandas as pd"
   ]
  },
  {
   "cell_type": "code",
   "execution_count": null,
   "id": "2bdecc40",
   "metadata": {},
   "outputs": [],
   "source": [
    "data = pd.read_csv('Lending-company.csv', index_col = 'StringID')\n",
    "lending_co_data = data.copy()\n",
    "lending_co_data\n"
   ]
  },
  {
   "cell_type": "code",
   "execution_count": null,
   "id": "c39d9470",
   "metadata": {},
   "outputs": [],
   "source": [
    "lending_co_data.loc['LoanID_3']\n",
    "\n",
    "# this outputs the 3rd row of our dataframe"
   ]
  },
  {
   "cell_type": "code",
   "execution_count": null,
   "id": "d9c27e91",
   "metadata": {},
   "outputs": [],
   "source": [
    "lending_co_data.loc['LoanID_3', :]"
   ]
  },
  {
   "cell_type": "code",
   "execution_count": null,
   "id": "a0edb178",
   "metadata": {},
   "outputs": [],
   "source": [
    "lending_co_data.loc['LoanID_3', 'Region']"
   ]
  },
  {
   "cell_type": "code",
   "execution_count": null,
   "id": "9f7ab57e",
   "metadata": {},
   "outputs": [],
   "source": [
    "lending_co_data['Location']"
   ]
  },
  {
   "cell_type": "code",
   "execution_count": null,
   "id": "64df1fa0",
   "metadata": {},
   "outputs": [],
   "source": [
    "# lending_co_data.loc['Location']\n",
    "\n",
    "# when trying to use the loc[] indexer to obtain a particular column this gives an error bc python thinks we are referring to a row \n",
    "# whose label is location and there is no such row label in the dataset"
   ]
  },
  {
   "cell_type": "code",
   "execution_count": null,
   "id": "676b3109",
   "metadata": {},
   "outputs": [],
   "source": [
    "# correction is to put (:), coma, whitespace and the column we want to retrieve in this case 'Location'\n",
    "\n",
    "lending_co_data.loc[:, 'Location']"
   ]
  },
  {
   "cell_type": "code",
   "execution_count": null,
   "id": "6f69e3fd",
   "metadata": {},
   "outputs": [],
   "source": [
    "lending_co_data.loc[:, 'Locations']\n",
    "\n",
    "# Always observe for typo errors"
   ]
  },
  {
   "cell_type": "code",
   "execution_count": null,
   "id": "cc18b9f0",
   "metadata": {},
   "outputs": [],
   "source": []
  }
 ],
 "metadata": {
  "kernelspec": {
   "display_name": "Python 3 (ipykernel)",
   "language": "python",
   "name": "python3"
  },
  "language_info": {
   "codemirror_mode": {
    "name": "ipython",
    "version": 3
   },
   "file_extension": ".py",
   "mimetype": "text/x-python",
   "name": "python",
   "nbconvert_exporter": "python",
   "pygments_lexer": "ipython3",
   "version": "3.12.7"
  }
 },
 "nbformat": 4,
 "nbformat_minor": 5
}
